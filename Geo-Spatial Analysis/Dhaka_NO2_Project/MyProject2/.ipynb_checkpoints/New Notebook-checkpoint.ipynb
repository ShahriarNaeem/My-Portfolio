{
 "cells": [
  {
   "cell_type": "code",
   "execution_count": 1,
   "metadata": {},
   "outputs": [
    {
     "name": "stdout",
     "output_type": "stream",
     "text": [
      "✅ Dhaka + Narayanganj boundary created at: C:\\Users\\Shahriar Rahman\\OneDrive\\Desktop\\GIS\\Dhaka_NO2_Project\\Raw_Data\\AOI_Boundary\\Dhaka_Narayanganj.shp\n"
     ]
    }
   ],
   "source": [
    "import arcpy\n",
    "arcpy.env.overwriteOutput = True\n",
    "\n",
    "input_shp = r\"C:\\Users\\Shahriar Rahman\\OneDrive\\Desktop\\GIS\\Dhaka_NO2_Project\\Raw_Data\\Bangladesh_shape_file\\gadm41_BGD_2.shp\"\n",
    "output_folder = r\"C:\\Users\\Shahriar Rahman\\OneDrive\\Desktop\\GIS\\Dhaka_NO2_Project\\Raw_Data\\AOI_Boundary\"\n",
    "output_shp = output_folder + r\"\\Dhaka_Narayanganj.shp\"\n",
    "\n",
    "# Create folder if not exists\n",
    "import os\n",
    "if not os.path.exists(output_folder):\n",
    "    os.makedirs(output_folder)\n",
    "\n",
    "# SQL Query\n",
    "sql = \"\\\"NAME_2\\\" = 'Dhaka' OR \\\"NAME_2\\\" = 'Narayanganj'\"\n",
    "\n",
    "# Select and export\n",
    "arcpy.analysis.Select(input_shp, output_shp, sql)\n",
    "\n",
    "print(\"✅ Dhaka + Narayanganj boundary created at:\", output_shp)\n"
   ]
  },
  {
   "cell_type": "code",
   "execution_count": 2,
   "metadata": {},
   "outputs": [
    {
     "name": "stdout",
     "output_type": "stream",
     "text": [
      "✅ Clipped: C:\\Users\\Shahriar Rahman\\OneDrive\\Desktop\\GIS\\Dhaka_NO2_Project\\Raw_Data\\Clipped_Rasters\\NO2_2019_01_clip.tif\n",
      "✅ Clipped: C:\\Users\\Shahriar Rahman\\OneDrive\\Desktop\\GIS\\Dhaka_NO2_Project\\Raw_Data\\Clipped_Rasters\\NO2_2019_02_clip.tif\n",
      "✅ Clipped: C:\\Users\\Shahriar Rahman\\OneDrive\\Desktop\\GIS\\Dhaka_NO2_Project\\Raw_Data\\Clipped_Rasters\\NO2_2019_03_clip.tif\n",
      "✅ Clipped: C:\\Users\\Shahriar Rahman\\OneDrive\\Desktop\\GIS\\Dhaka_NO2_Project\\Raw_Data\\Clipped_Rasters\\NO2_2019_04_clip.tif\n",
      "✅ Clipped: C:\\Users\\Shahriar Rahman\\OneDrive\\Desktop\\GIS\\Dhaka_NO2_Project\\Raw_Data\\Clipped_Rasters\\NO2_2019_05_clip.tif\n",
      "✅ Clipped: C:\\Users\\Shahriar Rahman\\OneDrive\\Desktop\\GIS\\Dhaka_NO2_Project\\Raw_Data\\Clipped_Rasters\\NO2_2019_06_clip.tif\n",
      "✅ Clipped: C:\\Users\\Shahriar Rahman\\OneDrive\\Desktop\\GIS\\Dhaka_NO2_Project\\Raw_Data\\Clipped_Rasters\\NO2_2019_07_clip.tif\n",
      "✅ Clipped: C:\\Users\\Shahriar Rahman\\OneDrive\\Desktop\\GIS\\Dhaka_NO2_Project\\Raw_Data\\Clipped_Rasters\\NO2_2019_08_clip.tif\n",
      "✅ Clipped: C:\\Users\\Shahriar Rahman\\OneDrive\\Desktop\\GIS\\Dhaka_NO2_Project\\Raw_Data\\Clipped_Rasters\\NO2_2019_09_clip.tif\n",
      "✅ Clipped: C:\\Users\\Shahriar Rahman\\OneDrive\\Desktop\\GIS\\Dhaka_NO2_Project\\Raw_Data\\Clipped_Rasters\\NO2_2019_10_clip.tif\n",
      "✅ Clipped: C:\\Users\\Shahriar Rahman\\OneDrive\\Desktop\\GIS\\Dhaka_NO2_Project\\Raw_Data\\Clipped_Rasters\\NO2_2019_11_clip.tif\n",
      "✅ Clipped: C:\\Users\\Shahriar Rahman\\OneDrive\\Desktop\\GIS\\Dhaka_NO2_Project\\Raw_Data\\Clipped_Rasters\\NO2_2019_12_clip.tif\n",
      "✅ Clipped: C:\\Users\\Shahriar Rahman\\OneDrive\\Desktop\\GIS\\Dhaka_NO2_Project\\Raw_Data\\Clipped_Rasters\\NO2_2020_01_clip.tif\n",
      "✅ Clipped: C:\\Users\\Shahriar Rahman\\OneDrive\\Desktop\\GIS\\Dhaka_NO2_Project\\Raw_Data\\Clipped_Rasters\\NO2_2020_02_clip.tif\n",
      "✅ Clipped: C:\\Users\\Shahriar Rahman\\OneDrive\\Desktop\\GIS\\Dhaka_NO2_Project\\Raw_Data\\Clipped_Rasters\\NO2_2020_03_clip.tif\n",
      "✅ Clipped: C:\\Users\\Shahriar Rahman\\OneDrive\\Desktop\\GIS\\Dhaka_NO2_Project\\Raw_Data\\Clipped_Rasters\\NO2_2020_04_clip.tif\n",
      "✅ Clipped: C:\\Users\\Shahriar Rahman\\OneDrive\\Desktop\\GIS\\Dhaka_NO2_Project\\Raw_Data\\Clipped_Rasters\\NO2_2020_05_clip.tif\n",
      "✅ Clipped: C:\\Users\\Shahriar Rahman\\OneDrive\\Desktop\\GIS\\Dhaka_NO2_Project\\Raw_Data\\Clipped_Rasters\\NO2_2020_06_clip.tif\n",
      "✅ Clipped: C:\\Users\\Shahriar Rahman\\OneDrive\\Desktop\\GIS\\Dhaka_NO2_Project\\Raw_Data\\Clipped_Rasters\\NO2_2020_07_clip.tif\n",
      "✅ Clipped: C:\\Users\\Shahriar Rahman\\OneDrive\\Desktop\\GIS\\Dhaka_NO2_Project\\Raw_Data\\Clipped_Rasters\\NO2_2020_08_clip.tif\n",
      "✅ Clipped: C:\\Users\\Shahriar Rahman\\OneDrive\\Desktop\\GIS\\Dhaka_NO2_Project\\Raw_Data\\Clipped_Rasters\\NO2_2020_09_clip.tif\n",
      "✅ Clipped: C:\\Users\\Shahriar Rahman\\OneDrive\\Desktop\\GIS\\Dhaka_NO2_Project\\Raw_Data\\Clipped_Rasters\\NO2_2020_10_clip.tif\n",
      "✅ Clipped: C:\\Users\\Shahriar Rahman\\OneDrive\\Desktop\\GIS\\Dhaka_NO2_Project\\Raw_Data\\Clipped_Rasters\\NO2_2020_11_clip.tif\n",
      "✅ Clipped: C:\\Users\\Shahriar Rahman\\OneDrive\\Desktop\\GIS\\Dhaka_NO2_Project\\Raw_Data\\Clipped_Rasters\\NO2_2020_12_clip.tif\n",
      "✅ Clipped: C:\\Users\\Shahriar Rahman\\OneDrive\\Desktop\\GIS\\Dhaka_NO2_Project\\Raw_Data\\Clipped_Rasters\\NO2_2021_01_clip.tif\n",
      "✅ Clipped: C:\\Users\\Shahriar Rahman\\OneDrive\\Desktop\\GIS\\Dhaka_NO2_Project\\Raw_Data\\Clipped_Rasters\\NO2_2021_02_clip.tif\n",
      "✅ Clipped: C:\\Users\\Shahriar Rahman\\OneDrive\\Desktop\\GIS\\Dhaka_NO2_Project\\Raw_Data\\Clipped_Rasters\\NO2_2021_03_clip.tif\n",
      "✅ Clipped: C:\\Users\\Shahriar Rahman\\OneDrive\\Desktop\\GIS\\Dhaka_NO2_Project\\Raw_Data\\Clipped_Rasters\\NO2_2021_04_clip.tif\n",
      "✅ Clipped: C:\\Users\\Shahriar Rahman\\OneDrive\\Desktop\\GIS\\Dhaka_NO2_Project\\Raw_Data\\Clipped_Rasters\\NO2_2021_05_clip.tif\n",
      "✅ Clipped: C:\\Users\\Shahriar Rahman\\OneDrive\\Desktop\\GIS\\Dhaka_NO2_Project\\Raw_Data\\Clipped_Rasters\\NO2_2021_06_clip.tif\n",
      "✅ Clipped: C:\\Users\\Shahriar Rahman\\OneDrive\\Desktop\\GIS\\Dhaka_NO2_Project\\Raw_Data\\Clipped_Rasters\\NO2_2021_07_clip.tif\n",
      "✅ Clipped: C:\\Users\\Shahriar Rahman\\OneDrive\\Desktop\\GIS\\Dhaka_NO2_Project\\Raw_Data\\Clipped_Rasters\\NO2_2021_08_clip.tif\n",
      "✅ Clipped: C:\\Users\\Shahriar Rahman\\OneDrive\\Desktop\\GIS\\Dhaka_NO2_Project\\Raw_Data\\Clipped_Rasters\\NO2_2021_09_clip.tif\n",
      "✅ Clipped: C:\\Users\\Shahriar Rahman\\OneDrive\\Desktop\\GIS\\Dhaka_NO2_Project\\Raw_Data\\Clipped_Rasters\\NO2_2021_10_clip.tif\n",
      "✅ Clipped: C:\\Users\\Shahriar Rahman\\OneDrive\\Desktop\\GIS\\Dhaka_NO2_Project\\Raw_Data\\Clipped_Rasters\\NO2_2021_11_clip.tif\n",
      "✅ Clipped: C:\\Users\\Shahriar Rahman\\OneDrive\\Desktop\\GIS\\Dhaka_NO2_Project\\Raw_Data\\Clipped_Rasters\\NO2_2021_12_clip.tif\n",
      "✅ Clipped: C:\\Users\\Shahriar Rahman\\OneDrive\\Desktop\\GIS\\Dhaka_NO2_Project\\Raw_Data\\Clipped_Rasters\\NO2_2022_01_clip.tif\n",
      "✅ Clipped: C:\\Users\\Shahriar Rahman\\OneDrive\\Desktop\\GIS\\Dhaka_NO2_Project\\Raw_Data\\Clipped_Rasters\\NO2_2022_02_clip.tif\n",
      "✅ Clipped: C:\\Users\\Shahriar Rahman\\OneDrive\\Desktop\\GIS\\Dhaka_NO2_Project\\Raw_Data\\Clipped_Rasters\\NO2_2022_03_clip.tif\n",
      "✅ Clipped: C:\\Users\\Shahriar Rahman\\OneDrive\\Desktop\\GIS\\Dhaka_NO2_Project\\Raw_Data\\Clipped_Rasters\\NO2_2022_04_clip.tif\n",
      "✅ Clipped: C:\\Users\\Shahriar Rahman\\OneDrive\\Desktop\\GIS\\Dhaka_NO2_Project\\Raw_Data\\Clipped_Rasters\\NO2_2022_05_clip.tif\n",
      "✅ Clipped: C:\\Users\\Shahriar Rahman\\OneDrive\\Desktop\\GIS\\Dhaka_NO2_Project\\Raw_Data\\Clipped_Rasters\\NO2_2022_06_clip.tif\n",
      "✅ Clipped: C:\\Users\\Shahriar Rahman\\OneDrive\\Desktop\\GIS\\Dhaka_NO2_Project\\Raw_Data\\Clipped_Rasters\\NO2_2022_07_clip.tif\n",
      "✅ Clipped: C:\\Users\\Shahriar Rahman\\OneDrive\\Desktop\\GIS\\Dhaka_NO2_Project\\Raw_Data\\Clipped_Rasters\\NO2_2022_08_clip.tif\n",
      "✅ Clipped: C:\\Users\\Shahriar Rahman\\OneDrive\\Desktop\\GIS\\Dhaka_NO2_Project\\Raw_Data\\Clipped_Rasters\\NO2_2022_09_clip.tif\n",
      "✅ Clipped: C:\\Users\\Shahriar Rahman\\OneDrive\\Desktop\\GIS\\Dhaka_NO2_Project\\Raw_Data\\Clipped_Rasters\\NO2_2022_10_clip.tif\n",
      "✅ Clipped: C:\\Users\\Shahriar Rahman\\OneDrive\\Desktop\\GIS\\Dhaka_NO2_Project\\Raw_Data\\Clipped_Rasters\\NO2_2022_11_clip.tif\n",
      "✅ Clipped: C:\\Users\\Shahriar Rahman\\OneDrive\\Desktop\\GIS\\Dhaka_NO2_Project\\Raw_Data\\Clipped_Rasters\\NO2_2022_12_clip.tif\n",
      "✅ Clipped: C:\\Users\\Shahriar Rahman\\OneDrive\\Desktop\\GIS\\Dhaka_NO2_Project\\Raw_Data\\Clipped_Rasters\\NO2_2023_01_clip.tif\n",
      "✅ Clipped: C:\\Users\\Shahriar Rahman\\OneDrive\\Desktop\\GIS\\Dhaka_NO2_Project\\Raw_Data\\Clipped_Rasters\\NO2_2023_02_clip.tif\n",
      "✅ Clipped: C:\\Users\\Shahriar Rahman\\OneDrive\\Desktop\\GIS\\Dhaka_NO2_Project\\Raw_Data\\Clipped_Rasters\\NO2_2023_03_clip.tif\n",
      "✅ Clipped: C:\\Users\\Shahriar Rahman\\OneDrive\\Desktop\\GIS\\Dhaka_NO2_Project\\Raw_Data\\Clipped_Rasters\\NO2_2023_04_clip.tif\n",
      "✅ Clipped: C:\\Users\\Shahriar Rahman\\OneDrive\\Desktop\\GIS\\Dhaka_NO2_Project\\Raw_Data\\Clipped_Rasters\\NO2_2023_05_clip.tif\n",
      "✅ Clipped: C:\\Users\\Shahriar Rahman\\OneDrive\\Desktop\\GIS\\Dhaka_NO2_Project\\Raw_Data\\Clipped_Rasters\\NO2_2023_06_clip.tif\n",
      "✅ Clipped: C:\\Users\\Shahriar Rahman\\OneDrive\\Desktop\\GIS\\Dhaka_NO2_Project\\Raw_Data\\Clipped_Rasters\\NO2_2023_07_clip.tif\n",
      "✅ Clipped: C:\\Users\\Shahriar Rahman\\OneDrive\\Desktop\\GIS\\Dhaka_NO2_Project\\Raw_Data\\Clipped_Rasters\\NO2_2023_08_clip.tif\n",
      "✅ Clipped: C:\\Users\\Shahriar Rahman\\OneDrive\\Desktop\\GIS\\Dhaka_NO2_Project\\Raw_Data\\Clipped_Rasters\\NO2_2023_09_clip.tif\n",
      "✅ Clipped: C:\\Users\\Shahriar Rahman\\OneDrive\\Desktop\\GIS\\Dhaka_NO2_Project\\Raw_Data\\Clipped_Rasters\\NO2_2023_10_clip.tif\n",
      "✅ Clipped: C:\\Users\\Shahriar Rahman\\OneDrive\\Desktop\\GIS\\Dhaka_NO2_Project\\Raw_Data\\Clipped_Rasters\\NO2_2023_11_clip.tif\n",
      "✅ Clipped: C:\\Users\\Shahriar Rahman\\OneDrive\\Desktop\\GIS\\Dhaka_NO2_Project\\Raw_Data\\Clipped_Rasters\\NO2_2023_12_clip.tif\n",
      "✅ Clipped: C:\\Users\\Shahriar Rahman\\OneDrive\\Desktop\\GIS\\Dhaka_NO2_Project\\Raw_Data\\Clipped_Rasters\\NO2_2024_01_clip.tif\n",
      "✅ Clipped: C:\\Users\\Shahriar Rahman\\OneDrive\\Desktop\\GIS\\Dhaka_NO2_Project\\Raw_Data\\Clipped_Rasters\\NO2_2024_02_clip.tif\n",
      "✅ Clipped: C:\\Users\\Shahriar Rahman\\OneDrive\\Desktop\\GIS\\Dhaka_NO2_Project\\Raw_Data\\Clipped_Rasters\\NO2_2024_03_clip.tif\n",
      "✅ Clipped: C:\\Users\\Shahriar Rahman\\OneDrive\\Desktop\\GIS\\Dhaka_NO2_Project\\Raw_Data\\Clipped_Rasters\\NO2_2024_04_clip.tif\n",
      "✅ Clipped: C:\\Users\\Shahriar Rahman\\OneDrive\\Desktop\\GIS\\Dhaka_NO2_Project\\Raw_Data\\Clipped_Rasters\\NO2_2024_05_clip.tif\n",
      "✅ Clipped: C:\\Users\\Shahriar Rahman\\OneDrive\\Desktop\\GIS\\Dhaka_NO2_Project\\Raw_Data\\Clipped_Rasters\\NO2_2024_06_clip.tif\n",
      "✅ Clipped: C:\\Users\\Shahriar Rahman\\OneDrive\\Desktop\\GIS\\Dhaka_NO2_Project\\Raw_Data\\Clipped_Rasters\\NO2_2024_07_clip.tif\n",
      "✅ Clipped: C:\\Users\\Shahriar Rahman\\OneDrive\\Desktop\\GIS\\Dhaka_NO2_Project\\Raw_Data\\Clipped_Rasters\\NO2_2024_08_clip.tif\n",
      "✅ Clipped: C:\\Users\\Shahriar Rahman\\OneDrive\\Desktop\\GIS\\Dhaka_NO2_Project\\Raw_Data\\Clipped_Rasters\\NO2_2024_09_clip.tif\n",
      "✅ Clipped: C:\\Users\\Shahriar Rahman\\OneDrive\\Desktop\\GIS\\Dhaka_NO2_Project\\Raw_Data\\Clipped_Rasters\\NO2_2024_10_clip.tif\n",
      "✅ Clipped: C:\\Users\\Shahriar Rahman\\OneDrive\\Desktop\\GIS\\Dhaka_NO2_Project\\Raw_Data\\Clipped_Rasters\\NO2_2024_11_clip.tif\n",
      "✅ Clipped: C:\\Users\\Shahriar Rahman\\OneDrive\\Desktop\\GIS\\Dhaka_NO2_Project\\Raw_Data\\Clipped_Rasters\\NO2_2024_12_clip.tif\n"
     ]
    }
   ],
   "source": [
    "import arcpy, os\n",
    "arcpy.env.overwriteOutput = True\n",
    "\n",
    "input_folder = r\"C:\\Users\\Shahriar Rahman\\OneDrive\\Desktop\\GIS\\Dhaka_NO2_Project\\Raw_Data\\GEE_TIFFs\"\n",
    "clip_boundary = r\"C:\\Users\\Shahriar Rahman\\OneDrive\\Desktop\\GIS\\Dhaka_NO2_Project\\Raw_Data\\AOI_Boundary\\Dhaka_Narayanganj.shp\"\n",
    "output_folder = r\"C:\\Users\\Shahriar Rahman\\OneDrive\\Desktop\\GIS\\Dhaka_NO2_Project\\Raw_Data\\Clipped_Rasters\"\n",
    "\n",
    "os.makedirs(output_folder, exist_ok=True)\n",
    "arcpy.env.workspace = input_folder\n",
    "\n",
    "tiffs = arcpy.ListRasters(\"*.tif\")\n",
    "for tif in tiffs:\n",
    "    out_raster = os.path.join(output_folder, tif.replace(\".tif\", \"_clip.tif\"))\n",
    "    arcpy.management.Clip(tif, \"#\", out_raster, clip_boundary, \"0\", \"ClippingGeometry\", \"MAINTAIN_EXTENT\")\n",
    "    print(\"✅ Clipped:\", out_raster)\n"
   ]
  },
  {
   "cell_type": "code",
   "execution_count": 4,
   "metadata": {},
   "outputs": [
    {
     "name": "stdout",
     "output_type": "stream",
     "text": [
      "✅ Reprojected: C:\\Users\\Shahriar Rahman\\OneDrive\\Desktop\\GIS\\Dhaka_NO2_Project\\Raw_Data\\UTM_Rasters\\NO2_2019_01_clip_UTM.tif\n",
      "✅ Reprojected: C:\\Users\\Shahriar Rahman\\OneDrive\\Desktop\\GIS\\Dhaka_NO2_Project\\Raw_Data\\UTM_Rasters\\NO2_2019_02_clip_UTM.tif\n",
      "✅ Reprojected: C:\\Users\\Shahriar Rahman\\OneDrive\\Desktop\\GIS\\Dhaka_NO2_Project\\Raw_Data\\UTM_Rasters\\NO2_2019_03_clip_UTM.tif\n",
      "✅ Reprojected: C:\\Users\\Shahriar Rahman\\OneDrive\\Desktop\\GIS\\Dhaka_NO2_Project\\Raw_Data\\UTM_Rasters\\NO2_2019_04_clip_UTM.tif\n",
      "✅ Reprojected: C:\\Users\\Shahriar Rahman\\OneDrive\\Desktop\\GIS\\Dhaka_NO2_Project\\Raw_Data\\UTM_Rasters\\NO2_2019_05_clip_UTM.tif\n",
      "✅ Reprojected: C:\\Users\\Shahriar Rahman\\OneDrive\\Desktop\\GIS\\Dhaka_NO2_Project\\Raw_Data\\UTM_Rasters\\NO2_2019_06_clip_UTM.tif\n",
      "✅ Reprojected: C:\\Users\\Shahriar Rahman\\OneDrive\\Desktop\\GIS\\Dhaka_NO2_Project\\Raw_Data\\UTM_Rasters\\NO2_2019_07_clip_UTM.tif\n",
      "✅ Reprojected: C:\\Users\\Shahriar Rahman\\OneDrive\\Desktop\\GIS\\Dhaka_NO2_Project\\Raw_Data\\UTM_Rasters\\NO2_2019_08_clip_UTM.tif\n",
      "✅ Reprojected: C:\\Users\\Shahriar Rahman\\OneDrive\\Desktop\\GIS\\Dhaka_NO2_Project\\Raw_Data\\UTM_Rasters\\NO2_2019_09_clip_UTM.tif\n",
      "✅ Reprojected: C:\\Users\\Shahriar Rahman\\OneDrive\\Desktop\\GIS\\Dhaka_NO2_Project\\Raw_Data\\UTM_Rasters\\NO2_2019_10_clip_UTM.tif\n",
      "✅ Reprojected: C:\\Users\\Shahriar Rahman\\OneDrive\\Desktop\\GIS\\Dhaka_NO2_Project\\Raw_Data\\UTM_Rasters\\NO2_2019_11_clip_UTM.tif\n",
      "✅ Reprojected: C:\\Users\\Shahriar Rahman\\OneDrive\\Desktop\\GIS\\Dhaka_NO2_Project\\Raw_Data\\UTM_Rasters\\NO2_2019_12_clip_UTM.tif\n",
      "✅ Reprojected: C:\\Users\\Shahriar Rahman\\OneDrive\\Desktop\\GIS\\Dhaka_NO2_Project\\Raw_Data\\UTM_Rasters\\NO2_2020_01_clip_UTM.tif\n",
      "✅ Reprojected: C:\\Users\\Shahriar Rahman\\OneDrive\\Desktop\\GIS\\Dhaka_NO2_Project\\Raw_Data\\UTM_Rasters\\NO2_2020_02_clip_UTM.tif\n",
      "✅ Reprojected: C:\\Users\\Shahriar Rahman\\OneDrive\\Desktop\\GIS\\Dhaka_NO2_Project\\Raw_Data\\UTM_Rasters\\NO2_2020_03_clip_UTM.tif\n",
      "✅ Reprojected: C:\\Users\\Shahriar Rahman\\OneDrive\\Desktop\\GIS\\Dhaka_NO2_Project\\Raw_Data\\UTM_Rasters\\NO2_2020_04_clip_UTM.tif\n",
      "✅ Reprojected: C:\\Users\\Shahriar Rahman\\OneDrive\\Desktop\\GIS\\Dhaka_NO2_Project\\Raw_Data\\UTM_Rasters\\NO2_2020_05_clip_UTM.tif\n",
      "✅ Reprojected: C:\\Users\\Shahriar Rahman\\OneDrive\\Desktop\\GIS\\Dhaka_NO2_Project\\Raw_Data\\UTM_Rasters\\NO2_2020_06_clip_UTM.tif\n",
      "✅ Reprojected: C:\\Users\\Shahriar Rahman\\OneDrive\\Desktop\\GIS\\Dhaka_NO2_Project\\Raw_Data\\UTM_Rasters\\NO2_2020_07_clip_UTM.tif\n",
      "✅ Reprojected: C:\\Users\\Shahriar Rahman\\OneDrive\\Desktop\\GIS\\Dhaka_NO2_Project\\Raw_Data\\UTM_Rasters\\NO2_2020_08_clip_UTM.tif\n",
      "✅ Reprojected: C:\\Users\\Shahriar Rahman\\OneDrive\\Desktop\\GIS\\Dhaka_NO2_Project\\Raw_Data\\UTM_Rasters\\NO2_2020_09_clip_UTM.tif\n",
      "✅ Reprojected: C:\\Users\\Shahriar Rahman\\OneDrive\\Desktop\\GIS\\Dhaka_NO2_Project\\Raw_Data\\UTM_Rasters\\NO2_2020_10_clip_UTM.tif\n",
      "✅ Reprojected: C:\\Users\\Shahriar Rahman\\OneDrive\\Desktop\\GIS\\Dhaka_NO2_Project\\Raw_Data\\UTM_Rasters\\NO2_2020_11_clip_UTM.tif\n",
      "✅ Reprojected: C:\\Users\\Shahriar Rahman\\OneDrive\\Desktop\\GIS\\Dhaka_NO2_Project\\Raw_Data\\UTM_Rasters\\NO2_2020_12_clip_UTM.tif\n",
      "✅ Reprojected: C:\\Users\\Shahriar Rahman\\OneDrive\\Desktop\\GIS\\Dhaka_NO2_Project\\Raw_Data\\UTM_Rasters\\NO2_2021_01_clip_UTM.tif\n",
      "✅ Reprojected: C:\\Users\\Shahriar Rahman\\OneDrive\\Desktop\\GIS\\Dhaka_NO2_Project\\Raw_Data\\UTM_Rasters\\NO2_2021_02_clip_UTM.tif\n",
      "✅ Reprojected: C:\\Users\\Shahriar Rahman\\OneDrive\\Desktop\\GIS\\Dhaka_NO2_Project\\Raw_Data\\UTM_Rasters\\NO2_2021_03_clip_UTM.tif\n",
      "✅ Reprojected: C:\\Users\\Shahriar Rahman\\OneDrive\\Desktop\\GIS\\Dhaka_NO2_Project\\Raw_Data\\UTM_Rasters\\NO2_2021_04_clip_UTM.tif\n",
      "✅ Reprojected: C:\\Users\\Shahriar Rahman\\OneDrive\\Desktop\\GIS\\Dhaka_NO2_Project\\Raw_Data\\UTM_Rasters\\NO2_2021_05_clip_UTM.tif\n",
      "✅ Reprojected: C:\\Users\\Shahriar Rahman\\OneDrive\\Desktop\\GIS\\Dhaka_NO2_Project\\Raw_Data\\UTM_Rasters\\NO2_2021_06_clip_UTM.tif\n",
      "✅ Reprojected: C:\\Users\\Shahriar Rahman\\OneDrive\\Desktop\\GIS\\Dhaka_NO2_Project\\Raw_Data\\UTM_Rasters\\NO2_2021_07_clip_UTM.tif\n",
      "✅ Reprojected: C:\\Users\\Shahriar Rahman\\OneDrive\\Desktop\\GIS\\Dhaka_NO2_Project\\Raw_Data\\UTM_Rasters\\NO2_2021_08_clip_UTM.tif\n",
      "✅ Reprojected: C:\\Users\\Shahriar Rahman\\OneDrive\\Desktop\\GIS\\Dhaka_NO2_Project\\Raw_Data\\UTM_Rasters\\NO2_2021_09_clip_UTM.tif\n",
      "✅ Reprojected: C:\\Users\\Shahriar Rahman\\OneDrive\\Desktop\\GIS\\Dhaka_NO2_Project\\Raw_Data\\UTM_Rasters\\NO2_2021_10_clip_UTM.tif\n",
      "✅ Reprojected: C:\\Users\\Shahriar Rahman\\OneDrive\\Desktop\\GIS\\Dhaka_NO2_Project\\Raw_Data\\UTM_Rasters\\NO2_2021_11_clip_UTM.tif\n",
      "✅ Reprojected: C:\\Users\\Shahriar Rahman\\OneDrive\\Desktop\\GIS\\Dhaka_NO2_Project\\Raw_Data\\UTM_Rasters\\NO2_2021_12_clip_UTM.tif\n",
      "✅ Reprojected: C:\\Users\\Shahriar Rahman\\OneDrive\\Desktop\\GIS\\Dhaka_NO2_Project\\Raw_Data\\UTM_Rasters\\NO2_2022_01_clip_UTM.tif\n",
      "✅ Reprojected: C:\\Users\\Shahriar Rahman\\OneDrive\\Desktop\\GIS\\Dhaka_NO2_Project\\Raw_Data\\UTM_Rasters\\NO2_2022_02_clip_UTM.tif\n",
      "✅ Reprojected: C:\\Users\\Shahriar Rahman\\OneDrive\\Desktop\\GIS\\Dhaka_NO2_Project\\Raw_Data\\UTM_Rasters\\NO2_2022_03_clip_UTM.tif\n",
      "✅ Reprojected: C:\\Users\\Shahriar Rahman\\OneDrive\\Desktop\\GIS\\Dhaka_NO2_Project\\Raw_Data\\UTM_Rasters\\NO2_2022_04_clip_UTM.tif\n",
      "✅ Reprojected: C:\\Users\\Shahriar Rahman\\OneDrive\\Desktop\\GIS\\Dhaka_NO2_Project\\Raw_Data\\UTM_Rasters\\NO2_2022_05_clip_UTM.tif\n",
      "✅ Reprojected: C:\\Users\\Shahriar Rahman\\OneDrive\\Desktop\\GIS\\Dhaka_NO2_Project\\Raw_Data\\UTM_Rasters\\NO2_2022_06_clip_UTM.tif\n",
      "✅ Reprojected: C:\\Users\\Shahriar Rahman\\OneDrive\\Desktop\\GIS\\Dhaka_NO2_Project\\Raw_Data\\UTM_Rasters\\NO2_2022_07_clip_UTM.tif\n",
      "✅ Reprojected: C:\\Users\\Shahriar Rahman\\OneDrive\\Desktop\\GIS\\Dhaka_NO2_Project\\Raw_Data\\UTM_Rasters\\NO2_2022_08_clip_UTM.tif\n",
      "✅ Reprojected: C:\\Users\\Shahriar Rahman\\OneDrive\\Desktop\\GIS\\Dhaka_NO2_Project\\Raw_Data\\UTM_Rasters\\NO2_2022_09_clip_UTM.tif\n",
      "✅ Reprojected: C:\\Users\\Shahriar Rahman\\OneDrive\\Desktop\\GIS\\Dhaka_NO2_Project\\Raw_Data\\UTM_Rasters\\NO2_2022_10_clip_UTM.tif\n",
      "✅ Reprojected: C:\\Users\\Shahriar Rahman\\OneDrive\\Desktop\\GIS\\Dhaka_NO2_Project\\Raw_Data\\UTM_Rasters\\NO2_2022_11_clip_UTM.tif\n",
      "✅ Reprojected: C:\\Users\\Shahriar Rahman\\OneDrive\\Desktop\\GIS\\Dhaka_NO2_Project\\Raw_Data\\UTM_Rasters\\NO2_2022_12_clip_UTM.tif\n",
      "✅ Reprojected: C:\\Users\\Shahriar Rahman\\OneDrive\\Desktop\\GIS\\Dhaka_NO2_Project\\Raw_Data\\UTM_Rasters\\NO2_2023_01_clip_UTM.tif\n",
      "✅ Reprojected: C:\\Users\\Shahriar Rahman\\OneDrive\\Desktop\\GIS\\Dhaka_NO2_Project\\Raw_Data\\UTM_Rasters\\NO2_2023_02_clip_UTM.tif\n",
      "✅ Reprojected: C:\\Users\\Shahriar Rahman\\OneDrive\\Desktop\\GIS\\Dhaka_NO2_Project\\Raw_Data\\UTM_Rasters\\NO2_2023_03_clip_UTM.tif\n",
      "✅ Reprojected: C:\\Users\\Shahriar Rahman\\OneDrive\\Desktop\\GIS\\Dhaka_NO2_Project\\Raw_Data\\UTM_Rasters\\NO2_2023_04_clip_UTM.tif\n",
      "✅ Reprojected: C:\\Users\\Shahriar Rahman\\OneDrive\\Desktop\\GIS\\Dhaka_NO2_Project\\Raw_Data\\UTM_Rasters\\NO2_2023_05_clip_UTM.tif\n",
      "✅ Reprojected: C:\\Users\\Shahriar Rahman\\OneDrive\\Desktop\\GIS\\Dhaka_NO2_Project\\Raw_Data\\UTM_Rasters\\NO2_2023_06_clip_UTM.tif\n",
      "✅ Reprojected: C:\\Users\\Shahriar Rahman\\OneDrive\\Desktop\\GIS\\Dhaka_NO2_Project\\Raw_Data\\UTM_Rasters\\NO2_2023_07_clip_UTM.tif\n",
      "✅ Reprojected: C:\\Users\\Shahriar Rahman\\OneDrive\\Desktop\\GIS\\Dhaka_NO2_Project\\Raw_Data\\UTM_Rasters\\NO2_2023_08_clip_UTM.tif\n",
      "✅ Reprojected: C:\\Users\\Shahriar Rahman\\OneDrive\\Desktop\\GIS\\Dhaka_NO2_Project\\Raw_Data\\UTM_Rasters\\NO2_2023_09_clip_UTM.tif\n",
      "✅ Reprojected: C:\\Users\\Shahriar Rahman\\OneDrive\\Desktop\\GIS\\Dhaka_NO2_Project\\Raw_Data\\UTM_Rasters\\NO2_2023_10_clip_UTM.tif\n",
      "✅ Reprojected: C:\\Users\\Shahriar Rahman\\OneDrive\\Desktop\\GIS\\Dhaka_NO2_Project\\Raw_Data\\UTM_Rasters\\NO2_2023_11_clip_UTM.tif\n",
      "✅ Reprojected: C:\\Users\\Shahriar Rahman\\OneDrive\\Desktop\\GIS\\Dhaka_NO2_Project\\Raw_Data\\UTM_Rasters\\NO2_2023_12_clip_UTM.tif\n",
      "✅ Reprojected: C:\\Users\\Shahriar Rahman\\OneDrive\\Desktop\\GIS\\Dhaka_NO2_Project\\Raw_Data\\UTM_Rasters\\NO2_2024_01_clip_UTM.tif\n",
      "✅ Reprojected: C:\\Users\\Shahriar Rahman\\OneDrive\\Desktop\\GIS\\Dhaka_NO2_Project\\Raw_Data\\UTM_Rasters\\NO2_2024_02_clip_UTM.tif\n",
      "✅ Reprojected: C:\\Users\\Shahriar Rahman\\OneDrive\\Desktop\\GIS\\Dhaka_NO2_Project\\Raw_Data\\UTM_Rasters\\NO2_2024_03_clip_UTM.tif\n",
      "✅ Reprojected: C:\\Users\\Shahriar Rahman\\OneDrive\\Desktop\\GIS\\Dhaka_NO2_Project\\Raw_Data\\UTM_Rasters\\NO2_2024_04_clip_UTM.tif\n",
      "✅ Reprojected: C:\\Users\\Shahriar Rahman\\OneDrive\\Desktop\\GIS\\Dhaka_NO2_Project\\Raw_Data\\UTM_Rasters\\NO2_2024_05_clip_UTM.tif\n",
      "✅ Reprojected: C:\\Users\\Shahriar Rahman\\OneDrive\\Desktop\\GIS\\Dhaka_NO2_Project\\Raw_Data\\UTM_Rasters\\NO2_2024_06_clip_UTM.tif\n",
      "✅ Reprojected: C:\\Users\\Shahriar Rahman\\OneDrive\\Desktop\\GIS\\Dhaka_NO2_Project\\Raw_Data\\UTM_Rasters\\NO2_2024_07_clip_UTM.tif\n",
      "✅ Reprojected: C:\\Users\\Shahriar Rahman\\OneDrive\\Desktop\\GIS\\Dhaka_NO2_Project\\Raw_Data\\UTM_Rasters\\NO2_2024_08_clip_UTM.tif\n",
      "✅ Reprojected: C:\\Users\\Shahriar Rahman\\OneDrive\\Desktop\\GIS\\Dhaka_NO2_Project\\Raw_Data\\UTM_Rasters\\NO2_2024_09_clip_UTM.tif\n",
      "✅ Reprojected: C:\\Users\\Shahriar Rahman\\OneDrive\\Desktop\\GIS\\Dhaka_NO2_Project\\Raw_Data\\UTM_Rasters\\NO2_2024_10_clip_UTM.tif\n",
      "✅ Reprojected: C:\\Users\\Shahriar Rahman\\OneDrive\\Desktop\\GIS\\Dhaka_NO2_Project\\Raw_Data\\UTM_Rasters\\NO2_2024_11_clip_UTM.tif\n",
      "✅ Reprojected: C:\\Users\\Shahriar Rahman\\OneDrive\\Desktop\\GIS\\Dhaka_NO2_Project\\Raw_Data\\UTM_Rasters\\NO2_2024_12_clip_UTM.tif\n"
     ]
    }
   ],
   "source": [
    "import arcpy, os\n",
    "arcpy.env.overwriteOutput = True\n",
    "\n",
    "input_folder = r\"C:\\Users\\Shahriar Rahman\\OneDrive\\Desktop\\GIS\\Dhaka_NO2_Project\\Raw_Data\\Clipped_Rasters\"\n",
    "output_folder = r\"C:\\Users\\Shahriar Rahman\\OneDrive\\Desktop\\GIS\\Dhaka_NO2_Project\\Raw_Data\\UTM_Rasters\"\n",
    "\n",
    "os.makedirs(output_folder, exist_ok=True)\n",
    "arcpy.env.workspace = input_folder\n",
    "\n",
    "# Correct way: use SpatialReference\n",
    "target_crs = arcpy.SpatialReference(32646)  # EPSG code as integer\n",
    "\n",
    "rasters = arcpy.ListRasters(\"*.tif\")\n",
    "for r in rasters:\n",
    "    out_raster = os.path.join(output_folder, r.replace(\".tif\", \"_UTM.tif\"))\n",
    "    arcpy.management.ProjectRaster(r, out_raster, target_crs, \"BILINEAR\")\n",
    "    print(\"✅ Reprojected:\", out_raster)\n",
    "\n"
   ]
  },
  {
   "cell_type": "code",
   "execution_count": 7,
   "metadata": {},
   "outputs": [
    {
     "ename": "<class 'AttributeError'>",
     "evalue": "module 'arcpy.md' has no attribute 'BuildMultidimensionalRaster'",
     "output_type": "error",
     "traceback": [
      "\u001b[1;31m---------------------------------------------------------------------------\u001b[0m",
      "\u001b[1;31mAttributeError\u001b[0m                            Traceback (most recent call last)",
      "Cell \u001b[1;32mIn[7], line 26\u001b[0m\n\u001b[0;32m     16\u001b[0m arcpy\u001b[38;5;241m.\u001b[39mmanagement\u001b[38;5;241m.\u001b[39mAddRastersToMosaicDataset(\n\u001b[0;32m     17\u001b[0m     os\u001b[38;5;241m.\u001b[39mpath\u001b[38;5;241m.\u001b[39mjoin(gdb, md_name),\n\u001b[0;32m     18\u001b[0m     \u001b[38;5;124m\"\u001b[39m\u001b[38;5;124mRaster Dataset\u001b[39m\u001b[38;5;124m\"\u001b[39m,\n\u001b[1;32m   (...)\u001b[0m\n\u001b[0;32m     22\u001b[0m     calculate_statistics\u001b[38;5;241m=\u001b[39m\u001b[38;5;124m\"\u001b[39m\u001b[38;5;124mCALCULATE_STATISTICS\u001b[39m\u001b[38;5;124m\"\u001b[39m\n\u001b[0;32m     23\u001b[0m )\n\u001b[0;32m     25\u001b[0m \u001b[38;5;66;03m# Build multidimensional info\u001b[39;00m\n\u001b[1;32m---> 26\u001b[0m arcpy\u001b[38;5;241m.\u001b[39mmd\u001b[38;5;241m.\u001b[39mBuildMultidimensionalRaster(os\u001b[38;5;241m.\u001b[39mpath\u001b[38;5;241m.\u001b[39mjoin(gdb, md_name), \u001b[38;5;124m\"\u001b[39m\u001b[38;5;124m\"\u001b[39m, \u001b[38;5;124m\"\u001b[39m\u001b[38;5;124mFROM_FILE_NAMES\u001b[39m\u001b[38;5;124m\"\u001b[39m, \u001b[38;5;124m\"\u001b[39m\u001b[38;5;124mFIRST_DAY\u001b[39m\u001b[38;5;124m\"\u001b[39m)\n\u001b[0;32m     27\u001b[0m \u001b[38;5;28mprint\u001b[39m(\u001b[38;5;124m\"\u001b[39m\u001b[38;5;124m✅ Mosaic-based multidimensional raster created\u001b[39m\u001b[38;5;124m\"\u001b[39m)\n",
      "\u001b[1;31mAttributeError\u001b[0m: module 'arcpy.md' has no attribute 'BuildMultidimensionalRaster'"
     ]
    }
   ],
   "source": [
    "import arcpy, os\n",
    "arcpy.env.workspace = r\"C:\\Users\\Shahriar Rahman\\OneDrive\\Desktop\\GIS\\Dhaka_NO2_Project\\Processed_Data\"\n",
    "\n",
    "# Create GDB if not exists\n",
    "gdb = r\"C:\\Users\\Shahriar Rahman\\OneDrive\\Desktop\\GIS\\Dhaka_NO2_Project\\Processed_Data\\NO2.gdb\"\n",
    "if not arcpy.Exists(gdb):\n",
    "    arcpy.management.CreateFileGDB(os.path.dirname(gdb), os.path.basename(gdb))\n",
    "\n",
    "# Create Mosaic Dataset\n",
    "md_name = \"NO2_Mosaic\"\n",
    "arcpy.management.CreateMosaicDataset(gdb, md_name, arcpy.SpatialReference(32646))\n",
    "\n",
    "# Add rasters\n",
    "input_rasters = r\"C:\\Users\\Shahriar Rahman\\OneDrive\\Desktop\\GIS\\Dhaka_NO2_Project\\Raw_Data\\UTM_Rasters\"\n",
    "rasters = [os.path.join(input_rasters, f) for f in os.listdir(input_rasters) if f.endswith(\".tif\")]\n",
    "arcpy.management.AddRastersToMosaicDataset(\n",
    "    os.path.join(gdb, md_name),\n",
    "    \"Raster Dataset\",\n",
    "    rasters,\n",
    "    update_overviews=\"UPDATE_OVERVIEWS\",\n",
    "    build_pyramids=\"BUILD_PYRAMIDS\",\n",
    "    calculate_statistics=\"CALCULATE_STATISTICS\"\n",
    ")\n",
    "\n",
    "# Build multidimensional info\n",
    "arcpy.md.BuildMultidimensionalRaster(os.path.join(gdb, md_name), \"\", \"FROM_FILE_NAMES\", \"FIRST_DAY\")\n",
    "print(\"✅ Mosaic-based multidimensional raster created\")\n",
    "\n",
    "\n"
   ]
  },
  {
   "cell_type": "code",
   "execution_count": 8,
   "metadata": {},
   "outputs": [
    {
     "ename": "<class 'AttributeError'>",
     "evalue": "module 'arcpy.management' has no attribute 'RefreshMosaicDataset'",
     "output_type": "error",
     "traceback": [
      "\u001b[1;31m---------------------------------------------------------------------------\u001b[0m",
      "\u001b[1;31mAttributeError\u001b[0m                            Traceback (most recent call last)",
      "Cell \u001b[1;32mIn[8], line 1\u001b[0m\n\u001b[1;32m----> 1\u001b[0m arcpy\u001b[38;5;241m.\u001b[39mmanagement\u001b[38;5;241m.\u001b[39mRefreshMosaicDataset(\u001b[38;5;124m\"\u001b[39m\u001b[38;5;124mNO2_Mosaic\u001b[39m\u001b[38;5;124m\"\u001b[39m, \u001b[38;5;124m\"\u001b[39m\u001b[38;5;124mUPDATE_CELL_SIZES\u001b[39m\u001b[38;5;124m\"\u001b[39m)\n",
      "\u001b[1;31mAttributeError\u001b[0m: module 'arcpy.management' has no attribute 'RefreshMosaicDataset'"
     ]
    }
   ],
   "source": [
    "arcpy.management.RefreshMosaicDataset(\"NO2_Mosaic\", \"UPDATE_CELL_SIZES\")\n"
   ]
  },
  {
   "cell_type": "code",
   "execution_count": 9,
   "metadata": {},
   "outputs": [],
   "source": [
    "gdb = r\"C:\\Users\\Shahriar Rahman\\OneDrive\\Desktop\\GIS\\Dhaka_NO2_Project\\Processed_Data\\NO2.gdb\"\n",
    "mosaic = os.path.join(gdb, \"NO2_Mosaic\")"
   ]
  },
  {
   "cell_type": "code",
   "execution_count": 10,
   "metadata": {},
   "outputs": [
    {
     "ename": "<class 'AttributeError'>",
     "evalue": "module 'arcpy.management' has no attribute 'SyncMosaicDataset'",
     "output_type": "error",
     "traceback": [
      "\u001b[1;31m---------------------------------------------------------------------------\u001b[0m",
      "\u001b[1;31mAttributeError\u001b[0m                            Traceback (most recent call last)",
      "Cell \u001b[1;32mIn[10], line 2\u001b[0m\n\u001b[0;32m      1\u001b[0m \u001b[38;5;66;03m# 1️⃣ Sync the mosaic dataset (forces ArcGIS to recognize new fields)\u001b[39;00m\n\u001b[1;32m----> 2\u001b[0m arcpy\u001b[38;5;241m.\u001b[39mmanagement\u001b[38;5;241m.\u001b[39mSyncMosaicDataset(mosaic, \u001b[38;5;124m\"\u001b[39m\u001b[38;5;124mUPDATE_MOSAICDATASET_ITEMS\u001b[39m\u001b[38;5;124m\"\u001b[39m)\n\u001b[0;32m      4\u001b[0m \u001b[38;5;66;03m# 2️⃣ Recalculate statistics for proper rendering\u001b[39;00m\n\u001b[0;32m      5\u001b[0m arcpy\u001b[38;5;241m.\u001b[39mmanagement\u001b[38;5;241m.\u001b[39mCalculateStatistics(mosaic)\n",
      "\u001b[1;31mAttributeError\u001b[0m: module 'arcpy.management' has no attribute 'SyncMosaicDataset'"
     ]
    }
   ],
   "source": [
    "# 1️⃣ Sync the mosaic dataset (forces ArcGIS to recognize new fields)\n",
    "arcpy.management.SyncMosaicDataset(mosaic, \"UPDATE_MOSAICDATASET_ITEMS\")\n",
    "\n",
    "# 2️⃣ Recalculate statistics for proper rendering\n",
    "arcpy.management.CalculateStatistics(mosaic)\n",
    "\n",
    "# 3️⃣ Rebuild pyramids to ensure smooth display\n",
    "arcpy.management.BuildPyramids(mosaic)"
   ]
  },
  {
   "cell_type": "code",
   "execution_count": 11,
   "metadata": {},
   "outputs": [
    {
     "ename": "<class 'AttributeError'>",
     "evalue": "module 'arcpy.management' has no attribute 'SyncMosaicDataset'",
     "output_type": "error",
     "traceback": [
      "\u001b[1;31m---------------------------------------------------------------------------\u001b[0m",
      "\u001b[1;31mAttributeError\u001b[0m                            Traceback (most recent call last)",
      "Cell \u001b[1;32mIn[11], line 5\u001b[0m\n\u001b[0;32m      2\u001b[0m mosaic \u001b[38;5;241m=\u001b[39m os\u001b[38;5;241m.\u001b[39mpath\u001b[38;5;241m.\u001b[39mjoin(gdb, \u001b[38;5;124m\"\u001b[39m\u001b[38;5;124mNO2_Mosaic\u001b[39m\u001b[38;5;124m\"\u001b[39m)\n\u001b[0;32m      4\u001b[0m \u001b[38;5;66;03m# 1️⃣ Sync the mosaic dataset (forces ArcGIS to recognize new fields)\u001b[39;00m\n\u001b[1;32m----> 5\u001b[0m arcpy\u001b[38;5;241m.\u001b[39mmanagement\u001b[38;5;241m.\u001b[39mSyncMosaicDataset(mosaic, \u001b[38;5;124m\"\u001b[39m\u001b[38;5;124mUPDATE_MOSAICDATASET_ITEMS\u001b[39m\u001b[38;5;124m\"\u001b[39m)\n\u001b[0;32m      7\u001b[0m \u001b[38;5;66;03m# 2️⃣ Recalculate statistics for proper rendering\u001b[39;00m\n\u001b[0;32m      8\u001b[0m arcpy\u001b[38;5;241m.\u001b[39mmanagement\u001b[38;5;241m.\u001b[39mCalculateStatistics(mosaic)\n",
      "\u001b[1;31mAttributeError\u001b[0m: module 'arcpy.management' has no attribute 'SyncMosaicDataset'"
     ]
    }
   ],
   "source": [
    "gdb = r\"C:\\Users\\Shahriar Rahman\\OneDrive\\Desktop\\GIS\\Dhaka_NO2_Project\\Processed_Data\\NO2.gdb\"\n",
    "mosaic = os.path.join(gdb, \"NO2_Mosaic\")\n",
    "\n",
    "# 1️⃣ Sync the mosaic dataset (forces ArcGIS to recognize new fields)\n",
    "arcpy.management.SyncMosaicDataset(mosaic, \"UPDATE_MOSAICDATASET_ITEMS\")\n",
    "\n",
    "# 2️⃣ Recalculate statistics for proper rendering\n",
    "arcpy.management.CalculateStatistics(mosaic)\n",
    "\n",
    "# 3️⃣ Rebuild pyramids to ensure smooth display\n",
    "arcpy.management.BuildPyramids(mosaic)"
   ]
  },
  {
   "cell_type": "code",
   "execution_count": 12,
   "metadata": {},
   "outputs": [
    {
     "ename": "<class 'arcgisscripting.ExecuteError'>",
     "evalue": "Failed to execute. Parameters are not valid.\nERROR 003083: This tool does not support mosaic datasets.\nFailed to execute (BuildPyramids).\n",
     "output_type": "error",
     "traceback": [
      "\u001b[1;31m---------------------------------------------------------------------------\u001b[0m",
      "\u001b[1;31mExecuteError\u001b[0m                              Traceback (most recent call last)",
      "Cell \u001b[1;32mIn[12], line 11\u001b[0m\n\u001b[0;32m      8\u001b[0m arcpy\u001b[38;5;241m.\u001b[39mmanagement\u001b[38;5;241m.\u001b[39mCalculateStatistics(mosaic)\n\u001b[0;32m     10\u001b[0m \u001b[38;5;66;03m# 3️⃣ Build pyramids to optimize display\u001b[39;00m\n\u001b[1;32m---> 11\u001b[0m arcpy\u001b[38;5;241m.\u001b[39mmanagement\u001b[38;5;241m.\u001b[39mBuildPyramids(mosaic)\n",
      "File \u001b[1;32m~\\AppData\\Local\\Programs\\ArcGIS\\Pro\\Resources\\ArcPy\\arcpy\\management.py:29542\u001b[0m, in \u001b[0;36mBuildPyramids\u001b[1;34m(in_raster_dataset, pyramid_level, SKIP_FIRST, resample_technique, compression_type, compression_quality, skip_existing)\u001b[0m\n\u001b[0;32m  29540\u001b[0m     \u001b[38;5;28;01mreturn\u001b[39;00m retval\n\u001b[0;32m  29541\u001b[0m \u001b[38;5;28;01mexcept\u001b[39;00m \u001b[38;5;167;01mException\u001b[39;00m \u001b[38;5;28;01mas\u001b[39;00m e:\n\u001b[1;32m> 29542\u001b[0m     \u001b[38;5;28;01mraise\u001b[39;00m e\n",
      "File \u001b[1;32m~\\AppData\\Local\\Programs\\ArcGIS\\Pro\\Resources\\ArcPy\\arcpy\\management.py:29525\u001b[0m, in \u001b[0;36mBuildPyramids\u001b[1;34m(in_raster_dataset, pyramid_level, SKIP_FIRST, resample_technique, compression_type, compression_quality, skip_existing)\u001b[0m\n\u001b[0;32m  29521\u001b[0m \u001b[38;5;28;01mfrom\u001b[39;00m \u001b[38;5;21;01marcpy\u001b[39;00m\u001b[38;5;21;01m.\u001b[39;00m\u001b[38;5;21;01marcobjects\u001b[39;00m\u001b[38;5;21;01m.\u001b[39;00m\u001b[38;5;21;01marcobjectconversion\u001b[39;00m \u001b[38;5;28;01mimport\u001b[39;00m convertArcObjectToPythonObject\n\u001b[0;32m  29523\u001b[0m \u001b[38;5;28;01mtry\u001b[39;00m:\n\u001b[0;32m  29524\u001b[0m     retval \u001b[38;5;241m=\u001b[39m convertArcObjectToPythonObject(\n\u001b[1;32m> 29525\u001b[0m         gp\u001b[38;5;241m.\u001b[39mBuildPyramids_management(\n\u001b[0;32m  29526\u001b[0m             \u001b[38;5;241m*\u001b[39mgp_fixargs(\n\u001b[0;32m  29527\u001b[0m                 (\n\u001b[0;32m  29528\u001b[0m                     in_raster_dataset,\n\u001b[0;32m  29529\u001b[0m                     pyramid_level,\n\u001b[0;32m  29530\u001b[0m                     SKIP_FIRST,\n\u001b[0;32m  29531\u001b[0m                     resample_technique,\n\u001b[0;32m  29532\u001b[0m                     compression_type,\n\u001b[0;32m  29533\u001b[0m                     compression_quality,\n\u001b[0;32m  29534\u001b[0m                     skip_existing,\n\u001b[0;32m  29535\u001b[0m                 ),\n\u001b[0;32m  29536\u001b[0m                 \u001b[38;5;28;01mTrue\u001b[39;00m,\n\u001b[0;32m  29537\u001b[0m             )\n\u001b[0;32m  29538\u001b[0m         )\n\u001b[0;32m  29539\u001b[0m     )\n\u001b[0;32m  29540\u001b[0m     \u001b[38;5;28;01mreturn\u001b[39;00m retval\n\u001b[0;32m  29541\u001b[0m \u001b[38;5;28;01mexcept\u001b[39;00m \u001b[38;5;167;01mException\u001b[39;00m \u001b[38;5;28;01mas\u001b[39;00m e:\n",
      "File \u001b[1;32m~\\AppData\\Local\\Programs\\ArcGIS\\Pro\\Resources\\ArcPy\\arcpy\\geoprocessing\\_base.py:533\u001b[0m, in \u001b[0;36mGeoprocessor.__getattr__.<locals>.<lambda>\u001b[1;34m(*args)\u001b[0m\n\u001b[0;32m    531\u001b[0m val \u001b[38;5;241m=\u001b[39m \u001b[38;5;28mgetattr\u001b[39m(\u001b[38;5;28mself\u001b[39m\u001b[38;5;241m.\u001b[39m_gp, attr)\n\u001b[0;32m    532\u001b[0m \u001b[38;5;28;01mif\u001b[39;00m \u001b[38;5;28mcallable\u001b[39m(val):\n\u001b[1;32m--> 533\u001b[0m     \u001b[38;5;28;01mreturn\u001b[39;00m \u001b[38;5;28;01mlambda\u001b[39;00m \u001b[38;5;241m*\u001b[39margs: val(\u001b[38;5;241m*\u001b[39mgp_fixargs(args, \u001b[38;5;28;01mTrue\u001b[39;00m))\n\u001b[0;32m    534\u001b[0m \u001b[38;5;28;01melse\u001b[39;00m:\n\u001b[0;32m    535\u001b[0m     \u001b[38;5;28;01mreturn\u001b[39;00m convertArcObjectToPythonObject(val)\n",
      "\u001b[1;31mExecuteError\u001b[0m: Failed to execute. Parameters are not valid.\nERROR 003083: This tool does not support mosaic datasets.\nFailed to execute (BuildPyramids).\n"
     ]
    }
   ],
   "source": [
    "gdb = r\"C:\\Users\\Shahriar Rahman\\OneDrive\\Desktop\\GIS\\Dhaka_NO2_Project\\Processed_Data\\NO2.gdb\"\n",
    "mosaic = os.path.join(gdb, \"NO2_Mosaic\")\n",
    "\n",
    "# 1️⃣ Rebuild internal catalog\n",
    "arcpy.management.AnalyzeMosaicDataset(mosaic)\n",
    "\n",
    "# 2️⃣ Recalculate statistics\n",
    "arcpy.management.CalculateStatistics(mosaic)\n",
    "\n",
    "# 3️⃣ Build pyramids to optimize display\n",
    "arcpy.management.BuildPyramids(mosaic)\n"
   ]
  },
  {
   "cell_type": "code",
   "execution_count": 13,
   "metadata": {},
   "outputs": [
    {
     "ename": "<class 'TypeError'>",
     "evalue": "BuildPyramidsandStatistics() got an unexpected keyword argument 'in_mosaic_dataset'",
     "output_type": "error",
     "traceback": [
      "\u001b[1;31m---------------------------------------------------------------------------\u001b[0m",
      "\u001b[1;31mTypeError\u001b[0m                                 Traceback (most recent call last)",
      "Cell \u001b[1;32mIn[13], line 1\u001b[0m\n\u001b[1;32m----> 1\u001b[0m arcpy\u001b[38;5;241m.\u001b[39mmanagement\u001b[38;5;241m.\u001b[39mBuildPyramidsandStatistics(\n\u001b[0;32m      2\u001b[0m     in_mosaic_dataset\u001b[38;5;241m=\u001b[39m\u001b[38;5;124mr\u001b[39m\u001b[38;5;124m\"\u001b[39m\u001b[38;5;124mC:\u001b[39m\u001b[38;5;124m\\\u001b[39m\u001b[38;5;124mpath\u001b[39m\u001b[38;5;124m\\\u001b[39m\u001b[38;5;124mto\u001b[39m\u001b[38;5;124m\\\u001b[39m\u001b[38;5;124myour.gdb\u001b[39m\u001b[38;5;124m\\\u001b[39m\u001b[38;5;124mNO2_Mosaic\u001b[39m\u001b[38;5;124m\"\u001b[39m,\n\u001b[0;32m      3\u001b[0m     calculate_statistics\u001b[38;5;241m=\u001b[39m\u001b[38;5;124m\"\u001b[39m\u001b[38;5;124mCALCULATE_STATISTICS\u001b[39m\u001b[38;5;124m\"\u001b[39m,\n\u001b[0;32m      4\u001b[0m     build_pyramids\u001b[38;5;241m=\u001b[39m\u001b[38;5;124m\"\u001b[39m\u001b[38;5;124mBUILD_PYRAMIDS\u001b[39m\u001b[38;5;124m\"\u001b[39m\n\u001b[0;32m      5\u001b[0m )\n",
      "\u001b[1;31mTypeError\u001b[0m: BuildPyramidsandStatistics() got an unexpected keyword argument 'in_mosaic_dataset'"
     ]
    }
   ],
   "source": [
    "arcpy.management.BuildPyramidsandStatistics(\n",
    "    in_mosaic_dataset=r\"C:\\path\\to\\your.gdb\\NO2_Mosaic\",\n",
    "    calculate_statistics=\"CALCULATE_STATISTICS\",\n",
    "    build_pyramids=\"BUILD_PYRAMIDS\"\n",
    ")"
   ]
  },
  {
   "cell_type": "code",
   "execution_count": 14,
   "metadata": {},
   "outputs": [
    {
     "data": {
      "text/html": [
       "<div class='gpresult'><h2 class='msg-title'>Messages</h2><div id='messages'>Start Time: Tuesday, October 21, 2025 12:32:01 AM<br>72 out of 72 datasets processed<br>Succeeded at Tuesday, October 21, 2025 12:32:21 AM (Elapsed Time: 20.04 seconds)<br></div><div id = 'default' /></div></div>"
      ],
      "text/plain": [
       "<Result 'C:\\\\Users\\\\Shahriar Rahman\\\\OneDrive\\\\Desktop\\\\GIS\\\\Dhaka_NO2_Project\\\\Processed_Data\\\\NO2.gdb\\\\NO2_Mosaic'>"
      ]
     },
     "execution_count": 14,
     "metadata": {},
     "output_type": "execute_result"
    }
   ],
   "source": [
    "import arcpy\n",
    "import os\n",
    "\n",
    "gdb = r\"C:\\Users\\Shahriar Rahman\\OneDrive\\Desktop\\GIS\\Dhaka_NO2_Project\\Processed_Data\\NO2.gdb\"\n",
    "mosaic = os.path.join(gdb, \"NO2_Mosaic\")\n",
    "\n",
    "# ✅ Correct way (positional arguments)\n",
    "arcpy.management.BuildPyramidsandStatistics(\n",
    "    mosaic,                # Input dataset (mosaic or raster)\n",
    "    \"INCLUDE_SUBDIRECTORIES\",  # Leave as default\n",
    "    \"BUILD_PYRAMIDS\",          # Build pyramids\n",
    "    \"CALCULATE_STATISTICS\"     # Calculate stats\n",
    ")\n"
   ]
  },
  {
   "cell_type": "code",
   "execution_count": 15,
   "metadata": {},
   "outputs": [
    {
     "ename": "<class 'arcgisscripting.ExecuteError'>",
     "evalue": "ERROR 999999: Something unexpected caused the tool to fail. Contact Esri Technical Support (http://esriurl.com/support) to Report a Bug, and refer to the error help for potential solutions or workarounds.\nFailed to execute (BuildMultidimensionalInfo).\n",
     "output_type": "error",
     "traceback": [
      "\u001b[1;31m---------------------------------------------------------------------------\u001b[0m",
      "\u001b[1;31mExecuteError\u001b[0m                              Traceback (most recent call last)",
      "Cell \u001b[1;32mIn[15], line 5\u001b[0m\n\u001b[0;32m      2\u001b[0m arcpy\u001b[38;5;241m.\u001b[39mmanagement\u001b[38;5;241m.\u001b[39mAnalyzeMosaicDataset(mosaic)\n\u001b[0;32m      4\u001b[0m \u001b[38;5;66;03m# Build multidimensional info\u001b[39;00m\n\u001b[1;32m----> 5\u001b[0m arcpy\u001b[38;5;241m.\u001b[39mmd\u001b[38;5;241m.\u001b[39mBuildMultidimensionalInfo(\n\u001b[0;32m      6\u001b[0m     mosaic,\n\u001b[0;32m      7\u001b[0m     variable_field\u001b[38;5;241m=\u001b[39m\u001b[38;5;124m\"\u001b[39m\u001b[38;5;124mProductName\u001b[39m\u001b[38;5;124m\"\u001b[39m,\n\u001b[0;32m      8\u001b[0m     dimension_fields\u001b[38;5;241m=\u001b[39m\u001b[38;5;124m\"\u001b[39m\u001b[38;5;124mRasterDate\u001b[39m\u001b[38;5;124m\"\u001b[39m\n\u001b[0;32m      9\u001b[0m )\n",
      "File \u001b[1;32m~\\AppData\\Local\\Programs\\ArcGIS\\Pro\\Resources\\ArcPy\\arcpy\\md.py:120\u001b[0m, in \u001b[0;36mBuildMultidimensionalInfo\u001b[1;34m(in_mosaic_dataset, variable_field, dimension_fields, variable_desc_units, delete_multidimensional_info)\u001b[0m\n\u001b[0;32m    118\u001b[0m     \u001b[38;5;28;01mreturn\u001b[39;00m retval\n\u001b[0;32m    119\u001b[0m \u001b[38;5;28;01mexcept\u001b[39;00m \u001b[38;5;167;01mException\u001b[39;00m \u001b[38;5;28;01mas\u001b[39;00m e:\n\u001b[1;32m--> 120\u001b[0m     \u001b[38;5;28;01mraise\u001b[39;00m e\n",
      "File \u001b[1;32m~\\AppData\\Local\\Programs\\ArcGIS\\Pro\\Resources\\ArcPy\\arcpy\\md.py:105\u001b[0m, in \u001b[0;36mBuildMultidimensionalInfo\u001b[1;34m(in_mosaic_dataset, variable_field, dimension_fields, variable_desc_units, delete_multidimensional_info)\u001b[0m\n\u001b[0;32m    101\u001b[0m \u001b[38;5;28;01mfrom\u001b[39;00m \u001b[38;5;21;01marcpy\u001b[39;00m\u001b[38;5;21;01m.\u001b[39;00m\u001b[38;5;21;01marcobjects\u001b[39;00m\u001b[38;5;21;01m.\u001b[39;00m\u001b[38;5;21;01marcobjectconversion\u001b[39;00m \u001b[38;5;28;01mimport\u001b[39;00m convertArcObjectToPythonObject\n\u001b[0;32m    103\u001b[0m \u001b[38;5;28;01mtry\u001b[39;00m:\n\u001b[0;32m    104\u001b[0m     retval \u001b[38;5;241m=\u001b[39m convertArcObjectToPythonObject(\n\u001b[1;32m--> 105\u001b[0m         gp\u001b[38;5;241m.\u001b[39mBuildMultidimensionalInfo_md(\n\u001b[0;32m    106\u001b[0m             \u001b[38;5;241m*\u001b[39mgp_fixargs(\n\u001b[0;32m    107\u001b[0m                 (\n\u001b[0;32m    108\u001b[0m                     in_mosaic_dataset,\n\u001b[0;32m    109\u001b[0m                     variable_field,\n\u001b[0;32m    110\u001b[0m                     dimension_fields,\n\u001b[0;32m    111\u001b[0m                     variable_desc_units,\n\u001b[0;32m    112\u001b[0m                     delete_multidimensional_info,\n\u001b[0;32m    113\u001b[0m                 ),\n\u001b[0;32m    114\u001b[0m                 \u001b[38;5;28;01mTrue\u001b[39;00m,\n\u001b[0;32m    115\u001b[0m             )\n\u001b[0;32m    116\u001b[0m         )\n\u001b[0;32m    117\u001b[0m     )\n\u001b[0;32m    118\u001b[0m     \u001b[38;5;28;01mreturn\u001b[39;00m retval\n\u001b[0;32m    119\u001b[0m \u001b[38;5;28;01mexcept\u001b[39;00m \u001b[38;5;167;01mException\u001b[39;00m \u001b[38;5;28;01mas\u001b[39;00m e:\n",
      "File \u001b[1;32m~\\AppData\\Local\\Programs\\ArcGIS\\Pro\\Resources\\ArcPy\\arcpy\\geoprocessing\\_base.py:533\u001b[0m, in \u001b[0;36mGeoprocessor.__getattr__.<locals>.<lambda>\u001b[1;34m(*args)\u001b[0m\n\u001b[0;32m    531\u001b[0m val \u001b[38;5;241m=\u001b[39m \u001b[38;5;28mgetattr\u001b[39m(\u001b[38;5;28mself\u001b[39m\u001b[38;5;241m.\u001b[39m_gp, attr)\n\u001b[0;32m    532\u001b[0m \u001b[38;5;28;01mif\u001b[39;00m \u001b[38;5;28mcallable\u001b[39m(val):\n\u001b[1;32m--> 533\u001b[0m     \u001b[38;5;28;01mreturn\u001b[39;00m \u001b[38;5;28;01mlambda\u001b[39;00m \u001b[38;5;241m*\u001b[39margs: val(\u001b[38;5;241m*\u001b[39mgp_fixargs(args, \u001b[38;5;28;01mTrue\u001b[39;00m))\n\u001b[0;32m    534\u001b[0m \u001b[38;5;28;01melse\u001b[39;00m:\n\u001b[0;32m    535\u001b[0m     \u001b[38;5;28;01mreturn\u001b[39;00m convertArcObjectToPythonObject(val)\n",
      "\u001b[1;31mExecuteError\u001b[0m: ERROR 999999: Something unexpected caused the tool to fail. Contact Esri Technical Support (http://esriurl.com/support) to Report a Bug, and refer to the error help for potential solutions or workarounds.\nFailed to execute (BuildMultidimensionalInfo).\n"
     ]
    }
   ],
   "source": [
    "# Analyze the mosaic\n",
    "arcpy.management.AnalyzeMosaicDataset(mosaic)\n",
    "\n",
    "# Build multidimensional info\n",
    "arcpy.md.BuildMultidimensionalInfo(\n",
    "    mosaic,\n",
    "    variable_field=\"ProductName\",\n",
    "    dimension_fields=\"RasterDate\"\n",
    ")\n"
   ]
  },
  {
   "cell_type": "code",
   "execution_count": 16,
   "metadata": {},
   "outputs": [
    {
     "name": "stdout",
     "output_type": "stream",
     "text": [
      "['OBJECTID', 'Shape', 'Raster', 'Name', 'MinPS', 'MaxPS', 'LowPS', 'HighPS', 'Category', 'Tag', 'GroupName', 'ProductName', 'CenterX', 'CenterY', 'ZOrder', 'TypeID', 'ItemTS', 'UriHash', 'Uri', 'Shape_Length', 'Shape_Area', 'RasterDate', 'StdTime', 'Dimensions', 'Variable']\n"
     ]
    }
   ],
   "source": [
    "import arcpy, os\n",
    "mosaic = r\"C:\\Users\\Shahriar Rahman\\OneDrive\\Desktop\\GIS\\Dhaka_NO2_Project\\Processed_Data\\NO2.gdb\\NO2_Mosaic\"\n",
    "\n",
    "fields = [f.name for f in arcpy.ListFields(mosaic)]\n",
    "print(fields)\n"
   ]
  },
  {
   "cell_type": "code",
   "execution_count": 17,
   "metadata": {},
   "outputs": [
    {
     "ename": "<class 'arcgisscripting.ExecuteError'>",
     "evalue": "ERROR 000539: Invalid field AcquisitionDate\nFailed to execute (CalculateField).\n",
     "output_type": "error",
     "traceback": [
      "\u001b[1;31m---------------------------------------------------------------------------\u001b[0m",
      "\u001b[1;31mExecuteError\u001b[0m                              Traceback (most recent call last)",
      "Cell \u001b[1;32mIn[17], line 2\u001b[0m\n\u001b[0;32m      1\u001b[0m arcpy\u001b[38;5;241m.\u001b[39mmanagement\u001b[38;5;241m.\u001b[39mAddField(mosaic, \u001b[38;5;124m\"\u001b[39m\u001b[38;5;124mRasterDate\u001b[39m\u001b[38;5;124m\"\u001b[39m, \u001b[38;5;124m\"\u001b[39m\u001b[38;5;124mDATE\u001b[39m\u001b[38;5;124m\"\u001b[39m)\n\u001b[1;32m----> 2\u001b[0m arcpy\u001b[38;5;241m.\u001b[39mmanagement\u001b[38;5;241m.\u001b[39mCalculateField(mosaic, \u001b[38;5;124m\"\u001b[39m\u001b[38;5;124mRasterDate\u001b[39m\u001b[38;5;124m\"\u001b[39m, \u001b[38;5;124m\"\u001b[39m\u001b[38;5;124m!AcquisitionDate!\u001b[39m\u001b[38;5;124m\"\u001b[39m, \u001b[38;5;124m\"\u001b[39m\u001b[38;5;124mPYTHON3\u001b[39m\u001b[38;5;124m\"\u001b[39m)\n",
      "File \u001b[1;32m~\\AppData\\Local\\Programs\\ArcGIS\\Pro\\Resources\\ArcPy\\arcpy\\management.py:8512\u001b[0m, in \u001b[0;36mCalculateField\u001b[1;34m(in_table, field, expression, expression_type, code_block, field_type, enforce_domains)\u001b[0m\n\u001b[0;32m   8510\u001b[0m     \u001b[38;5;28;01mreturn\u001b[39;00m retval\n\u001b[0;32m   8511\u001b[0m \u001b[38;5;28;01mexcept\u001b[39;00m \u001b[38;5;167;01mException\u001b[39;00m \u001b[38;5;28;01mas\u001b[39;00m e:\n\u001b[1;32m-> 8512\u001b[0m     \u001b[38;5;28;01mraise\u001b[39;00m e\n",
      "File \u001b[1;32m~\\AppData\\Local\\Programs\\ArcGIS\\Pro\\Resources\\ArcPy\\arcpy\\management.py:8504\u001b[0m, in \u001b[0;36mCalculateField\u001b[1;34m(in_table, field, expression, expression_type, code_block, field_type, enforce_domains)\u001b[0m\n\u001b[0;32m   8500\u001b[0m \u001b[38;5;28;01mfrom\u001b[39;00m \u001b[38;5;21;01marcpy\u001b[39;00m\u001b[38;5;21;01m.\u001b[39;00m\u001b[38;5;21;01marcobjects\u001b[39;00m\u001b[38;5;21;01m.\u001b[39;00m\u001b[38;5;21;01marcobjectconversion\u001b[39;00m \u001b[38;5;28;01mimport\u001b[39;00m convertArcObjectToPythonObject\n\u001b[0;32m   8502\u001b[0m \u001b[38;5;28;01mtry\u001b[39;00m:\n\u001b[0;32m   8503\u001b[0m     retval \u001b[38;5;241m=\u001b[39m convertArcObjectToPythonObject(\n\u001b[1;32m-> 8504\u001b[0m         gp\u001b[38;5;241m.\u001b[39mCalculateField_management(\n\u001b[0;32m   8505\u001b[0m             \u001b[38;5;241m*\u001b[39mgp_fixargs(\n\u001b[0;32m   8506\u001b[0m                 (in_table, field, expression, expression_type, code_block, field_type, enforce_domains), \u001b[38;5;28;01mTrue\u001b[39;00m\n\u001b[0;32m   8507\u001b[0m             )\n\u001b[0;32m   8508\u001b[0m         )\n\u001b[0;32m   8509\u001b[0m     )\n\u001b[0;32m   8510\u001b[0m     \u001b[38;5;28;01mreturn\u001b[39;00m retval\n\u001b[0;32m   8511\u001b[0m \u001b[38;5;28;01mexcept\u001b[39;00m \u001b[38;5;167;01mException\u001b[39;00m \u001b[38;5;28;01mas\u001b[39;00m e:\n",
      "File \u001b[1;32m~\\AppData\\Local\\Programs\\ArcGIS\\Pro\\Resources\\ArcPy\\arcpy\\geoprocessing\\_base.py:533\u001b[0m, in \u001b[0;36mGeoprocessor.__getattr__.<locals>.<lambda>\u001b[1;34m(*args)\u001b[0m\n\u001b[0;32m    531\u001b[0m val \u001b[38;5;241m=\u001b[39m \u001b[38;5;28mgetattr\u001b[39m(\u001b[38;5;28mself\u001b[39m\u001b[38;5;241m.\u001b[39m_gp, attr)\n\u001b[0;32m    532\u001b[0m \u001b[38;5;28;01mif\u001b[39;00m \u001b[38;5;28mcallable\u001b[39m(val):\n\u001b[1;32m--> 533\u001b[0m     \u001b[38;5;28;01mreturn\u001b[39;00m \u001b[38;5;28;01mlambda\u001b[39;00m \u001b[38;5;241m*\u001b[39margs: val(\u001b[38;5;241m*\u001b[39mgp_fixargs(args, \u001b[38;5;28;01mTrue\u001b[39;00m))\n\u001b[0;32m    534\u001b[0m \u001b[38;5;28;01melse\u001b[39;00m:\n\u001b[0;32m    535\u001b[0m     \u001b[38;5;28;01mreturn\u001b[39;00m convertArcObjectToPythonObject(val)\n",
      "\u001b[1;31mExecuteError\u001b[0m: ERROR 000539: Invalid field AcquisitionDate\nFailed to execute (CalculateField).\n"
     ]
    }
   ],
   "source": [
    "arcpy.management.AddField(mosaic, \"RasterDate\", \"DATE\")\n",
    "arcpy.management.CalculateField(mosaic, \"RasterDate\", \"!AcquisitionDate!\", \"PYTHON3\")\n"
   ]
  },
  {
   "cell_type": "code",
   "execution_count": 18,
   "metadata": {},
   "outputs": [
    {
     "data": {
      "text/html": [
       "<div class='gpresult'><h2 class='msg-title'>Messages</h2><div id='messages'>Start Time: Tuesday, October 21, 2025 12:36:26 AM<br>2025-10-21T00:36:27.689: Distributing mosaic dataset operation across 6 parallel instances on the specified host: [ADMINISTRATOR].<br>2025-10-21T00:36:39.938: Analyzed 72 mosaic dataset items; found 1 error(s) and 1 warning(s). <br>Error: Low: The mosaic dataset item references files that are inaccessible. [72 items]<br>Warning: High: The mosaic dataset does not have overviews.<br>Succeeded at Tuesday, October 21, 2025 12:36:43 AM (Elapsed Time: 17.12 seconds)<br></div><div id = 'default' /></div></div>"
      ],
      "text/plain": [
       "<Result 'C:\\\\Users\\\\Shahriar Rahman\\\\OneDrive\\\\Desktop\\\\GIS\\\\Dhaka_NO2_Project\\\\Processed_Data\\\\NO2.gdb\\\\NO2_Mosaic'>"
      ]
     },
     "execution_count": 18,
     "metadata": {},
     "output_type": "execute_result"
    }
   ],
   "source": [
    "# Recalculate statistics and analyze integrity\n",
    "arcpy.management.BuildPyramidsandStatistics(mosaic, \"\", \"BUILD_PYRAMIDS\", \"CALCULATE_STATISTICS\")\n",
    "arcpy.management.AnalyzeMosaicDataset(mosaic)\n"
   ]
  },
  {
   "cell_type": "code",
   "execution_count": 19,
   "metadata": {},
   "outputs": [
    {
     "ename": "<class 'arcgisscripting.ExecuteError'>",
     "evalue": "ERROR 000622: Failed to execute (Build Multidimensional Info). Parameters are not valid.\nERROR 000800: The value is not a member of DELETE_MULTIDIMENSIONAL_INFO | NO_DELETE_MULTIDIMENSIONAL_INFO.\n",
     "output_type": "error",
     "traceback": [
      "\u001b[1;31m---------------------------------------------------------------------------\u001b[0m",
      "\u001b[1;31mExecuteError\u001b[0m                              Traceback (most recent call last)",
      "Cell \u001b[1;32mIn[19], line 1\u001b[0m\n\u001b[1;32m----> 1\u001b[0m arcpy\u001b[38;5;241m.\u001b[39mmd\u001b[38;5;241m.\u001b[39mBuildMultidimensionalInfo(\n\u001b[0;32m      2\u001b[0m     mosaic,          \u001b[38;5;66;03m# Input mosaic dataset\u001b[39;00m\n\u001b[0;32m      3\u001b[0m     \u001b[38;5;124m\"\u001b[39m\u001b[38;5;124mProductName\u001b[39m\u001b[38;5;124m\"\u001b[39m,   \u001b[38;5;66;03m# Variable field\u001b[39;00m\n\u001b[0;32m      4\u001b[0m     \u001b[38;5;124m\"\u001b[39m\u001b[38;5;124mRasterDate\u001b[39m\u001b[38;5;124m\"\u001b[39m,    \u001b[38;5;66;03m# Dimension field\u001b[39;00m\n\u001b[0;32m      5\u001b[0m     \u001b[38;5;124m\"\u001b[39m\u001b[38;5;124m\"\u001b[39m,              \u001b[38;5;66;03m# Units (leave blank)\u001b[39;00m\n\u001b[0;32m      6\u001b[0m     \u001b[38;5;124m\"\u001b[39m\u001b[38;5;124mDELETE_INFO\u001b[39m\u001b[38;5;124m\"\u001b[39m    \u001b[38;5;66;03m# Optional: use \"NO_DELETE_INFO\" if you already have info\u001b[39;00m\n\u001b[0;32m      7\u001b[0m )\n",
      "File \u001b[1;32m~\\AppData\\Local\\Programs\\ArcGIS\\Pro\\Resources\\ArcPy\\arcpy\\md.py:120\u001b[0m, in \u001b[0;36mBuildMultidimensionalInfo\u001b[1;34m(in_mosaic_dataset, variable_field, dimension_fields, variable_desc_units, delete_multidimensional_info)\u001b[0m\n\u001b[0;32m    118\u001b[0m     \u001b[38;5;28;01mreturn\u001b[39;00m retval\n\u001b[0;32m    119\u001b[0m \u001b[38;5;28;01mexcept\u001b[39;00m \u001b[38;5;167;01mException\u001b[39;00m \u001b[38;5;28;01mas\u001b[39;00m e:\n\u001b[1;32m--> 120\u001b[0m     \u001b[38;5;28;01mraise\u001b[39;00m e\n",
      "File \u001b[1;32m~\\AppData\\Local\\Programs\\ArcGIS\\Pro\\Resources\\ArcPy\\arcpy\\md.py:105\u001b[0m, in \u001b[0;36mBuildMultidimensionalInfo\u001b[1;34m(in_mosaic_dataset, variable_field, dimension_fields, variable_desc_units, delete_multidimensional_info)\u001b[0m\n\u001b[0;32m    101\u001b[0m \u001b[38;5;28;01mfrom\u001b[39;00m \u001b[38;5;21;01marcpy\u001b[39;00m\u001b[38;5;21;01m.\u001b[39;00m\u001b[38;5;21;01marcobjects\u001b[39;00m\u001b[38;5;21;01m.\u001b[39;00m\u001b[38;5;21;01marcobjectconversion\u001b[39;00m \u001b[38;5;28;01mimport\u001b[39;00m convertArcObjectToPythonObject\n\u001b[0;32m    103\u001b[0m \u001b[38;5;28;01mtry\u001b[39;00m:\n\u001b[0;32m    104\u001b[0m     retval \u001b[38;5;241m=\u001b[39m convertArcObjectToPythonObject(\n\u001b[1;32m--> 105\u001b[0m         gp\u001b[38;5;241m.\u001b[39mBuildMultidimensionalInfo_md(\n\u001b[0;32m    106\u001b[0m             \u001b[38;5;241m*\u001b[39mgp_fixargs(\n\u001b[0;32m    107\u001b[0m                 (\n\u001b[0;32m    108\u001b[0m                     in_mosaic_dataset,\n\u001b[0;32m    109\u001b[0m                     variable_field,\n\u001b[0;32m    110\u001b[0m                     dimension_fields,\n\u001b[0;32m    111\u001b[0m                     variable_desc_units,\n\u001b[0;32m    112\u001b[0m                     delete_multidimensional_info,\n\u001b[0;32m    113\u001b[0m                 ),\n\u001b[0;32m    114\u001b[0m                 \u001b[38;5;28;01mTrue\u001b[39;00m,\n\u001b[0;32m    115\u001b[0m             )\n\u001b[0;32m    116\u001b[0m         )\n\u001b[0;32m    117\u001b[0m     )\n\u001b[0;32m    118\u001b[0m     \u001b[38;5;28;01mreturn\u001b[39;00m retval\n\u001b[0;32m    119\u001b[0m \u001b[38;5;28;01mexcept\u001b[39;00m \u001b[38;5;167;01mException\u001b[39;00m \u001b[38;5;28;01mas\u001b[39;00m e:\n",
      "File \u001b[1;32m~\\AppData\\Local\\Programs\\ArcGIS\\Pro\\Resources\\ArcPy\\arcpy\\geoprocessing\\_base.py:533\u001b[0m, in \u001b[0;36mGeoprocessor.__getattr__.<locals>.<lambda>\u001b[1;34m(*args)\u001b[0m\n\u001b[0;32m    531\u001b[0m val \u001b[38;5;241m=\u001b[39m \u001b[38;5;28mgetattr\u001b[39m(\u001b[38;5;28mself\u001b[39m\u001b[38;5;241m.\u001b[39m_gp, attr)\n\u001b[0;32m    532\u001b[0m \u001b[38;5;28;01mif\u001b[39;00m \u001b[38;5;28mcallable\u001b[39m(val):\n\u001b[1;32m--> 533\u001b[0m     \u001b[38;5;28;01mreturn\u001b[39;00m \u001b[38;5;28;01mlambda\u001b[39;00m \u001b[38;5;241m*\u001b[39margs: val(\u001b[38;5;241m*\u001b[39mgp_fixargs(args, \u001b[38;5;28;01mTrue\u001b[39;00m))\n\u001b[0;32m    534\u001b[0m \u001b[38;5;28;01melse\u001b[39;00m:\n\u001b[0;32m    535\u001b[0m     \u001b[38;5;28;01mreturn\u001b[39;00m convertArcObjectToPythonObject(val)\n",
      "\u001b[1;31mExecuteError\u001b[0m: ERROR 000622: Failed to execute (Build Multidimensional Info). Parameters are not valid.\nERROR 000800: The value is not a member of DELETE_MULTIDIMENSIONAL_INFO | NO_DELETE_MULTIDIMENSIONAL_INFO.\n"
     ]
    }
   ],
   "source": [
    "arcpy.md.BuildMultidimensionalInfo(\n",
    "    mosaic,          # Input mosaic dataset\n",
    "    \"ProductName\",   # Variable field\n",
    "    \"RasterDate\",    # Dimension field\n",
    "    \"\",              # Units (leave blank)\n",
    "    \"DELETE_INFO\"    # Optional: use \"NO_DELETE_INFO\" if you already have info\n",
    ")\n"
   ]
  },
  {
   "cell_type": "code",
   "execution_count": 20,
   "metadata": {},
   "outputs": [
    {
     "name": "stdout",
     "output_type": "stream",
     "text": [
      "OBJECTID OID\n",
      "Shape Geometry\n",
      "Raster Raster\n",
      "Name String\n",
      "MinPS Double\n",
      "MaxPS Double\n",
      "LowPS Double\n",
      "HighPS Double\n",
      "Category Integer\n",
      "Tag String\n",
      "GroupName String\n",
      "ProductName String\n",
      "CenterX Double\n",
      "CenterY Double\n",
      "ZOrder Integer\n",
      "TypeID Integer\n",
      "ItemTS Double\n",
      "UriHash String\n",
      "Uri Blob\n",
      "Shape_Length Double\n",
      "Shape_Area Double\n",
      "RasterDate Date\n",
      "StdTime Date\n",
      "Dimensions String\n",
      "Variable String\n"
     ]
    }
   ],
   "source": [
    "import arcpy\n",
    "mosaic = r\"C:\\Users\\Shahriar Rahman\\OneDrive\\Desktop\\GIS\\Dhaka_NO2_Project\\Processed_Data\\NO2.gdb\\NO2_Mosaic\"\n",
    "\n",
    "for f in arcpy.ListFields(mosaic):\n",
    "    print(f.name, f.type)\n"
   ]
  },
  {
   "cell_type": "code",
   "execution_count": 21,
   "metadata": {},
   "outputs": [
    {
     "name": "stdout",
     "output_type": "stream",
     "text": [
      "OBJECTID OID\n",
      "Shape Geometry\n",
      "Raster Raster\n",
      "Name String\n",
      "MinPS Double\n",
      "MaxPS Double\n",
      "LowPS Double\n",
      "HighPS Double\n",
      "Category Integer\n",
      "Tag String\n",
      "GroupName String\n",
      "ProductName String\n",
      "CenterX Double\n",
      "CenterY Double\n",
      "ZOrder Integer\n",
      "TypeID Integer\n",
      "ItemTS Double\n",
      "UriHash String\n",
      "Uri Blob\n",
      "Shape_Length Double\n",
      "Shape_Area Double\n",
      "RasterDate Date\n",
      "StdTime Date\n",
      "Dimensions String\n",
      "Variable String\n"
     ]
    }
   ],
   "source": [
    "import arcpy\n",
    "mosaic = r\"C:\\Users\\Shahriar Rahman\\OneDrive\\Desktop\\GIS\\Dhaka_NO2_Project\\Processed_Data\\NO2.gdb\\NO2_Mosaic\"\n",
    "\n",
    "for f in arcpy.ListFields(mosaic):\n",
    "    print(f.name, f.type)\n"
   ]
  },
  {
   "cell_type": "code",
   "execution_count": 22,
   "metadata": {},
   "outputs": [
    {
     "ename": "<class 'arcgisscripting.ExecuteError'>",
     "evalue": "ERROR 000622: Failed to execute (Build Multidimensional Info). Parameters are not valid.\nERROR 000800: The value is not a member of DELETE_MULTIDIMENSIONAL_INFO | NO_DELETE_MULTIDIMENSIONAL_INFO.\n",
     "output_type": "error",
     "traceback": [
      "\u001b[1;31m---------------------------------------------------------------------------\u001b[0m",
      "\u001b[1;31mExecuteError\u001b[0m                              Traceback (most recent call last)",
      "Cell \u001b[1;32mIn[22], line 17\u001b[0m\n\u001b[0;32m     14\u001b[0m arcpy\u001b[38;5;241m.\u001b[39mmanagement\u001b[38;5;241m.\u001b[39mAnalyzeMosaicDataset(mosaic)\n\u001b[0;32m     16\u001b[0m \u001b[38;5;66;03m# Now run multidimensional builder\u001b[39;00m\n\u001b[1;32m---> 17\u001b[0m arcpy\u001b[38;5;241m.\u001b[39mmd\u001b[38;5;241m.\u001b[39mBuildMultidimensionalInfo(mosaic, \u001b[38;5;124m\"\u001b[39m\u001b[38;5;124mProductName\u001b[39m\u001b[38;5;124m\"\u001b[39m, \u001b[38;5;124m\"\u001b[39m\u001b[38;5;124mRasterDate\u001b[39m\u001b[38;5;124m\"\u001b[39m, \u001b[38;5;124m\"\u001b[39m\u001b[38;5;124m\"\u001b[39m, \u001b[38;5;124m\"\u001b[39m\u001b[38;5;124mDELETE_INFO\u001b[39m\u001b[38;5;124m\"\u001b[39m)\n",
      "File \u001b[1;32m~\\AppData\\Local\\Programs\\ArcGIS\\Pro\\Resources\\ArcPy\\arcpy\\md.py:120\u001b[0m, in \u001b[0;36mBuildMultidimensionalInfo\u001b[1;34m(in_mosaic_dataset, variable_field, dimension_fields, variable_desc_units, delete_multidimensional_info)\u001b[0m\n\u001b[0;32m    118\u001b[0m     \u001b[38;5;28;01mreturn\u001b[39;00m retval\n\u001b[0;32m    119\u001b[0m \u001b[38;5;28;01mexcept\u001b[39;00m \u001b[38;5;167;01mException\u001b[39;00m \u001b[38;5;28;01mas\u001b[39;00m e:\n\u001b[1;32m--> 120\u001b[0m     \u001b[38;5;28;01mraise\u001b[39;00m e\n",
      "File \u001b[1;32m~\\AppData\\Local\\Programs\\ArcGIS\\Pro\\Resources\\ArcPy\\arcpy\\md.py:105\u001b[0m, in \u001b[0;36mBuildMultidimensionalInfo\u001b[1;34m(in_mosaic_dataset, variable_field, dimension_fields, variable_desc_units, delete_multidimensional_info)\u001b[0m\n\u001b[0;32m    101\u001b[0m \u001b[38;5;28;01mfrom\u001b[39;00m \u001b[38;5;21;01marcpy\u001b[39;00m\u001b[38;5;21;01m.\u001b[39;00m\u001b[38;5;21;01marcobjects\u001b[39;00m\u001b[38;5;21;01m.\u001b[39;00m\u001b[38;5;21;01marcobjectconversion\u001b[39;00m \u001b[38;5;28;01mimport\u001b[39;00m convertArcObjectToPythonObject\n\u001b[0;32m    103\u001b[0m \u001b[38;5;28;01mtry\u001b[39;00m:\n\u001b[0;32m    104\u001b[0m     retval \u001b[38;5;241m=\u001b[39m convertArcObjectToPythonObject(\n\u001b[1;32m--> 105\u001b[0m         gp\u001b[38;5;241m.\u001b[39mBuildMultidimensionalInfo_md(\n\u001b[0;32m    106\u001b[0m             \u001b[38;5;241m*\u001b[39mgp_fixargs(\n\u001b[0;32m    107\u001b[0m                 (\n\u001b[0;32m    108\u001b[0m                     in_mosaic_dataset,\n\u001b[0;32m    109\u001b[0m                     variable_field,\n\u001b[0;32m    110\u001b[0m                     dimension_fields,\n\u001b[0;32m    111\u001b[0m                     variable_desc_units,\n\u001b[0;32m    112\u001b[0m                     delete_multidimensional_info,\n\u001b[0;32m    113\u001b[0m                 ),\n\u001b[0;32m    114\u001b[0m                 \u001b[38;5;28;01mTrue\u001b[39;00m,\n\u001b[0;32m    115\u001b[0m             )\n\u001b[0;32m    116\u001b[0m         )\n\u001b[0;32m    117\u001b[0m     )\n\u001b[0;32m    118\u001b[0m     \u001b[38;5;28;01mreturn\u001b[39;00m retval\n\u001b[0;32m    119\u001b[0m \u001b[38;5;28;01mexcept\u001b[39;00m \u001b[38;5;167;01mException\u001b[39;00m \u001b[38;5;28;01mas\u001b[39;00m e:\n",
      "File \u001b[1;32m~\\AppData\\Local\\Programs\\ArcGIS\\Pro\\Resources\\ArcPy\\arcpy\\geoprocessing\\_base.py:533\u001b[0m, in \u001b[0;36mGeoprocessor.__getattr__.<locals>.<lambda>\u001b[1;34m(*args)\u001b[0m\n\u001b[0;32m    531\u001b[0m val \u001b[38;5;241m=\u001b[39m \u001b[38;5;28mgetattr\u001b[39m(\u001b[38;5;28mself\u001b[39m\u001b[38;5;241m.\u001b[39m_gp, attr)\n\u001b[0;32m    532\u001b[0m \u001b[38;5;28;01mif\u001b[39;00m \u001b[38;5;28mcallable\u001b[39m(val):\n\u001b[1;32m--> 533\u001b[0m     \u001b[38;5;28;01mreturn\u001b[39;00m \u001b[38;5;28;01mlambda\u001b[39;00m \u001b[38;5;241m*\u001b[39margs: val(\u001b[38;5;241m*\u001b[39mgp_fixargs(args, \u001b[38;5;28;01mTrue\u001b[39;00m))\n\u001b[0;32m    534\u001b[0m \u001b[38;5;28;01melse\u001b[39;00m:\n\u001b[0;32m    535\u001b[0m     \u001b[38;5;28;01mreturn\u001b[39;00m convertArcObjectToPythonObject(val)\n",
      "\u001b[1;31mExecuteError\u001b[0m: ERROR 000622: Failed to execute (Build Multidimensional Info). Parameters are not valid.\nERROR 000800: The value is not a member of DELETE_MULTIDIMENSIONAL_INFO | NO_DELETE_MULTIDIMENSIONAL_INFO.\n"
     ]
    }
   ],
   "source": [
    "import arcpy\n",
    "\n",
    "mosaic = r\"C:\\Users\\Shahriar Rahman\\OneDrive\\Desktop\\GIS\\Dhaka_NO2_Project\\Processed_Data\\NO2.gdb\\NO2_Mosaic\"\n",
    "\n",
    "# Delete old info tables if they exist (optional but helpful)\n",
    "for t in [\"MDINFO\", \"MDVARIABLES\", \"MDDIMENSIONS\"]:\n",
    "    try:\n",
    "        arcpy.management.Delete(os.path.join(mosaic, t))\n",
    "    except:\n",
    "        pass\n",
    "\n",
    "# Rebuild mosaic health\n",
    "arcpy.management.BuildPyramidsandStatistics(mosaic, \"\", \"BUILD_PYRAMIDS\", \"CALCULATE_STATISTICS\")\n",
    "arcpy.management.AnalyzeMosaicDataset(mosaic)\n",
    "\n",
    "# Now run multidimensional builder\n",
    "arcpy.md.BuildMultidimensionalInfo(mosaic, \"ProductName\", \"RasterDate\", \"\", \"DELETE_INFO\")\n"
   ]
  },
  {
   "cell_type": "code",
   "execution_count": 23,
   "metadata": {},
   "outputs": [
    {
     "data": {
      "text/html": [
       "<div class='gpresult'><h2 class='msg-title'>Messages</h2><div id='messages'>Start Time: Tuesday, October 21, 2025 12:48:49 AM<br>2025-10-21T00:48:50.534: Distributing mosaic dataset operation across 6 parallel instances on the specified host: [ADMINISTRATOR].<br>2025-10-21T00:49:02.331: Analyzed 72 mosaic dataset items; found 1 error(s) and 1 warning(s). <br>Error: Low: The mosaic dataset item references files that are inaccessible. [72 items]<br>Warning: High: The mosaic dataset does not have overviews.<br>Succeeded at Tuesday, October 21, 2025 12:49:05 AM (Elapsed Time: 16.33 seconds)<br></div><div id = 'default' /></div></div>"
      ],
      "text/plain": [
       "<Result 'C:\\\\Users\\\\Shahriar Rahman\\\\OneDrive\\\\Desktop\\\\GIS\\\\Dhaka_NO2_Project\\\\Processed_Data\\\\NO2.gdb\\\\NO2_Mosaic'>"
      ]
     },
     "execution_count": 23,
     "metadata": {},
     "output_type": "execute_result"
    }
   ],
   "source": [
    "arcpy.management.BuildPyramidsandStatistics(mosaic, \"\", \"BUILD_PYRAMIDS\", \"CALCULATE_STATISTICS\")\n",
    "arcpy.management.AnalyzeMosaicDataset(mosaic)"
   ]
  },
  {
   "cell_type": "code",
   "execution_count": 24,
   "metadata": {},
   "outputs": [
    {
     "ename": "<class 'AttributeError'>",
     "evalue": "module 'arcpy.management' has no attribute 'VerifyAndRepairMosaicDatasetPaths'",
     "output_type": "error",
     "traceback": [
      "\u001b[1;31m---------------------------------------------------------------------------\u001b[0m",
      "\u001b[1;31mAttributeError\u001b[0m                            Traceback (most recent call last)",
      "Cell \u001b[1;32mIn[24], line 1\u001b[0m\n\u001b[1;32m----> 1\u001b[0m arcpy\u001b[38;5;241m.\u001b[39mmanagement\u001b[38;5;241m.\u001b[39mVerifyAndRepairMosaicDatasetPaths(mosaic, \u001b[38;5;124m\"\u001b[39m\u001b[38;5;124mREPAIR\u001b[39m\u001b[38;5;124m\"\u001b[39m)\n",
      "\u001b[1;31mAttributeError\u001b[0m: module 'arcpy.management' has no attribute 'VerifyAndRepairMosaicDatasetPaths'"
     ]
    }
   ],
   "source": [
    "arcpy.management.VerifyAndRepairMosaicDatasetPaths(mosaic, \"REPAIR\")"
   ]
  },
  {
   "cell_type": "code",
   "execution_count": 25,
   "metadata": {},
   "outputs": [
    {
     "ename": "<class 'AttributeError'>",
     "evalue": "module 'arcpy.ia' has no attribute 'VerifyAndRepairMosaicDatasetPaths'",
     "output_type": "error",
     "traceback": [
      "\u001b[1;31m---------------------------------------------------------------------------\u001b[0m",
      "\u001b[1;31mAttributeError\u001b[0m                            Traceback (most recent call last)",
      "Cell \u001b[1;32mIn[25], line 1\u001b[0m\n\u001b[1;32m----> 1\u001b[0m arcpy\u001b[38;5;241m.\u001b[39mia\u001b[38;5;241m.\u001b[39mVerifyAndRepairMosaicDatasetPaths(mosaic, \u001b[38;5;124m\"\u001b[39m\u001b[38;5;124mREPAIR\u001b[39m\u001b[38;5;124m\"\u001b[39m)\n",
      "\u001b[1;31mAttributeError\u001b[0m: module 'arcpy.ia' has no attribute 'VerifyAndRepairMosaicDatasetPaths'"
     ]
    }
   ],
   "source": [
    "arcpy.ia.VerifyAndRepairMosaicDatasetPaths(mosaic, \"REPAIR\")"
   ]
  },
  {
   "cell_type": "code",
   "execution_count": 27,
   "metadata": {},
   "outputs": [
    {
     "data": {
      "text/html": [
       "<div class='gpresult'><h2 class='msg-title'>Messages</h2><div id='messages'>Start Time: Tuesday, October 21, 2025 12:52:04 AM<br>2025-10-21T00:52:05.645: Loading raster datasets<br>2025-10-21T00:52:05.784: Completed crawling 72 data source items. Added 72 mosaic dataset items.<br>2025-10-21T00:52:05.787: Synchronizing crawled data source items<br>2025-10-21T00:52:05.803: Synchronizing items associated with raster type instance &#39;Raster Dataset&#39; [ID: 2].<br>2025-10-21T00:52:05.805: Distributing mosaic dataset operation across 6 parallel instances on the specified host: [ADMINISTRATOR].<br>2025-10-21T00:52:19.893: Completed synchronization: 72 items selected, 72 items synchronized.<br>2025-10-21T00:52:19.904: Computing cell size levels<br>2025-10-21T00:52:19.904: Computing unique cell size values<br>2025-10-21T00:52:20.176: Computing maximum cell size values<br>2025-10-21T00:52:20.179: Computing minimum cell size values<br>2025-10-21T00:52:20.182: Updating visibility values of selected items<br>2025-10-21T00:52:20.204: Computing maximum cell size for mosaic dataset<br>2025-10-21T00:52:20.209: Completed computing cell size ranges.<br>2025-10-21T00:52:20.212: Updating mosaic catalog extent<br>2025-10-21T00:52:20.262: Completed building boundary.<br>Succeeded at Tuesday, October 21, 2025 12:52:24 AM (Elapsed Time: 20.22 seconds)<br></div><div id = 'default' /></div></div>"
      ],
      "text/plain": [
       "<Result 'C:\\\\Users\\\\Shahriar Rahman\\\\OneDrive\\\\Desktop\\\\GIS\\\\Dhaka_NO2_Project\\\\Processed_Data\\\\NO2.gdb\\\\NO2_Mosaic'>"
      ]
     },
     "execution_count": 27,
     "metadata": {},
     "output_type": "execute_result"
    }
   ],
   "source": [
    "# Remove all rasters\n",
    "arcpy.management.RemoveRastersFromMosaicDataset(mosaic, \"OBJECTID > 0\")\n",
    "# Re-add rasters\n",
    "arcpy.management.AddRastersToMosaicDataset(\n",
    "    mosaic,\n",
    "    \"Raster Dataset\",\n",
    "    r\"C:\\Users\\Shahriar Rahman\\OneDrive\\Desktop\\GIS\\Dhaka_NO2_Project\\Processed_Data\\CRF_Rasters\",\n",
    "    update_overviews=\"NO_OVERVIEWS\"\n",
    ")"
   ]
  },
  {
   "cell_type": "code",
   "execution_count": 28,
   "metadata": {},
   "outputs": [
    {
     "data": {
      "text/html": [
       "<div class='gpresult'><h2 class='msg-title'>Messages</h2><div id='messages'>Start Time: Tuesday, October 21, 2025 12:54:33 AM<br>WARNING 000012: RasterDate already exists<br>Succeeded at Tuesday, October 21, 2025 12:54:36 AM (Elapsed Time: 2.74 seconds)<br></div><div id = 'default' /></div></div>"
      ],
      "text/plain": [
       "<Result 'C:\\\\Users\\\\Shahriar Rahman\\\\OneDrive\\\\Desktop\\\\GIS\\\\Dhaka_NO2_Project\\\\Processed_Data\\\\NO2.gdb\\\\NO2_Mosaic'>"
      ]
     },
     "execution_count": 28,
     "metadata": {},
     "output_type": "execute_result"
    }
   ],
   "source": [
    "arcpy.management.AddField(mosaic, \"RasterDate\", \"DATE\")"
   ]
  },
  {
   "cell_type": "code",
   "execution_count": 29,
   "metadata": {},
   "outputs": [
    {
     "ename": "<class 'arcgisscripting.ExecuteError'>",
     "evalue": "ERROR 999999: Something unexpected caused the tool to fail. Contact Esri Technical Support (http://esriurl.com/support) to Report a Bug, and refer to the error help for potential solutions or workarounds.\nFailed to execute (CalculateField).\n",
     "output_type": "error",
     "traceback": [
      "\u001b[1;31m---------------------------------------------------------------------------\u001b[0m",
      "\u001b[1;31mExecuteError\u001b[0m                              Traceback (most recent call last)",
      "Cell \u001b[1;32mIn[29], line 3\u001b[0m\n\u001b[0;32m      1\u001b[0m \u001b[38;5;28;01mimport\u001b[39;00m \u001b[38;5;21;01mdatetime\u001b[39;00m\n\u001b[1;32m----> 3\u001b[0m arcpy\u001b[38;5;241m.\u001b[39mmanagement\u001b[38;5;241m.\u001b[39mCalculateField(\n\u001b[0;32m      4\u001b[0m     mosaic,\n\u001b[0;32m      5\u001b[0m     \u001b[38;5;124m\"\u001b[39m\u001b[38;5;124mRasterDate\u001b[39m\u001b[38;5;124m\"\u001b[39m,\n\u001b[0;32m      6\u001b[0m     \u001b[38;5;124m\"\u001b[39m\u001b[38;5;124mdatetime.datetime.strptime(!Name!.split(\u001b[39m\u001b[38;5;124m'\u001b[39m\u001b[38;5;124m_\u001b[39m\u001b[38;5;124m'\u001b[39m\u001b[38;5;124m)[1], \u001b[39m\u001b[38;5;124m'\u001b[39m\u001b[38;5;124m%\u001b[39m\u001b[38;5;124mY\u001b[39m\u001b[38;5;124m%\u001b[39m\u001b[38;5;124mm\u001b[39m\u001b[38;5;124m'\u001b[39m\u001b[38;5;124m)\u001b[39m\u001b[38;5;124m\"\u001b[39m,\n\u001b[0;32m      7\u001b[0m     \u001b[38;5;124m\"\u001b[39m\u001b[38;5;124mPYTHON3\u001b[39m\u001b[38;5;124m\"\u001b[39m\n\u001b[0;32m      8\u001b[0m )\n",
      "File \u001b[1;32m~\\AppData\\Local\\Programs\\ArcGIS\\Pro\\Resources\\ArcPy\\arcpy\\management.py:8512\u001b[0m, in \u001b[0;36mCalculateField\u001b[1;34m(in_table, field, expression, expression_type, code_block, field_type, enforce_domains)\u001b[0m\n\u001b[0;32m   8510\u001b[0m     \u001b[38;5;28;01mreturn\u001b[39;00m retval\n\u001b[0;32m   8511\u001b[0m \u001b[38;5;28;01mexcept\u001b[39;00m \u001b[38;5;167;01mException\u001b[39;00m \u001b[38;5;28;01mas\u001b[39;00m e:\n\u001b[1;32m-> 8512\u001b[0m     \u001b[38;5;28;01mraise\u001b[39;00m e\n",
      "File \u001b[1;32m~\\AppData\\Local\\Programs\\ArcGIS\\Pro\\Resources\\ArcPy\\arcpy\\management.py:8504\u001b[0m, in \u001b[0;36mCalculateField\u001b[1;34m(in_table, field, expression, expression_type, code_block, field_type, enforce_domains)\u001b[0m\n\u001b[0;32m   8500\u001b[0m \u001b[38;5;28;01mfrom\u001b[39;00m \u001b[38;5;21;01marcpy\u001b[39;00m\u001b[38;5;21;01m.\u001b[39;00m\u001b[38;5;21;01marcobjects\u001b[39;00m\u001b[38;5;21;01m.\u001b[39;00m\u001b[38;5;21;01marcobjectconversion\u001b[39;00m \u001b[38;5;28;01mimport\u001b[39;00m convertArcObjectToPythonObject\n\u001b[0;32m   8502\u001b[0m \u001b[38;5;28;01mtry\u001b[39;00m:\n\u001b[0;32m   8503\u001b[0m     retval \u001b[38;5;241m=\u001b[39m convertArcObjectToPythonObject(\n\u001b[1;32m-> 8504\u001b[0m         gp\u001b[38;5;241m.\u001b[39mCalculateField_management(\n\u001b[0;32m   8505\u001b[0m             \u001b[38;5;241m*\u001b[39mgp_fixargs(\n\u001b[0;32m   8506\u001b[0m                 (in_table, field, expression, expression_type, code_block, field_type, enforce_domains), \u001b[38;5;28;01mTrue\u001b[39;00m\n\u001b[0;32m   8507\u001b[0m             )\n\u001b[0;32m   8508\u001b[0m         )\n\u001b[0;32m   8509\u001b[0m     )\n\u001b[0;32m   8510\u001b[0m     \u001b[38;5;28;01mreturn\u001b[39;00m retval\n\u001b[0;32m   8511\u001b[0m \u001b[38;5;28;01mexcept\u001b[39;00m \u001b[38;5;167;01mException\u001b[39;00m \u001b[38;5;28;01mas\u001b[39;00m e:\n",
      "File \u001b[1;32m~\\AppData\\Local\\Programs\\ArcGIS\\Pro\\Resources\\ArcPy\\arcpy\\geoprocessing\\_base.py:533\u001b[0m, in \u001b[0;36mGeoprocessor.__getattr__.<locals>.<lambda>\u001b[1;34m(*args)\u001b[0m\n\u001b[0;32m    531\u001b[0m val \u001b[38;5;241m=\u001b[39m \u001b[38;5;28mgetattr\u001b[39m(\u001b[38;5;28mself\u001b[39m\u001b[38;5;241m.\u001b[39m_gp, attr)\n\u001b[0;32m    532\u001b[0m \u001b[38;5;28;01mif\u001b[39;00m \u001b[38;5;28mcallable\u001b[39m(val):\n\u001b[1;32m--> 533\u001b[0m     \u001b[38;5;28;01mreturn\u001b[39;00m \u001b[38;5;28;01mlambda\u001b[39;00m \u001b[38;5;241m*\u001b[39margs: val(\u001b[38;5;241m*\u001b[39mgp_fixargs(args, \u001b[38;5;28;01mTrue\u001b[39;00m))\n\u001b[0;32m    534\u001b[0m \u001b[38;5;28;01melse\u001b[39;00m:\n\u001b[0;32m    535\u001b[0m     \u001b[38;5;28;01mreturn\u001b[39;00m convertArcObjectToPythonObject(val)\n",
      "\u001b[1;31mExecuteError\u001b[0m: ERROR 999999: Something unexpected caused the tool to fail. Contact Esri Technical Support (http://esriurl.com/support) to Report a Bug, and refer to the error help for potential solutions or workarounds.\nFailed to execute (CalculateField).\n"
     ]
    }
   ],
   "source": [
    "import datetime\n",
    "\n",
    "arcpy.management.CalculateField(\n",
    "    mosaic,\n",
    "    \"RasterDate\",\n",
    "    \"datetime.datetime.strptime(!Name!.split('_')[1], '%Y%m')\",\n",
    "    \"PYTHON3\"\n",
    ")"
   ]
  },
  {
   "cell_type": "code",
   "execution_count": 30,
   "metadata": {},
   "outputs": [
    {
     "name": "stdout",
     "output_type": "stream",
     "text": [
      "NO2_2019_01_clip_UTM\n",
      "NO2_2019_02_clip_UTM\n",
      "NO2_2019_03_clip_UTM\n",
      "NO2_2019_04_clip_UTM\n",
      "NO2_2019_05_clip_UTM\n",
      "NO2_2019_06_clip_UTM\n",
      "NO2_2019_07_clip_UTM\n",
      "NO2_2019_08_clip_UTM\n",
      "NO2_2019_09_clip_UTM\n",
      "NO2_2019_10_clip_UTM\n",
      "NO2_2019_11_clip_UTM\n",
      "NO2_2019_12_clip_UTM\n",
      "NO2_2020_01_clip_UTM\n",
      "NO2_2020_02_clip_UTM\n",
      "NO2_2020_03_clip_UTM\n",
      "NO2_2020_04_clip_UTM\n",
      "NO2_2020_05_clip_UTM\n",
      "NO2_2020_06_clip_UTM\n",
      "NO2_2020_07_clip_UTM\n",
      "NO2_2020_08_clip_UTM\n",
      "NO2_2020_09_clip_UTM\n",
      "NO2_2020_10_clip_UTM\n",
      "NO2_2020_11_clip_UTM\n",
      "NO2_2020_12_clip_UTM\n",
      "NO2_2021_01_clip_UTM\n",
      "NO2_2021_02_clip_UTM\n",
      "NO2_2021_03_clip_UTM\n",
      "NO2_2021_04_clip_UTM\n",
      "NO2_2021_05_clip_UTM\n",
      "NO2_2021_06_clip_UTM\n",
      "NO2_2021_07_clip_UTM\n",
      "NO2_2021_08_clip_UTM\n",
      "NO2_2021_09_clip_UTM\n",
      "NO2_2021_10_clip_UTM\n",
      "NO2_2021_11_clip_UTM\n",
      "NO2_2021_12_clip_UTM\n",
      "NO2_2022_01_clip_UTM\n",
      "NO2_2022_02_clip_UTM\n",
      "NO2_2022_03_clip_UTM\n",
      "NO2_2022_04_clip_UTM\n",
      "NO2_2022_05_clip_UTM\n",
      "NO2_2022_06_clip_UTM\n",
      "NO2_2022_07_clip_UTM\n",
      "NO2_2022_08_clip_UTM\n",
      "NO2_2022_09_clip_UTM\n",
      "NO2_2022_10_clip_UTM\n",
      "NO2_2022_11_clip_UTM\n",
      "NO2_2022_12_clip_UTM\n",
      "NO2_2023_01_clip_UTM\n",
      "NO2_2023_02_clip_UTM\n",
      "NO2_2023_03_clip_UTM\n",
      "NO2_2023_04_clip_UTM\n",
      "NO2_2023_05_clip_UTM\n",
      "NO2_2023_06_clip_UTM\n",
      "NO2_2023_07_clip_UTM\n",
      "NO2_2023_08_clip_UTM\n",
      "NO2_2023_09_clip_UTM\n",
      "NO2_2023_10_clip_UTM\n",
      "NO2_2023_11_clip_UTM\n",
      "NO2_2023_12_clip_UTM\n",
      "NO2_2024_01_clip_UTM\n",
      "NO2_2024_02_clip_UTM\n",
      "NO2_2024_03_clip_UTM\n",
      "NO2_2024_04_clip_UTM\n",
      "NO2_2024_05_clip_UTM\n",
      "NO2_2024_06_clip_UTM\n",
      "NO2_2024_07_clip_UTM\n",
      "NO2_2024_08_clip_UTM\n",
      "NO2_2024_09_clip_UTM\n",
      "NO2_2024_10_clip_UTM\n",
      "NO2_2024_11_clip_UTM\n",
      "NO2_2024_12_clip_UTM\n"
     ]
    }
   ],
   "source": [
    "with arcpy.da.SearchCursor(mosaic, [\"Name\"]) as cursor:\n",
    "    for row in cursor:\n",
    "        print(row[0])\n",
    "        "
   ]
  },
  {
   "cell_type": "code",
   "execution_count": 31,
   "metadata": {},
   "outputs": [
    {
     "data": {
      "text/html": [
       "<div class='gpresult'><h2 class='msg-title'>Messages</h2><div id='messages'>Start Time: Tuesday, October 21, 2025 12:56:37 AM<br>Succeeded at Tuesday, October 21, 2025 12:56:41 AM (Elapsed Time: 4.22 seconds)<br></div><div id = 'default' /></div></div>"
      ],
      "text/plain": [
       "<Result 'C:\\\\Users\\\\Shahriar Rahman\\\\OneDrive\\\\Desktop\\\\GIS\\\\Dhaka_NO2_Project\\\\Processed_Data\\\\NO2.gdb\\\\NO2_Mosaic'>"
      ]
     },
     "execution_count": 31,
     "metadata": {},
     "output_type": "execute_result"
    }
   ],
   "source": [
    "expression = \"parse_date(!Name!)\"\n",
    "codeblock = \"\"\"\n",
    "import datetime\n",
    "def parse_date(name):\n",
    "    try:\n",
    "        parts = name.split('_')\n",
    "        year = parts[1]\n",
    "        month = parts[2]\n",
    "        # Return as a Python datetime object (ArcGIS will store as date)\n",
    "        return datetime.datetime(int(year), int(month), 1)\n",
    "    except:\n",
    "        return None\n",
    "\"\"\"\n",
    "arcpy.management.CalculateField(\n",
    "    mosaic,\n",
    "    \"RasterDate\",\n",
    "    expression,\n",
    "    \"PYTHON3\",\n",
    "    codeblock\n",
    ")"
   ]
  },
  {
   "cell_type": "code",
   "execution_count": 32,
   "metadata": {},
   "outputs": [
    {
     "data": {
      "text/html": [
       "<div class='gpresult'><h2 class='msg-title'>Messages</h2><div id='messages'>Start Time: Tuesday, October 21, 2025 12:57:31 AM<br>2025-10-21T00:57:32.881: Distributing mosaic dataset operation across 6 parallel instances on the specified host: [ADMINISTRATOR].<br>2025-10-21T00:57:44.655: Analyzed 72 mosaic dataset items; found 1 error(s) and 1 warning(s). <br>Error: Low: The mosaic dataset item references files that are inaccessible. [72 items]<br>Warning: High: The mosaic dataset does not have overviews.<br>Succeeded at Tuesday, October 21, 2025 12:57:47 AM (Elapsed Time: 16.26 seconds)<br></div><div id = 'default' /></div></div>"
      ],
      "text/plain": [
       "<Result 'C:\\\\Users\\\\Shahriar Rahman\\\\OneDrive\\\\Desktop\\\\GIS\\\\Dhaka_NO2_Project\\\\Processed_Data\\\\NO2.gdb\\\\NO2_Mosaic'>"
      ]
     },
     "execution_count": 32,
     "metadata": {},
     "output_type": "execute_result"
    }
   ],
   "source": [
    "arcpy.management.BuildPyramidsandStatistics(\n",
    "    mosaic, \"\", \"BUILD_PYRAMIDS\", \"CALCULATE_STATISTICS\"\n",
    ")\n",
    "arcpy.management.AnalyzeMosaicDataset(mosaic)\n"
   ]
  },
  {
   "cell_type": "code",
   "execution_count": 33,
   "metadata": {},
   "outputs": [
    {
     "data": {
      "text/html": [
       "<div class='gpresult'><h2 class='msg-title'>Messages</h2><div id='messages'>Start Time: Tuesday, October 21, 2025 12:59:15 AM<br>2025-10-21T00:59:17.023: Defining overviews<br>2025-10-21T00:59:17.023: Computing default overview pixel size<br>2025-10-21T00:59:17.030: Defining overviews for pixel size: 2875.881282775573<br>2025-10-21T00:59:17.060: Identified 1 overview levels at cell sizes: { 2875.881282775573 }<br>2025-10-21T00:59:17.075: Loading raster datasets<br>2025-10-21T00:59:17.109: Constructing overview items: region 1 of 1 at cell size 2875.881282775573<br>2025-10-21T00:59:17.115: Completed crawling 1 data source items. Added 1 mosaic dataset items.<br>2025-10-21T00:59:17.122: Processing duplicate mosaic dataset items<br>2025-10-21T00:59:17.125: Removed 0 duplicate mosaic dataset items.<br>2025-10-21T00:59:17.190: Synchronizing items associated with raster type instance &#39;Overview Instance 3&#39; [ID: 3].<br>2025-10-21T00:59:17.255: Completed synchronization: 1 items selected, 1 items synchronized.<br>2025-10-21T00:59:17.257: Completed defining overviews<br>2025-10-21T00:59:17.260: Computing cell size levels<br>2025-10-21T00:59:17.260: Computing unique cell size values<br>2025-10-21T00:59:17.553: Computing maximum cell size values<br>2025-10-21T00:59:17.565: Updating maximum cell size values<br>2025-10-21T00:59:17.572: Computing minimum cell size values<br>2025-10-21T00:59:17.584: Updating visibility values of selected items<br>2025-10-21T00:59:17.599: Computing maximum cell size for mosaic dataset<br>2025-10-21T00:59:17.653: Completed computing cell size ranges.<br>2025-10-21T00:59:17.662: Marking stale and missing overview items<br>2025-10-21T00:59:17.671: Overview items marked for generation: 1<br>2025-10-21T00:59:17.695: Generating item [1 of 1]: &#39;Ov_i03_L01_R00000000_C00000000.tif&#39;<br>2025-10-21T00:59:19.327: Synchronizing items associated with raster type instance &#39;Overview Instance 3&#39; [ID: 3].<br>2025-10-21T00:59:19.359: Completed synchronization: 1 items selected, 1 items synchronized.<br>2025-10-21T00:59:19.361: Completed generating overviews: 1 items selected, 1 eligible items processed, 1 items updated.<br>Succeeded at Tuesday, October 21, 2025 12:59:25 AM (Elapsed Time: 9.69 seconds)<br></div><div id = 'default' /></div></div>"
      ],
      "text/plain": [
       "<Result 'C:\\\\Users\\\\Shahriar Rahman\\\\OneDrive\\\\Desktop\\\\GIS\\\\Dhaka_NO2_Project\\\\Processed_Data\\\\NO2.gdb\\\\NO2_Mosaic'>"
      ]
     },
     "execution_count": 33,
     "metadata": {},
     "output_type": "execute_result"
    }
   ],
   "source": [
    "arcpy.management.BuildOverviews(mosaic)"
   ]
  },
  {
   "cell_type": "code",
   "execution_count": 34,
   "metadata": {},
   "outputs": [
    {
     "data": {
      "text/html": [
       "<div class='gpresult'><h2 class='msg-title'>Messages</h2><div id='messages'>Start Time: Tuesday, October 21, 2025 1:01:34 AM<br>2025-10-21T01:01:35.165: Defining overviews<br>2025-10-21T01:01:35.173: Defining overviews for pixel size: 2875.881282775573<br>2025-10-21T01:01:35.194: Identified 1 overview levels at cell sizes: { 2875.881282775573 }<br>2025-10-21T01:01:35.202: Removed 0 mosaic dataset items and 0 unreferenced raster type instances.<br>2025-10-21T01:01:35.219: Loading raster datasets<br>2025-10-21T01:01:35.250: Constructing overview items: region 1 of 1 at cell size 2875.881282775573<br>2025-10-21T01:01:35.255: Completed crawling 1 data source items. Added 1 mosaic dataset items.<br>2025-10-21T01:01:35.262: Processing duplicate mosaic dataset items<br>2025-10-21T01:01:35.267: Removed 1 duplicate mosaic dataset items.<br>2025-10-21T01:01:35.293: Synchronizing items associated with raster type instance &#39;Overview Instance 3&#39; [ID: 3].<br>2025-10-21T01:01:35.321: Completed synchronization: 1 items selected, 1 items synchronized.<br>2025-10-21T01:01:35.323: Computing cell size levels<br>2025-10-21T01:01:35.323: Computing unique cell size values<br>2025-10-21T01:01:35.628: Computing maximum cell size values<br>2025-10-21T01:01:35.632: Updating maximum cell size values<br>2025-10-21T01:01:35.634: Computing minimum cell size values<br>2025-10-21T01:01:35.644: Updating visibility values of selected items<br>2025-10-21T01:01:35.654: Computing maximum cell size for mosaic dataset<br>2025-10-21T01:01:35.660: Completed computing cell size ranges.<br>2025-10-21T01:01:35.660: Completed defining overviews<br>2025-10-21T01:01:35.667: Marking stale and missing overview items<br>2025-10-21T01:01:35.673: Overview items marked for generation: 1<br>2025-10-21T01:01:35.691: Generating item [1 of 1]: &#39;Ov_i03_L01_R00000000_C00000000.tif&#39;<br>2025-10-21T01:01:35.880: Warning: Participating raster dataset &#39;NO2_2019_01_clip_UTM.crf&#39; in workspace &#39;C:\\\\Users\\\\Shahriar Rahman\\\\AppData\\\\Local\\\\ESRI\\\\Local Caches\\\\MapCacheV1\\\\&#39; referenced by the specified mosaic dataset item could not be loaded. [Name: NO2_2019_01_clip_UTM; ID: 73]<br>2025-10-21T01:01:36.078: Warning: Generated partial overview image [1 of 1]: Ov_i03_L01_R00000000_C00000000.tif. One or more participating rasters under this overview image could not be loaded.<br>2025-10-21T01:01:36.104: Synchronizing items associated with raster type instance &#39;Overview Instance 3&#39; [ID: 3].<br>2025-10-21T01:01:36.129: Completed synchronization: 1 items selected, 1 items synchronized.<br>2025-10-21T01:01:36.132: Completed generating overviews: 1 items selected, 1 eligible items processed, 1 items updated.<br>Succeeded at Tuesday, October 21, 2025 1:01:39 AM (Elapsed Time: 5.00 seconds)<br></div><div id = 'default' /></div></div>"
      ],
      "text/plain": [
       "<Result 'C:\\\\Users\\\\Shahriar Rahman\\\\OneDrive\\\\Desktop\\\\GIS\\\\Dhaka_NO2_Project\\\\Processed_Data\\\\NO2.gdb\\\\NO2_Mosaic'>"
      ]
     },
     "execution_count": 34,
     "metadata": {},
     "output_type": "execute_result"
    }
   ],
   "source": [
    "arcpy.management.BuildOverviews(mosaic)"
   ]
  },
  {
   "cell_type": "code",
   "execution_count": 35,
   "metadata": {},
   "outputs": [
    {
     "ename": "<class 'arcgisscripting.ExecuteError'>",
     "evalue": "Failed to execute. Parameters are not valid.\nERROR 001783: The input layer is not multidimensional.\nFailed to execute (BuildMultidimensionalInfo).\n",
     "output_type": "error",
     "traceback": [
      "\u001b[1;31m---------------------------------------------------------------------------\u001b[0m",
      "\u001b[1;31mExecuteError\u001b[0m                              Traceback (most recent call last)",
      "Cell \u001b[1;32mIn[35], line 1\u001b[0m\n\u001b[1;32m----> 1\u001b[0m arcpy\u001b[38;5;241m.\u001b[39mmd\u001b[38;5;241m.\u001b[39mBuildMultidimensionalInfo(\n\u001b[0;32m      2\u001b[0m     mosaic,                         \u001b[38;5;66;03m# Mosaic dataset path\u001b[39;00m\n\u001b[0;32m      3\u001b[0m     \u001b[38;5;124m\"\u001b[39m\u001b[38;5;124mProductName\u001b[39m\u001b[38;5;124m\"\u001b[39m,                  \u001b[38;5;66;03m# Variable field (Text)\u001b[39;00m\n\u001b[0;32m      4\u001b[0m     \u001b[38;5;124m\"\u001b[39m\u001b[38;5;124mRasterDate\u001b[39m\u001b[38;5;124m\"\u001b[39m,                   \u001b[38;5;66;03m# Dimension field (Date)\u001b[39;00m\n\u001b[0;32m      5\u001b[0m     \u001b[38;5;124m\"\u001b[39m\u001b[38;5;124m\"\u001b[39m,                             \u001b[38;5;66;03m# Units (leave blank unless needed)\u001b[39;00m\n\u001b[0;32m      6\u001b[0m     \u001b[38;5;124m\"\u001b[39m\u001b[38;5;124mDELETE_MULTIDIMENSIONAL_INFO\u001b[39m\u001b[38;5;124m\"\u001b[39m  \u001b[38;5;66;03m# Or \"NO_DELETE_MULTIDIMENSIONAL_INFO\"\u001b[39;00m\n\u001b[0;32m      7\u001b[0m )\n",
      "File \u001b[1;32m~\\AppData\\Local\\Programs\\ArcGIS\\Pro\\Resources\\ArcPy\\arcpy\\md.py:120\u001b[0m, in \u001b[0;36mBuildMultidimensionalInfo\u001b[1;34m(in_mosaic_dataset, variable_field, dimension_fields, variable_desc_units, delete_multidimensional_info)\u001b[0m\n\u001b[0;32m    118\u001b[0m     \u001b[38;5;28;01mreturn\u001b[39;00m retval\n\u001b[0;32m    119\u001b[0m \u001b[38;5;28;01mexcept\u001b[39;00m \u001b[38;5;167;01mException\u001b[39;00m \u001b[38;5;28;01mas\u001b[39;00m e:\n\u001b[1;32m--> 120\u001b[0m     \u001b[38;5;28;01mraise\u001b[39;00m e\n",
      "File \u001b[1;32m~\\AppData\\Local\\Programs\\ArcGIS\\Pro\\Resources\\ArcPy\\arcpy\\md.py:105\u001b[0m, in \u001b[0;36mBuildMultidimensionalInfo\u001b[1;34m(in_mosaic_dataset, variable_field, dimension_fields, variable_desc_units, delete_multidimensional_info)\u001b[0m\n\u001b[0;32m    101\u001b[0m \u001b[38;5;28;01mfrom\u001b[39;00m \u001b[38;5;21;01marcpy\u001b[39;00m\u001b[38;5;21;01m.\u001b[39;00m\u001b[38;5;21;01marcobjects\u001b[39;00m\u001b[38;5;21;01m.\u001b[39;00m\u001b[38;5;21;01marcobjectconversion\u001b[39;00m \u001b[38;5;28;01mimport\u001b[39;00m convertArcObjectToPythonObject\n\u001b[0;32m    103\u001b[0m \u001b[38;5;28;01mtry\u001b[39;00m:\n\u001b[0;32m    104\u001b[0m     retval \u001b[38;5;241m=\u001b[39m convertArcObjectToPythonObject(\n\u001b[1;32m--> 105\u001b[0m         gp\u001b[38;5;241m.\u001b[39mBuildMultidimensionalInfo_md(\n\u001b[0;32m    106\u001b[0m             \u001b[38;5;241m*\u001b[39mgp_fixargs(\n\u001b[0;32m    107\u001b[0m                 (\n\u001b[0;32m    108\u001b[0m                     in_mosaic_dataset,\n\u001b[0;32m    109\u001b[0m                     variable_field,\n\u001b[0;32m    110\u001b[0m                     dimension_fields,\n\u001b[0;32m    111\u001b[0m                     variable_desc_units,\n\u001b[0;32m    112\u001b[0m                     delete_multidimensional_info,\n\u001b[0;32m    113\u001b[0m                 ),\n\u001b[0;32m    114\u001b[0m                 \u001b[38;5;28;01mTrue\u001b[39;00m,\n\u001b[0;32m    115\u001b[0m             )\n\u001b[0;32m    116\u001b[0m         )\n\u001b[0;32m    117\u001b[0m     )\n\u001b[0;32m    118\u001b[0m     \u001b[38;5;28;01mreturn\u001b[39;00m retval\n\u001b[0;32m    119\u001b[0m \u001b[38;5;28;01mexcept\u001b[39;00m \u001b[38;5;167;01mException\u001b[39;00m \u001b[38;5;28;01mas\u001b[39;00m e:\n",
      "File \u001b[1;32m~\\AppData\\Local\\Programs\\ArcGIS\\Pro\\Resources\\ArcPy\\arcpy\\geoprocessing\\_base.py:533\u001b[0m, in \u001b[0;36mGeoprocessor.__getattr__.<locals>.<lambda>\u001b[1;34m(*args)\u001b[0m\n\u001b[0;32m    531\u001b[0m val \u001b[38;5;241m=\u001b[39m \u001b[38;5;28mgetattr\u001b[39m(\u001b[38;5;28mself\u001b[39m\u001b[38;5;241m.\u001b[39m_gp, attr)\n\u001b[0;32m    532\u001b[0m \u001b[38;5;28;01mif\u001b[39;00m \u001b[38;5;28mcallable\u001b[39m(val):\n\u001b[1;32m--> 533\u001b[0m     \u001b[38;5;28;01mreturn\u001b[39;00m \u001b[38;5;28;01mlambda\u001b[39;00m \u001b[38;5;241m*\u001b[39margs: val(\u001b[38;5;241m*\u001b[39mgp_fixargs(args, \u001b[38;5;28;01mTrue\u001b[39;00m))\n\u001b[0;32m    534\u001b[0m \u001b[38;5;28;01melse\u001b[39;00m:\n\u001b[0;32m    535\u001b[0m     \u001b[38;5;28;01mreturn\u001b[39;00m convertArcObjectToPythonObject(val)\n",
      "\u001b[1;31mExecuteError\u001b[0m: Failed to execute. Parameters are not valid.\nERROR 001783: The input layer is not multidimensional.\nFailed to execute (BuildMultidimensionalInfo).\n"
     ]
    }
   ],
   "source": [
    "arcpy.md.BuildMultidimensionalInfo(\n",
    "    mosaic,                         # Mosaic dataset path\n",
    "    \"ProductName\",                  # Variable field (Text)\n",
    "    \"RasterDate\",                   # Dimension field (Date)\n",
    "    \"\",                             # Units (leave blank unless needed)\n",
    "    \"DELETE_MULTIDIMENSIONAL_INFO\"  # Or \"NO_DELETE_MULTIDIMENSIONAL_INFO\"\n",
    ")"
   ]
  },
  {
   "cell_type": "code",
   "execution_count": 37,
   "metadata": {},
   "outputs": [
    {
     "data": {
      "text/html": [
       "<div class='gpresult'><h2 class='msg-title'>Messages</h2><div id='messages'>Start Time: Tuesday, October 21, 2025 1:10:10 AM<br>2025-10-21T01:10:11.911: Defining overviews<br>2025-10-21T01:10:11.912: Computing default overview pixel size<br>2025-10-21T01:10:11.922: Defining overviews for pixel size: 2875.881282775573<br>2025-10-21T01:10:11.954: Identified 1 overview levels at cell sizes: { 2875.881282775573 }<br>2025-10-21T01:10:11.971: Loading raster datasets<br>2025-10-21T01:10:11.997: Constructing overview items: region 1 of 1 at cell size 2875.881282775573<br>2025-10-21T01:10:12.002: Completed crawling 1 data source items. Added 1 mosaic dataset items.<br>2025-10-21T01:10:12.011: Processing duplicate mosaic dataset items<br>2025-10-21T01:10:12.014: Removed 0 duplicate mosaic dataset items.<br>2025-10-21T01:10:12.045: Synchronizing items associated with raster type instance &#39;Overview Instance 7&#39; [ID: 7].<br>2025-10-21T01:10:12.086: Completed synchronization: 1 items selected, 1 items synchronized.<br>2025-10-21T01:10:12.088: Completed defining overviews<br>2025-10-21T01:10:12.090: Computing cell size levels<br>2025-10-21T01:10:12.090: Computing unique cell size values<br>2025-10-21T01:10:12.322: Computing maximum cell size values<br>2025-10-21T01:10:12.335: Updating maximum cell size values<br>2025-10-21T01:10:12.345: Computing minimum cell size values<br>2025-10-21T01:10:12.358: Updating visibility values of selected items<br>2025-10-21T01:10:12.374: Computing maximum cell size for mosaic dataset<br>2025-10-21T01:10:12.434: Completed computing cell size ranges.<br>2025-10-21T01:10:12.441: Marking stale and missing overview items<br>2025-10-21T01:10:12.451: Overview items marked for generation: 1<br>2025-10-21T01:10:12.472: Generating item [1 of 1]: &#39;Ov_i07_L01_R00000000_C00000000.tif&#39;<br>2025-10-21T01:10:13.273: Synchronizing items associated with raster type instance &#39;Overview Instance 7&#39; [ID: 7].<br>2025-10-21T01:10:13.300: Completed synchronization: 1 items selected, 1 items synchronized.<br>2025-10-21T01:10:13.303: Completed generating overviews: 1 items selected, 1 eligible items processed, 1 items updated.<br>Succeeded at Tuesday, October 21, 2025 1:10:15 AM (Elapsed Time: 5.29 seconds)<br></div><div id = 'default' /></div></div>"
      ],
      "text/plain": [
       "<Result 'C:\\\\Users\\\\Shahriar Rahman\\\\OneDrive\\\\Desktop\\\\GIS\\\\Dhaka_NO2_Project\\\\Processed_Data\\\\NO2.gdb\\\\NO2_Mosaic'>"
      ]
     },
     "execution_count": 37,
     "metadata": {},
     "output_type": "execute_result"
    }
   ],
   "source": [
    "import arcpy\n",
    "import datetime\n",
    "\n",
    "# Paths\n",
    "gdb = r\"C:\\Users\\Shahriar Rahman\\OneDrive\\Desktop\\GIS\\Dhaka_NO2_Project\\Processed_Data\\NO2.gdb\"\n",
    "mosaic = gdb + r\"\\NO2_Mosaic\"\n",
    "raster_folder = r\"C:\\Users\\Shahriar Rahman\\OneDrive\\Desktop\\GIS\\Dhaka_NO2_Project\\Raw_Data\\UTM_Rasters\"\n",
    "\n",
    "# 1. Remove all rasters from the mosaic\n",
    "arcpy.management.RemoveRastersFromMosaicDataset(mosaic, \"OBJECTID > 0\")\n",
    "\n",
    "# 2. Add rasters back to the mosaic dataset\n",
    "arcpy.management.AddRastersToMosaicDataset(\n",
    "    mosaic,\n",
    "    \"Raster Dataset\",\n",
    "    raster_folder,\n",
    "    update_overviews=\"NO_OVERVIEWS\"\n",
    ")\n",
    "\n",
    "# 3. Add RasterDate field (if it doesn't exist)\n",
    "fields = [f.name for f in arcpy.ListFields(mosaic)]\n",
    "if \"RasterDate\" not in fields:\n",
    "    arcpy.management.AddField(mosaic, \"RasterDate\", \"DATE\")\n",
    "\n",
    "# 4. Populate RasterDate field from filenames\n",
    "# Assumes filenames like NO2_2019_01_clip_UTM\n",
    "expression = \"parse_date(!Name!)\"\n",
    "codeblock = \"\"\"\n",
    "import datetime\n",
    "def parse_date(name):\n",
    "    try:\n",
    "        parts = name.split('_')\n",
    "        year = parts[1]\n",
    "        month = parts[2]\n",
    "        return datetime.datetime(int(year), int(month), 1)\n",
    "    except:\n",
    "        return None\n",
    "\"\"\"\n",
    "arcpy.management.CalculateField(\n",
    "    mosaic,\n",
    "    \"RasterDate\",\n",
    "    expression,\n",
    "    \"PYTHON3\",\n",
    "    codeblock\n",
    ")\n",
    "\n",
    "# 5. Build pyramids and statistics\n",
    "arcpy.management.BuildPyramidsandStatistics(mosaic, \"\", \"BUILD_PYRAMIDS\", \"CALCULATE_STATISTICS\")\n",
    "arcpy.management.AnalyzeMosaicDataset(mosaic)\n",
    "\n",
    "# 6. (Optional) Build Overviews for faster display\n",
    "arcpy.management.BuildOverviews(mosaic)\n",
    "\n"
   ]
  },
  {
   "cell_type": "code",
   "execution_count": 38,
   "metadata": {},
   "outputs": [
    {
     "ename": "<class 'ModuleNotFoundError'>",
     "evalue": "No module named 'pyproj'",
     "output_type": "error",
     "traceback": [
      "\u001b[1;31m---------------------------------------------------------------------------\u001b[0m",
      "\u001b[1;31mModuleNotFoundError\u001b[0m                       Traceback (most recent call last)",
      "Cell \u001b[1;32mIn[38], line 1\u001b[0m\n\u001b[1;32m----> 1\u001b[0m \u001b[38;5;28;01mimport\u001b[39;00m \u001b[38;5;21;01mpyproj\u001b[39;00m\n\u001b[0;32m      3\u001b[0m utm_proj \u001b[38;5;241m=\u001b[39m pyproj\u001b[38;5;241m.\u001b[39mProj(proj\u001b[38;5;241m=\u001b[39m\u001b[38;5;124m'\u001b[39m\u001b[38;5;124mutm\u001b[39m\u001b[38;5;124m'\u001b[39m, zone\u001b[38;5;241m=\u001b[39m\u001b[38;5;241m46\u001b[39m, ellps\u001b[38;5;241m=\u001b[39m\u001b[38;5;124m'\u001b[39m\u001b[38;5;124mWGS84\u001b[39m\u001b[38;5;124m'\u001b[39m, south\u001b[38;5;241m=\u001b[39m\u001b[38;5;28;01mFalse\u001b[39;00m)\n\u001b[0;32m      4\u001b[0m x, y \u001b[38;5;241m=\u001b[39m utm_proj(\u001b[38;5;241m90.4125\u001b[39m, \u001b[38;5;241m23.8103\u001b[39m)\n",
      "\u001b[1;31mModuleNotFoundError\u001b[0m: No module named 'pyproj'"
     ]
    }
   ],
   "source": [
    "import pyproj\n",
    "\n",
    "utm_proj = pyproj.Proj(proj='utm', zone=46, ellps='WGS84', south=False)\n",
    "x, y = utm_proj(90.4125, 23.8103)\n",
    "print(\"UTM coordinates:\", x, y)\n",
    "# Use (x, y) for point extraction in UTM rasters"
   ]
  },
  {
   "cell_type": "code",
   "execution_count": 39,
   "metadata": {},
   "outputs": [
    {
     "name": "stderr",
     "output_type": "stream",
     "text": [
      "﻿\n",
      "EnvironmentLocationNotFound: Not a conda environment: C:\\Users\\Shahriar\n",
      "﻿\n"
     ]
    },
    {
     "name": "stdout",
     "output_type": "stream",
     "text": [
      "\n",
      "Note: you may need to restart the kernel to use updated packages.\n"
     ]
    }
   ],
   "source": [
    "conda install pyproj"
   ]
  },
  {
   "cell_type": "code",
   "execution_count": null,
   "metadata": {},
   "outputs": [
    {
     "name": "stdout",
     "output_type": "stream",
     "text": [
      "\n"
     ]
    }
   ],
   "source": [
    "pip install pyproj"
   ]
  },
  {
   "cell_type": "code",
   "execution_count": 1,
   "metadata": {},
   "outputs": [
    {
     "name": "stdout",
     "output_type": "stream",
     "text": [
      "UTM coordinates: 236377.43645816622 2635628.616924232\n"
     ]
    }
   ],
   "source": [
    "import pyproj\n",
    "\n",
    "utm_proj = pyproj.Proj(proj='utm', zone=46, ellps='WGS84', south=False)\n",
    "x, y = utm_proj(90.4125, 23.8103)\n",
    "print(\"UTM coordinates:\", x, y)\n",
    "# Use (x, y) for point extraction in UTM rasters"
   ]
  },
  {
   "cell_type": "code",
   "execution_count": 2,
   "metadata": {},
   "outputs": [
    {
     "name": "stdout",
     "output_type": "stream",
     "text": [
      "NO2 value at point: 0.00026224286\n"
     ]
    }
   ],
   "source": [
    "import arcpy\n",
    "\n",
    "utm_x = 236377.44\n",
    "utm_y = 2635628.62\n",
    "raster = r\"C:\\Users\\Shahriar Rahman\\OneDrive\\Desktop\\GIS\\Dhaka_NO2_Project\\Raw_Data\\UTM_Rasters\\NO2_2019_01_clip_UTM.tif\"\n",
    "\n",
    "result = arcpy.GetCellValue_management(raster, f\"{utm_x} {utm_y}\")\n",
    "print(\"NO2 value at point:\", result.getOutput(0))"
   ]
  },
  {
   "cell_type": "code",
   "execution_count": 3,
   "metadata": {},
   "outputs": [
    {
     "name": "stderr",
     "output_type": "stream",
     "text": [
      "C:/Users/Shahriar Rahman/AppData/Local/Temp/ArcGISProTemp28460/xpython_28460/3863526627.py:15: FutureWarning: 'M' is deprecated and will be removed in a future version, please use 'ME' instead.\n",
      "  .groupby(pd.Grouper(freq='M'))\n"
     ]
    },
    {
     "name": "stdout",
     "output_type": "stream",
     "text": [
      "✅ Monthly averages saved.\n"
     ]
    }
   ],
   "source": [
    "import pandas as pd\n",
    "\n",
    "# Load your CSV\n",
    "csv_path = r\"C:\\Users\\Shahriar Rahman\\OneDrive\\Desktop\\GIS\\Dhaka_NO2_Project\\Raw_Data\\Ground_CSV\\Ground_NO2.csv\"\n",
    "df = pd.read_csv(csv_path)\n",
    "\n",
    "# Ensure datetime column is parsed\n",
    "df['datetime'] = pd.to_datetime(df['datetime'])\n",
    "\n",
    "# Set datetime as index (optional)\n",
    "df.set_index('datetime', inplace=True)\n",
    "\n",
    "monthly = (\n",
    "    df\n",
    "    .groupby(pd.Grouper(freq='M'))\n",
    "    .mean()\n",
    "    .reset_index()\n",
    ")\n",
    "\n",
    "\n",
    "# Save to CSV\n",
    "monthly.to_csv(r\"C:\\Users\\Shahriar Rahman\\OneDrive\\Desktop\\GIS\\Dhaka_NO2_Project\\Raw_Data\\Ground_CSV\\Ground_NO2_monthly.csv\", index=False)\n",
    "\n",
    "print(\"✅ Monthly averages saved.\")"
   ]
  },
  {
   "cell_type": "code",
   "execution_count": 4,
   "metadata": {},
   "outputs": [
    {
     "ename": "<class 'arcgisscripting.ExecuteError'>",
     "evalue": "ERROR 000582: Error occurred during execution.\n",
     "output_type": "error",
     "traceback": [
      "\u001b[1;31m---------------------------------------------------------------------------\u001b[0m",
      "\u001b[1;31mExecuteError\u001b[0m                              Traceback (most recent call last)",
      "Cell \u001b[1;32mIn[4], line 6\u001b[0m\n\u001b[0;32m      4\u001b[0m csv_file \u001b[38;5;241m=\u001b[39m \u001b[38;5;124mr\u001b[39m\u001b[38;5;124m\"\u001b[39m\u001b[38;5;124mC:\u001b[39m\u001b[38;5;124m\\\u001b[39m\u001b[38;5;124mUsers\u001b[39m\u001b[38;5;124m\\\u001b[39m\u001b[38;5;124mShahriar Rahman\u001b[39m\u001b[38;5;124m\\\u001b[39m\u001b[38;5;124mOneDrive\u001b[39m\u001b[38;5;124m\\\u001b[39m\u001b[38;5;124mDesktop\u001b[39m\u001b[38;5;124m\\\u001b[39m\u001b[38;5;124mGIS\u001b[39m\u001b[38;5;124m\\\u001b[39m\u001b[38;5;124mDhaka_NO2_Project\u001b[39m\u001b[38;5;124m\\\u001b[39m\u001b[38;5;124mRaw_Data\u001b[39m\u001b[38;5;124m\\\u001b[39m\u001b[38;5;124mGround_CSV\u001b[39m\u001b[38;5;124m\\\u001b[39m\u001b[38;5;124mGround_NO2_monthly.csv\u001b[39m\u001b[38;5;124m\"\u001b[39m\n\u001b[0;32m      5\u001b[0m output_points \u001b[38;5;241m=\u001b[39m \u001b[38;5;124mr\u001b[39m\u001b[38;5;124m\"\u001b[39m\u001b[38;5;124mC:\u001b[39m\u001b[38;5;124m\\\u001b[39m\u001b[38;5;124mUsers\u001b[39m\u001b[38;5;124m\\\u001b[39m\u001b[38;5;124mShahriar Rahman\u001b[39m\u001b[38;5;124m\\\u001b[39m\u001b[38;5;124mOneDrive\u001b[39m\u001b[38;5;124m\\\u001b[39m\u001b[38;5;124mDesktop\u001b[39m\u001b[38;5;124m\\\u001b[39m\u001b[38;5;124mGIS\u001b[39m\u001b[38;5;124m\\\u001b[39m\u001b[38;5;124mDhaka_NO2_Project\u001b[39m\u001b[38;5;124m\\\u001b[39m\u001b[38;5;124mProcessed_Data\u001b[39m\u001b[38;5;124m\\\u001b[39m\u001b[38;5;124mGround_NO2.gdb\u001b[39m\u001b[38;5;124m\\\u001b[39m\u001b[38;5;124mNO2_Points_Monthly\u001b[39m\u001b[38;5;124m\"\u001b[39m\n\u001b[1;32m----> 6\u001b[0m arcpy\u001b[38;5;241m.\u001b[39mmanagement\u001b[38;5;241m.\u001b[39mXYTableToPoint(csv_file, output_points, \u001b[38;5;124m\"\u001b[39m\u001b[38;5;124mLongitude\u001b[39m\u001b[38;5;124m\"\u001b[39m, \u001b[38;5;124m\"\u001b[39m\u001b[38;5;124mLatitude\u001b[39m\u001b[38;5;124m\"\u001b[39m, coordinate_system\u001b[38;5;241m=\u001b[39marcpy\u001b[38;5;241m.\u001b[39mSpatialReference(\u001b[38;5;241m32646\u001b[39m))\n\u001b[0;32m      7\u001b[0m \u001b[38;5;28mprint\u001b[39m(\u001b[38;5;124m\"\u001b[39m\u001b[38;5;124m✅ Monthly ground points created at:\u001b[39m\u001b[38;5;124m\"\u001b[39m, output_points)\n",
      "File \u001b[1;32m~\\AppData\\Local\\Programs\\ArcGIS\\Pro\\Resources\\ArcPy\\arcpy\\management.py:7681\u001b[0m, in \u001b[0;36mXYTableToPoint\u001b[1;34m(in_table, out_feature_class, x_field, y_field, z_field, coordinate_system)\u001b[0m\n\u001b[0;32m   7679\u001b[0m     \u001b[38;5;28;01mreturn\u001b[39;00m retval\n\u001b[0;32m   7680\u001b[0m \u001b[38;5;28;01mexcept\u001b[39;00m \u001b[38;5;167;01mException\u001b[39;00m \u001b[38;5;28;01mas\u001b[39;00m e:\n\u001b[1;32m-> 7681\u001b[0m     \u001b[38;5;28;01mraise\u001b[39;00m e\n",
      "File \u001b[1;32m~\\AppData\\Local\\Programs\\ArcGIS\\Pro\\Resources\\ArcPy\\arcpy\\management.py:7675\u001b[0m, in \u001b[0;36mXYTableToPoint\u001b[1;34m(in_table, out_feature_class, x_field, y_field, z_field, coordinate_system)\u001b[0m\n\u001b[0;32m   7671\u001b[0m \u001b[38;5;28;01mfrom\u001b[39;00m \u001b[38;5;21;01marcpy\u001b[39;00m\u001b[38;5;21;01m.\u001b[39;00m\u001b[38;5;21;01marcobjects\u001b[39;00m\u001b[38;5;21;01m.\u001b[39;00m\u001b[38;5;21;01marcobjectconversion\u001b[39;00m \u001b[38;5;28;01mimport\u001b[39;00m convertArcObjectToPythonObject\n\u001b[0;32m   7673\u001b[0m \u001b[38;5;28;01mtry\u001b[39;00m:\n\u001b[0;32m   7674\u001b[0m     retval \u001b[38;5;241m=\u001b[39m convertArcObjectToPythonObject(\n\u001b[1;32m-> 7675\u001b[0m         gp\u001b[38;5;241m.\u001b[39mXYTableToPoint_management(\n\u001b[0;32m   7676\u001b[0m             \u001b[38;5;241m*\u001b[39mgp_fixargs((in_table, out_feature_class, x_field, y_field, z_field, coordinate_system), \u001b[38;5;28;01mTrue\u001b[39;00m)\n\u001b[0;32m   7677\u001b[0m         )\n\u001b[0;32m   7678\u001b[0m     )\n\u001b[0;32m   7679\u001b[0m     \u001b[38;5;28;01mreturn\u001b[39;00m retval\n\u001b[0;32m   7680\u001b[0m \u001b[38;5;28;01mexcept\u001b[39;00m \u001b[38;5;167;01mException\u001b[39;00m \u001b[38;5;28;01mas\u001b[39;00m e:\n",
      "File \u001b[1;32m~\\AppData\\Local\\Programs\\ArcGIS\\Pro\\Resources\\ArcPy\\arcpy\\geoprocessing\\_base.py:533\u001b[0m, in \u001b[0;36mGeoprocessor.__getattr__.<locals>.<lambda>\u001b[1;34m(*args)\u001b[0m\n\u001b[0;32m    531\u001b[0m val \u001b[38;5;241m=\u001b[39m \u001b[38;5;28mgetattr\u001b[39m(\u001b[38;5;28mself\u001b[39m\u001b[38;5;241m.\u001b[39m_gp, attr)\n\u001b[0;32m    532\u001b[0m \u001b[38;5;28;01mif\u001b[39;00m \u001b[38;5;28mcallable\u001b[39m(val):\n\u001b[1;32m--> 533\u001b[0m     \u001b[38;5;28;01mreturn\u001b[39;00m \u001b[38;5;28;01mlambda\u001b[39;00m \u001b[38;5;241m*\u001b[39margs: val(\u001b[38;5;241m*\u001b[39mgp_fixargs(args, \u001b[38;5;28;01mTrue\u001b[39;00m))\n\u001b[0;32m    534\u001b[0m \u001b[38;5;28;01melse\u001b[39;00m:\n\u001b[0;32m    535\u001b[0m     \u001b[38;5;28;01mreturn\u001b[39;00m convertArcObjectToPythonObject(val)\n",
      "\u001b[1;31mExecuteError\u001b[0m: ERROR 000582: Error occurred during execution.\n"
     ]
    }
   ],
   "source": [
    "import arcpy\n",
    "\n",
    "arcpy.env.overwriteOutput = True\n",
    "csv_file = r\"C:\\Users\\Shahriar Rahman\\OneDrive\\Desktop\\GIS\\Dhaka_NO2_Project\\Raw_Data\\Ground_CSV\\Ground_NO2_monthly.csv\"\n",
    "output_points = r\"C:\\Users\\Shahriar Rahman\\OneDrive\\Desktop\\GIS\\Dhaka_NO2_Project\\Processed_Data\\Ground_NO2.gdb\\NO2_Points_Monthly\"\n",
    "arcpy.management.XYTableToPoint(csv_file, output_points, \"Longitude\", \"Latitude\", coordinate_system=arcpy.SpatialReference(32646))\n",
    "print(\"✅ Monthly ground points created at:\", output_points)"
   ]
  },
  {
   "cell_type": "code",
   "execution_count": 5,
   "metadata": {},
   "outputs": [
    {
     "name": "stdout",
     "output_type": "stream",
     "text": [
      "     datetime  Latitude  Longitude        NO2  Temperature   Humidity  \\\n",
      "0  2019-01-31   23.8103    90.4125  39.581007    20.706626  65.016514   \n",
      "1  2019-02-28   23.8103    90.4125  38.799393    22.871367  65.166524   \n",
      "2  2019-03-31   23.8103    90.4125  38.942376    25.514483  65.286971   \n",
      "3  2019-04-30   23.8103    90.4125  39.307539    28.602038  65.030412   \n",
      "4  2019-05-31   23.8103    90.4125  39.322577    30.749625  65.266061   \n",
      "\n",
      "   Wind_Speed     Pressure  \n",
      "0   13.255369  1012.854775  \n",
      "1   13.274637  1013.487460  \n",
      "2   12.813067  1012.589251  \n",
      "3   12.755200  1012.527676  \n",
      "4   13.079098  1013.231105  \n"
     ]
    }
   ],
   "source": [
    "import pandas as pd\n",
    "df = pd.read_csv(csv_file)\n",
    "print(df.head())"
   ]
  },
  {
   "cell_type": "code",
   "execution_count": 6,
   "metadata": {},
   "outputs": [
    {
     "ename": "<class 'arcgisscripting.ExecuteError'>",
     "evalue": "ERROR 000582: Error occurred during execution.\n",
     "output_type": "error",
     "traceback": [
      "\u001b[1;31m---------------------------------------------------------------------------\u001b[0m",
      "\u001b[1;31mExecuteError\u001b[0m                              Traceback (most recent call last)",
      "Cell \u001b[1;32mIn[6], line 6\u001b[0m\n\u001b[0;32m      4\u001b[0m csv_file \u001b[38;5;241m=\u001b[39m \u001b[38;5;124mr\u001b[39m\u001b[38;5;124m\"\u001b[39m\u001b[38;5;124mC:\u001b[39m\u001b[38;5;124m\\\u001b[39m\u001b[38;5;124mUsers\u001b[39m\u001b[38;5;124m\\\u001b[39m\u001b[38;5;124mShahriar Rahman\u001b[39m\u001b[38;5;124m\\\u001b[39m\u001b[38;5;124mOneDrive\u001b[39m\u001b[38;5;124m\\\u001b[39m\u001b[38;5;124mDesktop\u001b[39m\u001b[38;5;124m\\\u001b[39m\u001b[38;5;124mGIS\u001b[39m\u001b[38;5;124m\\\u001b[39m\u001b[38;5;124mDhaka_NO2_Project\u001b[39m\u001b[38;5;124m\\\u001b[39m\u001b[38;5;124mRaw_Data\u001b[39m\u001b[38;5;124m\\\u001b[39m\u001b[38;5;124mGround_CSV\u001b[39m\u001b[38;5;124m\\\u001b[39m\u001b[38;5;124mGround_NO2_monthly.csv\u001b[39m\u001b[38;5;124m\"\u001b[39m\n\u001b[0;32m      5\u001b[0m output_points \u001b[38;5;241m=\u001b[39m \u001b[38;5;124mr\u001b[39m\u001b[38;5;124m\"\u001b[39m\u001b[38;5;124mC:\u001b[39m\u001b[38;5;124m\\\u001b[39m\u001b[38;5;124mUsers\u001b[39m\u001b[38;5;124m\\\u001b[39m\u001b[38;5;124mShahriar Rahman\u001b[39m\u001b[38;5;124m\\\u001b[39m\u001b[38;5;124mOneDrive\u001b[39m\u001b[38;5;124m\\\u001b[39m\u001b[38;5;124mDesktop\u001b[39m\u001b[38;5;124m\\\u001b[39m\u001b[38;5;124mGIS\u001b[39m\u001b[38;5;124m\\\u001b[39m\u001b[38;5;124mDhaka_NO2_Project\u001b[39m\u001b[38;5;124m\\\u001b[39m\u001b[38;5;124mProcessed_Data\u001b[39m\u001b[38;5;124m\\\u001b[39m\u001b[38;5;124mGround_NO2.gdb\u001b[39m\u001b[38;5;124m\\\u001b[39m\u001b[38;5;124mNO2_Points_Monthly\u001b[39m\u001b[38;5;124m\"\u001b[39m\n\u001b[1;32m----> 6\u001b[0m arcpy\u001b[38;5;241m.\u001b[39mmanagement\u001b[38;5;241m.\u001b[39mXYTableToPoint(csv_file, output_points, \u001b[38;5;124m\"\u001b[39m\u001b[38;5;124mLongitude\u001b[39m\u001b[38;5;124m\"\u001b[39m, \u001b[38;5;124m\"\u001b[39m\u001b[38;5;124mLatitude\u001b[39m\u001b[38;5;124m\"\u001b[39m, coordinate_system\u001b[38;5;241m=\u001b[39marcpy\u001b[38;5;241m.\u001b[39mSpatialReference(\u001b[38;5;241m32646\u001b[39m))\n\u001b[0;32m      7\u001b[0m \u001b[38;5;28mprint\u001b[39m(\u001b[38;5;124m\"\u001b[39m\u001b[38;5;124m✅ Monthly ground points created at:\u001b[39m\u001b[38;5;124m\"\u001b[39m, output_points)\n",
      "File \u001b[1;32m~\\AppData\\Local\\Programs\\ArcGIS\\Pro\\Resources\\ArcPy\\arcpy\\management.py:7681\u001b[0m, in \u001b[0;36mXYTableToPoint\u001b[1;34m(in_table, out_feature_class, x_field, y_field, z_field, coordinate_system)\u001b[0m\n\u001b[0;32m   7679\u001b[0m     \u001b[38;5;28;01mreturn\u001b[39;00m retval\n\u001b[0;32m   7680\u001b[0m \u001b[38;5;28;01mexcept\u001b[39;00m \u001b[38;5;167;01mException\u001b[39;00m \u001b[38;5;28;01mas\u001b[39;00m e:\n\u001b[1;32m-> 7681\u001b[0m     \u001b[38;5;28;01mraise\u001b[39;00m e\n",
      "File \u001b[1;32m~\\AppData\\Local\\Programs\\ArcGIS\\Pro\\Resources\\ArcPy\\arcpy\\management.py:7675\u001b[0m, in \u001b[0;36mXYTableToPoint\u001b[1;34m(in_table, out_feature_class, x_field, y_field, z_field, coordinate_system)\u001b[0m\n\u001b[0;32m   7671\u001b[0m \u001b[38;5;28;01mfrom\u001b[39;00m \u001b[38;5;21;01marcpy\u001b[39;00m\u001b[38;5;21;01m.\u001b[39;00m\u001b[38;5;21;01marcobjects\u001b[39;00m\u001b[38;5;21;01m.\u001b[39;00m\u001b[38;5;21;01marcobjectconversion\u001b[39;00m \u001b[38;5;28;01mimport\u001b[39;00m convertArcObjectToPythonObject\n\u001b[0;32m   7673\u001b[0m \u001b[38;5;28;01mtry\u001b[39;00m:\n\u001b[0;32m   7674\u001b[0m     retval \u001b[38;5;241m=\u001b[39m convertArcObjectToPythonObject(\n\u001b[1;32m-> 7675\u001b[0m         gp\u001b[38;5;241m.\u001b[39mXYTableToPoint_management(\n\u001b[0;32m   7676\u001b[0m             \u001b[38;5;241m*\u001b[39mgp_fixargs((in_table, out_feature_class, x_field, y_field, z_field, coordinate_system), \u001b[38;5;28;01mTrue\u001b[39;00m)\n\u001b[0;32m   7677\u001b[0m         )\n\u001b[0;32m   7678\u001b[0m     )\n\u001b[0;32m   7679\u001b[0m     \u001b[38;5;28;01mreturn\u001b[39;00m retval\n\u001b[0;32m   7680\u001b[0m \u001b[38;5;28;01mexcept\u001b[39;00m \u001b[38;5;167;01mException\u001b[39;00m \u001b[38;5;28;01mas\u001b[39;00m e:\n",
      "File \u001b[1;32m~\\AppData\\Local\\Programs\\ArcGIS\\Pro\\Resources\\ArcPy\\arcpy\\geoprocessing\\_base.py:533\u001b[0m, in \u001b[0;36mGeoprocessor.__getattr__.<locals>.<lambda>\u001b[1;34m(*args)\u001b[0m\n\u001b[0;32m    531\u001b[0m val \u001b[38;5;241m=\u001b[39m \u001b[38;5;28mgetattr\u001b[39m(\u001b[38;5;28mself\u001b[39m\u001b[38;5;241m.\u001b[39m_gp, attr)\n\u001b[0;32m    532\u001b[0m \u001b[38;5;28;01mif\u001b[39;00m \u001b[38;5;28mcallable\u001b[39m(val):\n\u001b[1;32m--> 533\u001b[0m     \u001b[38;5;28;01mreturn\u001b[39;00m \u001b[38;5;28;01mlambda\u001b[39;00m \u001b[38;5;241m*\u001b[39margs: val(\u001b[38;5;241m*\u001b[39mgp_fixargs(args, \u001b[38;5;28;01mTrue\u001b[39;00m))\n\u001b[0;32m    534\u001b[0m \u001b[38;5;28;01melse\u001b[39;00m:\n\u001b[0;32m    535\u001b[0m     \u001b[38;5;28;01mreturn\u001b[39;00m convertArcObjectToPythonObject(val)\n",
      "\u001b[1;31mExecuteError\u001b[0m: ERROR 000582: Error occurred during execution.\n"
     ]
    }
   ],
   "source": [
    "import arcpy\n",
    "\n",
    "arcpy.env.overwriteOutput = True\n",
    "csv_file = r\"C:\\Users\\Shahriar Rahman\\OneDrive\\Desktop\\GIS\\Dhaka_NO2_Project\\Raw_Data\\Ground_CSV\\Ground_NO2_monthly.csv\"\n",
    "output_points = r\"C:\\Users\\Shahriar Rahman\\OneDrive\\Desktop\\GIS\\Dhaka_NO2_Project\\Processed_Data\\Ground_NO2.gdb\\NO2_Points_Monthly\"\n",
    "arcpy.management.XYTableToPoint(csv_file, output_points, \"Longitude\", \"Latitude\", coordinate_system=arcpy.SpatialReference(32646))\n",
    "print(\"✅ Monthly ground points created at:\", output_points)"
   ]
  },
  {
   "cell_type": "code",
   "execution_count": 1,
   "metadata": {},
   "outputs": [
    {
     "ename": "<class 'AttributeError'>",
     "evalue": "Object: Environment <scratchFolder> cannot be set",
     "output_type": "error",
     "traceback": [
      "\u001b[1;31m---------------------------------------------------------------------------\u001b[0m",
      "\u001b[1;31mAttributeError\u001b[0m                            Traceback (most recent call last)",
      "Cell \u001b[1;32mIn[1], line 15\u001b[0m\n\u001b[0;32m     13\u001b[0m env\u001b[38;5;241m.\u001b[39moverwriteOutput \u001b[38;5;241m=\u001b[39m \u001b[38;5;28;01mTrue\u001b[39;00m\n\u001b[0;32m     14\u001b[0m env\u001b[38;5;241m.\u001b[39mscratchWorkspace \u001b[38;5;241m=\u001b[39m \u001b[38;5;124mr\u001b[39m\u001b[38;5;124m\"\u001b[39m\u001b[38;5;124mC:\u001b[39m\u001b[38;5;124m\\\u001b[39m\u001b[38;5;124mTemp\u001b[39m\u001b[38;5;124m\\\u001b[39m\u001b[38;5;124mArcNo2\u001b[39m\u001b[38;5;124m\\\u001b[39m\u001b[38;5;124mScratch.gdb\u001b[39m\u001b[38;5;124m\"\u001b[39m   \u001b[38;5;66;03m# make sure this exists or use folder\u001b[39;00m\n\u001b[1;32m---> 15\u001b[0m env\u001b[38;5;241m.\u001b[39mscratchFolder \u001b[38;5;241m=\u001b[39m \u001b[38;5;124mr\u001b[39m\u001b[38;5;124m\"\u001b[39m\u001b[38;5;124mC:\u001b[39m\u001b[38;5;124m\\\u001b[39m\u001b[38;5;124mTemp\u001b[39m\u001b[38;5;124m\\\u001b[39m\u001b[38;5;124mArcNo2\u001b[39m\u001b[38;5;124m\\\u001b[39m\u001b[38;5;124mscratch\u001b[39m\u001b[38;5;124m\"\u001b[39m\n\u001b[0;32m     16\u001b[0m env\u001b[38;5;241m.\u001b[39mparallelProcessingFactor \u001b[38;5;241m=\u001b[39m \u001b[38;5;124m\"\u001b[39m\u001b[38;5;124m0\u001b[39m\u001b[38;5;124m\"\u001b[39m   \u001b[38;5;66;03m# disable parallel processing to reduce memory use\u001b[39;00m\n\u001b[0;32m     18\u001b[0m arcpy\u001b[38;5;241m.\u001b[39mCheckOutExtension(\u001b[38;5;124m\"\u001b[39m\u001b[38;5;124mSpatial\u001b[39m\u001b[38;5;124m\"\u001b[39m)\n",
      "File \u001b[1;32m~\\AppData\\Local\\Programs\\ArcGIS\\Pro\\Resources\\ArcPy\\arcpy\\geoprocessing\\_base.py:564\u001b[0m, in \u001b[0;36mGPEnvironments.<locals>.propfactory.<locals>.set_\u001b[1;34m(self, val)\u001b[0m\n\u001b[0;32m    562\u001b[0m \u001b[38;5;28;01mif\u001b[39;00m \u001b[38;5;28mhasattr\u001b[39m(val, \u001b[38;5;124m'\u001b[39m\u001b[38;5;124m_arc_object\u001b[39m\u001b[38;5;124m'\u001b[39m):\n\u001b[0;32m    563\u001b[0m     val \u001b[38;5;241m=\u001b[39m val\u001b[38;5;241m.\u001b[39m_arc_object\n\u001b[1;32m--> 564\u001b[0m \u001b[38;5;28mself\u001b[39m[env] \u001b[38;5;241m=\u001b[39m val\n",
      "File \u001b[1;32m~\\AppData\\Local\\Programs\\ArcGIS\\Pro\\Resources\\ArcPy\\arcpy\\geoprocessing\\_base.py:640\u001b[0m, in \u001b[0;36mGPEnvironments.<locals>.GPEnvironment.__setitem__\u001b[1;34m(self, item, value)\u001b[0m\n\u001b[0;32m    638\u001b[0m \u001b[38;5;28;01mif\u001b[39;00m \u001b[38;5;28mhasattr\u001b[39m(value, \u001b[38;5;124m'\u001b[39m\u001b[38;5;124m_arc_object\u001b[39m\u001b[38;5;124m'\u001b[39m):\n\u001b[0;32m    639\u001b[0m     value \u001b[38;5;241m=\u001b[39m value\u001b[38;5;241m.\u001b[39m_arc_object\n\u001b[1;32m--> 640\u001b[0m ret_ \u001b[38;5;241m=\u001b[39m \u001b[38;5;28msetattr\u001b[39m(\u001b[38;5;28mself\u001b[39m\u001b[38;5;241m.\u001b[39m_gp, item, value)\n\u001b[0;32m    641\u001b[0m \u001b[38;5;28;01mif\u001b[39;00m need_refresh:\n\u001b[0;32m    642\u001b[0m     \u001b[38;5;28mself\u001b[39m\u001b[38;5;241m.\u001b[39m_refresh()\n",
      "\u001b[1;31mAttributeError\u001b[0m: Object: Environment <scratchFolder> cannot be set"
     ]
    }
   ],
   "source": [
    "# Ensure Spatial Analyst is available\n",
    "arcpy.CheckOutExtension(\"Spatial\")\n",
    "\n",
    "env.overwriteOutput = True\n",
    "\n",
    "input_folder = r\"C:\\path\\to\\UTM_Rasters\"\n",
    "output_folder = r\"C:\\path\\to\\UTM_Rasters_converted\"\n",
    "os.makedirs(output_folder, exist_ok=True)\n",
    "\n",
    "factor = 1e5 * 1.88  # 188000\n",
    "\n",
    "tifs = [f for f in os.listdir(input_folder) if f.lower().endswith(\".tif\")]\n",
    "\n",
    "for tif in sorted(tifs):\n",
    "    in_raster = os.path.join(input_folder, tif)\n",
    "    name = os.path.splitext(tif)[0]\n",
    "    out_raster = os.path.join(output_folder, f\"{name}_ugm3.tif\")\n",
    "    print(\"Processing:\", in_raster, \"->\", out_raster)\n",
    "\n",
    "    # Use Times to multiply raster by scalar\n",
    "    out = Times(in_raster, factor)\n",
    "\n",
    "    # Save as float (default), optionally set compression\n",
    "    out.save(out_raster)\n",
    "\n",
    "print(\"Done. Processed\", len(tifs), \"rasters.\")\n",
    "arcpy.CheckInExtension(\"Spatial\")"
   ]
  },
  {
   "cell_type": "code",
   "execution_count": 1,
   "metadata": {},
   "outputs": [
    {
     "name": "stdout",
     "output_type": "stream",
     "text": [
      "Raster check complete. Report written to: C:\\Users\\Shahriar Rahman\\OneDrive\\Desktop\\GIS\\Dhaka_NO2_Project\\Raw_Data\\UTM_Rasters_converted\\raster_check_report.txt\n"
     ]
    }
   ],
   "source": [
    "# raster_check.py\n",
    "import arcpy, os, sys, traceback\n",
    "from arcpy import env\n",
    "\n",
    "# EDIT PATHS\n",
    "rasters_folder = r\"C:\\Users\\Shahriar Rahman\\OneDrive\\Desktop\\GIS\\Dhaka_NO2_Project\\Raw_Data\\UTM_Rasters_converted\"\n",
    "out_report = r\"C:\\Users\\Shahriar Rahman\\OneDrive\\Desktop\\GIS\\Dhaka_NO2_Project\\Raw_Data\\UTM_Rasters_converted\\raster_check_report.txt\"\n",
    "# ----------------\n",
    "\n",
    "env.overwriteOutput = True\n",
    "arcpy.env.parallelProcessingFactor = \"0\"\n",
    "\n",
    "rasters = sorted([os.path.join(rasters_folder, f) for f in os.listdir(rasters_folder) if f.lower().endswith('.tif') or f.lower().endswith('.crf')])\n",
    "if not rasters:\n",
    "    print(\"No rasters found in:\", rasters_folder)\n",
    "    sys.exit(1)\n",
    "\n",
    "with open(out_report, \"w\", encoding=\"utf-8\") as fo:\n",
    "    fo.write(\"Raster check report\\n\")\n",
    "    fo.write(\"Folder: {}\\n\\n\".format(rasters_folder))\n",
    "    for r in rasters:\n",
    "        try:\n",
    "            fo.write(\"== {}\\n\".format(r))\n",
    "            desc = arcpy.Describe(r)\n",
    "            fo.write(\"SpatialRef: {}\\n\".format(desc.spatialReference.name if desc.spatialReference else \"None\"))\n",
    "            fo.write(\"BandCount: {}\\n\".format(desc.bandCount if hasattr(desc, 'bandCount') else \"unknown\"))\n",
    "            fo.write(\"PixelType: {}\\n\".format(desc.pixelType if hasattr(desc, 'pixelType') else \"unknown\"))\n",
    "            fo.write(\"Format: {}\\n\".format(desc.format if hasattr(desc, 'format') else \"unknown\"))\n",
    "            extent = desc.extent\n",
    "            fo.write(\"Extent: {} {} {} {}\\n\".format(extent.XMin, extent.YMin, extent.XMax, extent.YMax))\n",
    "            # Try raster object queries\n",
    "            r_obj = arcpy.Raster(r)\n",
    "            fo.write(\"Width x Height: {} x {}\\n\".format(r_obj.width, r_obj.height))\n",
    "            # NoData\n",
    "            nod = r_obj.noDataValue\n",
    "            fo.write(\"NoDataValue: {}\\n\".format(nod))\n",
    "            # Get RasterProperties (MIN MAX)\n",
    "            try:\n",
    "                rmin = arcpy.GetRasterProperties_management(r, \"MINIMUM\").getOutput(0)\n",
    "                rmax = arcpy.GetRasterProperties_management(r, \"MAXIMUM\").getOutput(0)\n",
    "                fo.write(\"Min/Max: {}/{}\\n\".format(rmin, rmax))\n",
    "            except Exception as e:\n",
    "                fo.write(\"GetRasterProperties failed: {}\\n\".format(e))\n",
    "            # Calculate statistics if missing\n",
    "            try:\n",
    "                arcpy.management.CalculateStatistics(r)\n",
    "                fo.write(\"Calculated statistics OK\\n\")\n",
    "            except Exception as e:\n",
    "                fo.write(\"CalculateStatistics failed: {}\\n\".format(e))\n",
    "            fo.write(\"\\n\")\n",
    "        except Exception as ex:\n",
    "            fo.write(\"ERROR inspecting {}: {}\\n\".format(r, ex))\n",
    "            fo.write(traceback.format_exc())\n",
    "            fo.write(\"\\n\\n\")\n",
    "\n",
    "print(\"Raster check complete. Report written to:\", out_report)"
   ]
  },
  {
   "cell_type": "code",
   "execution_count": 4,
   "metadata": {},
   "outputs": [
    {
     "ename": "<class 'NameError'>",
     "evalue": "name 'station_id_field' is not defined",
     "output_type": "error",
     "traceback": [
      "\u001b[1;31m---------------------------------------------------------------------------\u001b[0m",
      "\u001b[1;31mNameError\u001b[0m                                 Traceback (most recent call last)",
      "Cell \u001b[1;32mIn[4], line 41\u001b[0m\n\u001b[0;32m     39\u001b[0m oid_field \u001b[38;5;241m=\u001b[39m arcpy\u001b[38;5;241m.\u001b[39mDescribe(pts_fc_use)\u001b[38;5;241m.\u001b[39mOIDFieldName\n\u001b[0;32m     40\u001b[0m pts \u001b[38;5;241m=\u001b[39m []\n\u001b[1;32m---> 41\u001b[0m \u001b[38;5;28;01mwith\u001b[39;00m arcpy\u001b[38;5;241m.\u001b[39mda\u001b[38;5;241m.\u001b[39mSearchCursor(pts_fc_use, [oid_field, station_id_field, \u001b[38;5;124m\"\u001b[39m\u001b[38;5;124mSHAPE@XY\u001b[39m\u001b[38;5;124m\"\u001b[39m]) \u001b[38;5;28;01mas\u001b[39;00m cur:\n\u001b[0;32m     42\u001b[0m     \u001b[38;5;28;01mfor\u001b[39;00m oid, sid, xy \u001b[38;5;129;01min\u001b[39;00m cur:\n\u001b[0;32m     43\u001b[0m         x, y \u001b[38;5;241m=\u001b[39m xy\n",
      "\u001b[1;31mNameError\u001b[0m: name 'station_id_field' is not defined"
     ]
    }
   ],
   "source": [
    "\n",
    "\n",
    "# sample_with_arcpy_fallback.py\n",
    "import arcpy, os, csv, math\n",
    "from arcpy import env\n",
    "\n",
    "# ---- EDIT THESE PATHS ----\n",
    "points_fc = r\"C:\\Users\\Shahriar Rahman\\OneDrive\\Desktop\\GIS\\Dhaka_NO2_Project\\MyProject2\\MyProject2.gdb\\NO2_Points_UTM\"    # points feature class (UTM) in a local .gdb\n",
    "rasters_folder = r\"C:\\Users\\Shahriar Rahman\\OneDrive\\Desktop\\GIS\\Dhaka_NO2_Project\\Raw_Data\\UTM_Rasters_converted\"              # folder with *_ugm3.tif rasters (local, not OneDrive)\n",
    "output_csv = r\"C:\\Users\\Shahriar Rahman\\OneDrive\\Desktop\\GIS\\Dhaka_NO2_Project\\Processed_Data\\sampled_satellite_no2\\sampled_satellite_no2_long.csv\"\n",
    "\n",
    "# ---------------------------\n",
    "\n",
    "env.overwriteOutput = True\n",
    "arcpy.env.parallelProcessingFactor = \"0\"\n",
    "\n",
    "# Gather rasters\n",
    "rasters = sorted([os.path.join(rasters_folder, f) for f in os.listdir(rasters_folder) if f.lower().endswith('.tif')])\n",
    "if not rasters:\n",
    "    raise SystemExit(\"No .tif rasters found in: \" + rasters_folder)\n",
    "\n",
    "# Create list of points with their geometry coordinates (in raster CRS)\n",
    "# Ensure points are in same CRS as rasters. We'll assume rasters share CRS; use first raster CRS\n",
    "first_raster = rasters[0]\n",
    "r_desc = arcpy.Describe(first_raster)\n",
    "r_sr = r_desc.spatialReference\n",
    "\n",
    "p_sr = arcpy.Describe(points_fc).spatialReference\n",
    "if p_sr.name != r_sr.name:\n",
    "    # project points to raster CRS into a temp feature class\n",
    "    tmp_gdb = os.path.join(os.path.dirname(points_fc), \"tmp_project.gdb\")\n",
    "    if not arcpy.Exists(tmp_gdb):\n",
    "        arcpy.management.CreateFileGDB(os.path.dirname(points_fc), os.path.basename(tmp_gdb))\n",
    "    proj_points = os.path.join(tmp_gdb, \"points_proj\")\n",
    "    arcpy.management.Project(points_fc, proj_points, r_sr)\n",
    "    pts_fc_use = proj_points\n",
    "else:\n",
    "    pts_fc_use = points_fc\n",
    "\n",
    "# Build point list (OBJECTID and X, Y)\n",
    "oid_field = arcpy.Describe(pts_fc_use).OIDFieldName\n",
    "pts = []\n",
    "with arcpy.da.SearchCursor(pts_fc_use, [oid_field, station_id_field, \"SHAPE@XY\"]) as cur:\n",
    "    for oid, sid, xy in cur:\n",
    "        x, y = xy\n",
    "        pts.append((oid, sid, float(x), float(y)))\n",
    "\n",
    "if not pts:\n",
    "    raise SystemExit(\"No points found in \" + pts_fc_use)\n",
    "\n",
    "# Prepare output CSV\n",
    "with open(output_csv, \"w\", newline=\"\", encoding=\"utf-8\") as fo:\n",
    "    writer = csv.writer(fo)\n",
    "    writer.writerow([\"year_month\", \"NO2_sat\"])  # long format\n",
    "\n",
    "    # For each raster: get value for each point using GetCellValue_management\n",
    "    for rpath in rasters:\n",
    "        fname = os.path.basename(rpath)\n",
    "        # extract year_month from filename using simple heuristic like 2019_01\n",
    "        ym = None\n",
    "        import re\n",
    "        m = re.search(r'(\\d{4})[_-]?(\\d{2})', fname)\n",
    "        if m:\n",
    "            ym = f\"{m.group(1)}_{m.group(2)}\"\n",
    "        else:\n",
    "            ym = fname\n",
    "\n",
    "        # For each point, sample the raster at point coordinate\n",
    "        for oid, sid, x, y in pts:\n",
    "            try:\n",
    "                # GetCellValue expects \"x y\" in raster coordinate system\n",
    "                res = arcpy.management.GetCellValue(rpath, f\"{x} {y}\", \"\")  # returns a result object\n",
    "                val = res.getOutput(0)\n",
    "                if val in (None, \"\"):\n",
    "                    val_out = \"\"\n",
    "                else:\n",
    "                    # sometimes returns \"NoData\" text; try to parse float\n",
    "                    try:\n",
    "                        val_out = float(val)\n",
    "                        if math.isfinite(val_out):\n",
    "                            val_out = f\"{val_out:.6f}\"\n",
    "                        else:\n",
    "                            val_out = \"\"\n",
    "                    except:\n",
    "                        val_out = \"\"\n",
    "                writer.writerow([sid, ym, val_out])\n",
    "            except Exception as e:\n",
    "                # write blank value and continue\n",
    "                writer.writerow([sid, ym, \"\"])\n",
    "                # Optionally print error for debug\n",
    "                # print(\"Error sampling\", rpath, \"at\", x, y, \":\", e)\n",
    "\n",
    "print(\"Sampling complete. CSV saved to:\", output_csv)"
   ]
  },
  {
   "cell_type": "code",
   "execution_count": 6,
   "metadata": {},
   "outputs": [
    {
     "name": "stdout",
     "output_type": "stream",
     "text": [
      "Processed 72 rows, set 0 rows to None (could not parse).\n"
     ]
    }
   ],
   "source": [
    "# multiply_field_arcpy.py\n",
    "# Purpose: sanitize values (remove BOM, hidden chars, whitespace), parse numeric,\n",
    "# multiply by factor (1.88) and write to new DOUBLE field in a feature class.\n",
    "# Edit paths and field names below and run with ArcGIS Pro Python (ArcGIS Pro Python Prompt).\n",
    "\n",
    "import arcpy\n",
    "import re\n",
    "import math\n",
    "\n",
    "# ---- EDIT THESE ----\n",
    "fc = r\"C:\\Users\\Shahriar Rahman\\OneDrive\\Desktop\\GIS\\Dhaka_NO2_Project\\MyProject2\\MyProject2.gdb\\NO2_Points_UTM\"   # feature class path\n",
    "in_field = \"NO2\"    # input field (could be text or numeric)\n",
    "out_field = \"NO2_ugm3\"    # output field to create/populate\n",
    "factor = 1.88\n",
    "round_digits = 3          # set to None to skip rounding\n",
    "# -----------------------\n",
    "\n",
    "arcpy.env.overwriteOutput = True\n",
    "\n",
    "# Add output field if missing\n",
    "fld_names = [f.name for f in arcpy.ListFields(fc)]\n",
    "if out_field not in fld_names:\n",
    "    arcpy.AddField_management(fc, out_field, \"DOUBLE\")\n",
    "    print(f\"Added field '{out_field}'\")\n",
    "\n",
    "# Compile regex to find a numeric token (handles floats and scientific notation)\n",
    "num_re = re.compile(r'[-+]?\\d*\\.?\\d+(?:[eE][-+]?\\d+)?')\n",
    "\n",
    "# Characters to strip at left (BOM, zero-width, etc.)\n",
    "left_strip_chars = '\\ufeff\\x00\\u200b\\u200e\\u200f'\n",
    "\n",
    "def parse_numeric(value):\n",
    "    \"\"\"Return float value parsed from value (or None). Strips hidden chars and thousands separators.\"\"\"\n",
    "    if value is None:\n",
    "        return None\n",
    "    # numeric types: return directly\n",
    "    if isinstance(value, (int, float)):\n",
    "        return float(value)\n",
    "    s = str(value)\n",
    "    # Remove BOM/zero-width and whitespace\n",
    "    s = s.lstrip(left_strip_chars).strip()\n",
    "    # Remove thousands separators (commas, non-breaking spaces)\n",
    "    s = s.replace(',', '').replace('\\u00A0', '')\n",
    "    # Find first numeric substring\n",
    "    m = num_re.search(s)\n",
    "    if not m:\n",
    "        return None\n",
    "    try:\n",
    "        return float(m.group(0))\n",
    "    except:\n",
    "        return None\n",
    "\n",
    "# Use UpdateCursor to safely write values\n",
    "count = 0\n",
    "bad = 0\n",
    "with arcpy.da.UpdateCursor(fc, [in_field, out_field]) as cursor:\n",
    "    for row in cursor:\n",
    "        raw = row[0]\n",
    "        num = parse_numeric(raw)\n",
    "        if num is None or (isinstance(num, float) and not math.isfinite(num)):\n",
    "            row[1] = None\n",
    "            bad += 1\n",
    "        else:\n",
    "            val = num * factor\n",
    "            if round_digits is not None:\n",
    "                val = round(val, round_digits)\n",
    "            row[1] = val\n",
    "            count += 1\n",
    "        cursor.updateRow(row)\n",
    "\n",
    "print(f\"Processed {count} rows, set {bad} rows to None (could not parse).\")"
   ]
  },
  {
   "cell_type": "code",
   "execution_count": 7,
   "metadata": {},
   "outputs": [
    {
     "name": "stdout",
     "output_type": "stream",
     "text": [
      "Sampling complete. CSV saved to: C:\\Users\\Shahriar Rahman\\OneDrive\\Desktop\\GIS\\Dhaka_NO2_Project\\Processed_Data\\sampled_satellite_no2\\sampled_satellite_no2_long.csv\n"
     ]
    }
   ],
   "source": [
    "# sample_with_arcpy_fallback_autoid.py\n",
    "# ArcPy fallback sampling using GetCellValue; automatically uses OBJECTID as station_id\n",
    "import arcpy, os, csv, math, re\n",
    "from arcpy import env\n",
    "\n",
    "# ---- EDIT THESE PATHS ----\n",
    "points_fc = r\"C:\\Users\\Shahriar Rahman\\OneDrive\\Desktop\\GIS\\Dhaka_NO2_Project\\MyProject2\\MyProject2.gdb\\NO2_Points_UTM\"    # points feature class (UTM) in a gdb\n",
    "rasters_folder = r\"C:\\Users\\Shahriar Rahman\\OneDrive\\Desktop\\GIS\\Dhaka_NO2_Project\\Raw_Data\\UTM_Rasters_converted\"    # folder with *_ugm3.tif rasters\n",
    "output_csv = r\"C:\\Users\\Shahriar Rahman\\OneDrive\\Desktop\\GIS\\Dhaka_NO2_Project\\Processed_Data\\sampled_satellite_no2\\sampled_satellite_no2_long.csv\"\n",
    "# ---------------------------\n",
    "\n",
    "env.overwriteOutput = True\n",
    "arcpy.env.parallelProcessingFactor = \"0\"\n",
    "\n",
    "# Gather rasters\n",
    "rasters = sorted([os.path.join(rasters_folder, f) for f in os.listdir(rasters_folder) if f.lower().endswith('.tif')])\n",
    "if not rasters:\n",
    "    raise SystemExit(\"No .tif rasters found in: \" + rasters_folder)\n",
    "\n",
    "# Ensure points are in same CRS as rasters. Use first raster CRS\n",
    "first_raster = rasters[0]\n",
    "r_desc = arcpy.Describe(first_raster)\n",
    "r_sr = r_desc.spatialReference\n",
    "\n",
    "p_desc = arcpy.Describe(points_fc)\n",
    "p_sr = p_desc.spatialReference\n",
    "pts_fc_use = points_fc\n",
    "if p_sr.name != r_sr.name:\n",
    "    # project points to raster CRS into a temp feature class in the same gdb as points_fc\n",
    "    tmp_gdb_parent = os.path.dirname(points_fc)\n",
    "    tmp_gdb = os.path.join(tmp_gdb_parent, \"tmp_project.gdb\")\n",
    "    if not arcpy.Exists(tmp_gdb):\n",
    "        arcpy.management.CreateFileGDB(tmp_gdb_parent, os.path.basename(tmp_gdb))\n",
    "    proj_points = os.path.join(tmp_gdb, \"points_proj\")\n",
    "    arcpy.management.Project(points_fc, proj_points, r_sr)\n",
    "    pts_fc_use = proj_points\n",
    "\n",
    "# Build point list (use OBJECTID as station id, and X,Y)\n",
    "oid_field = arcpy.Describe(pts_fc_use).OIDFieldName\n",
    "pts = []\n",
    "with arcpy.da.SearchCursor(pts_fc_use, [oid_field, \"SHAPE@XY\"]) as cur:\n",
    "    for oid, xy in cur:\n",
    "        x, y = xy\n",
    "        station_id = f\"pt_{oid}\"   # stable station id derived from OBJECTID\n",
    "        pts.append((station_id, float(x), float(y)))\n",
    "\n",
    "if not pts:\n",
    "    raise SystemExit(\"No points found in \" + pts_fc_use)\n",
    "\n",
    "# Ensure output folder exists\n",
    "out_dir = os.path.dirname(output_csv)\n",
    "os.makedirs(out_dir, exist_ok=True)\n",
    "\n",
    "# Prepare output CSV (long format: station_id, year_month, NO2_sat)\n",
    "with open(output_csv, \"w\", newline=\"\", encoding=\"utf-8\") as fo:\n",
    "    writer = csv.writer(fo)\n",
    "    writer.writerow([\"station_id\", \"year_month\", \"NO2_sat\"])\n",
    "\n",
    "    # For each raster: get value for each point using GetCellValue_management\n",
    "    for rpath in rasters:\n",
    "        fname = os.path.basename(rpath)\n",
    "        # extract year_month from filename using simple heuristic like 2019_01\n",
    "        m = re.search(r'(\\d{4})[_-]?(\\d{2})', fname)\n",
    "        if m:\n",
    "            ym = f\"{m.group(1)}_{m.group(2)}\"\n",
    "        else:\n",
    "            ym = os.path.splitext(fname)[0]\n",
    "\n",
    "        # For each point, sample the raster at point coordinate\n",
    "        for station_id, x, y in pts:\n",
    "            try:\n",
    "                # GetCellValue expects \"x y\" in raster coordinate system\n",
    "                res = arcpy.management.GetCellValue(rpath, f\"{x} {y}\", \"\")  # returns a result object\n",
    "                val = res.getOutput(0)\n",
    "                if val in (None, \"\"):\n",
    "                    val_out = \"\"\n",
    "                else:\n",
    "                    # sometimes returns \"NoData\" text; try to parse float\n",
    "                    try:\n",
    "                        val_out = float(val)\n",
    "                        if math.isfinite(val_out):\n",
    "                            val_out = f\"{val_out:.6f}\"\n",
    "                        else:\n",
    "                            val_out = \"\"\n",
    "                    except:\n",
    "                        val_out = \"\"\n",
    "                writer.writerow([station_id, ym, val_out])\n",
    "            except Exception:\n",
    "                # write blank value and continue\n",
    "                writer.writerow([station_id, ym, \"\"])\n",
    "\n",
    "print(\"Sampling complete. CSV saved to:\", output_csv)"
   ]
  },
  {
   "cell_type": "code",
   "execution_count": 8,
   "metadata": {},
   "outputs": [],
   "source": [
    "import arcpy, os, glob\n",
    "\n",
    "aoi = r\"C:\\Users\\Shahriar Rahman\\OneDrive\\Desktop\\GIS\\Dhaka_NO2_Project\\Raw_Data\\AOI_Boundary\\Dhaka_Narayanganj\\AOI_Dhaka\"          # polygon AOI\n",
    "rasters_folder = r\"C:\\Users\\Shahriar Rahman\\OneDrive\\Desktop\\GIS\\Dhaka_NO2_Project\\Raw_Data\\UTM_Rasters_converted\\UTM_Rasters_converted\"\n",
    "out_table_gdb = r\"C:\\Users\\Shahriar Rahman\\OneDrive\\Desktop\\GIS\\Dhaka_NO2_Project\\Outputs\\ArcOutput.gdb\"\n",
    "rasters = sorted(glob.glob(os.path.join(rasters_folder, \"*.tif\")))\n",
    "\n",
    "results = []\n",
    "for r in rasters:\n",
    "    name = os.path.splitext(os.path.basename(r))[0]\n",
    "    out_table = os.path.join(out_table_gdb, f\"zs_{name}\")\n",
    "    arcpy.sa.ZonalStatisticsAsTable(aoi, \"OBJECTID\", r, out_table, \"DATA\", \"MEAN\")\n",
    "    # read the mean\n",
    "    with arcpy.da.SearchCursor(out_table, [\"MEAN\"]) as cur:\n",
    "        mean_val = next(cur)[0]\n",
    "    results.append((name, mean_val))\n",
    "# write results to CSV\n",
    "import csv\n",
    "with open(r\"C:\\Users\\Shahriar Rahman\\OneDrive\\Desktop\\GIS\\Dhaka_NO2_Project\\Outputs\\raster_monthly_mean.csv\", \"w\", newline=\"\") as f:\n",
    "    w = csv.writer(f); w.writerow([\"raster\",\"mean\"]); w.writerows(results)"
   ]
  },
  {
   "cell_type": "code",
   "execution_count": 1,
   "metadata": {},
   "outputs": [
    {
     "name": "stdout",
     "output_type": "stream",
     "text": [
      "Saved statistical closeness summary to: C:\\Users\\Shahriar Rahman\\OneDrive\\Desktop\\GIS\\Dhaka_NO2_Project\\Processed_Data\\sampled_satellite_no2\\comparison_outputs\\statistical_closeness_summary.csv\n",
      "Saved per-month simple stats to: C:\\Users\\Shahriar Rahman\\OneDrive\\Desktop\\GIS\\Dhaka_NO2_Project\\Processed_Data\\sampled_satellite_no2\\comparison_outputs\\monthly_stats_simple.csv\n",
      "Saved extended scatter plot to: C:\\Users\\Shahriar Rahman\\OneDrive\\Desktop\\GIS\\Dhaka_NO2_Project\\Processed_Data\\sampled_satellite_no2\\comparison_outputs\\scatter_sat_vs_ground_extended.png\n",
      "Saved extended monthly time series plot to: C:\\Users\\Shahriar Rahman\\OneDrive\\Desktop\\GIS\\Dhaka_NO2_Project\\Processed_Data\\sampled_satellite_no2\\comparison_outputs\\monthly_timeseries_extended.png\n",
      "All done. Review outputs in: C:\\Users\\Shahriar Rahman\\OneDrive\\Desktop\\GIS\\Dhaka_NO2_Project\\Processed_Data\\sampled_satellite_no2\\comparison_outputs\n",
      "If you want, I can also compute cross-validation (leave-one-month-out) for the linear correction, or produce Bland-Altman plots per-month.\n"
     ]
    }
   ],
   "source": [
    "#!/usr/bin/env python3\n",
    "\"\"\"\n",
    "Extension of the compare_monthly_sat_ground.py workflow to compute additional\n",
    "statistical closeness metrics between satellite and ground NO2.\n",
    "\n",
    "Adds:\n",
    " - Pearson r (and p-value if scipy available)\n",
    " - Spearman rho (and p-value if scipy available)\n",
    " - R-squared (r**2)\n",
    " - Mean Absolute Percentage Error (MAPE)\n",
    " - Normalized RMSE (NRMSE = RMSE / mean(ground) and RMSE / range(ground))\n",
    " - Lin's Concordance Correlation Coefficient (CCC)\n",
    " - Paired t-test (p-value) if scipy available\n",
    " - Bland-Altman summary (bias and 95% limits of agreement)\n",
    " - Per-month metrics (same metrics)\n",
    " - Saves: comparison_results.csv, monthly_stats.csv, statistical_closeness_summary.csv\n",
    " - Saves scatter and monthly time-series plots (same filenames as before)\n",
    "\n",
    "Edit the sampled_csv and ground_csv paths at the top, then run this script in the same environment\n",
    "you used previously (requires pandas, numpy, matplotlib; scipy/stats optional but recommended).\n",
    "\"\"\"\n",
    "import os\n",
    "import re\n",
    "import numpy as np\n",
    "import pandas as pd\n",
    "import matplotlib.pyplot as plt\n",
    "\n",
    "# Optional imports (scipy); we will fall back gracefully if not present\n",
    "try:\n",
    "    from scipy import stats\n",
    "    SCIPY_AVAILABLE = True\n",
    "except Exception:\n",
    "    SCIPY_AVAILABLE = False\n",
    "\n",
    "# ---- EDIT PATHS ----\n",
    "sampled_csv = r\"C:\\Users\\Shahriar Rahman\\OneDrive\\Desktop\\GIS\\Dhaka_NO2_Project\\Processed_Data\\sampled_satellite_no2\\sampled_satellite_no2_long.csv\"\n",
    "ground_csv  = r\"C:\\Users\\Shahriar Rahman\\OneDrive\\Desktop\\GIS\\Dhaka_NO2_Project\\Raw_Data\\Ground_CSV\\Ground_NO2_monthly.csv\"\n",
    "out_dir = os.path.join(os.path.dirname(sampled_csv), \"comparison_outputs\")\n",
    "os.makedirs(out_dir, exist_ok=True)\n",
    "# --------------------\n",
    "\n",
    "# Reuse small helper functions (you can adapt if needed)\n",
    "def normalize_ym(val):\n",
    "    if pd.isna(val):\n",
    "        return None\n",
    "    if isinstance(val, (pd.Timestamp, np.datetime64)):\n",
    "        dt = pd.to_datetime(val)\n",
    "        return f\"{dt.year}_{dt.month:02d}\"\n",
    "    s = str(val).strip().replace('-', '_')\n",
    "    m = re.search(r'(\\d{4})[_-]?(\\d{2})', s)\n",
    "    if m:\n",
    "        return f\"{m.group(1)}_{m.group(2)}\"\n",
    "    m = re.search(r'(\\d{4})(\\d{2})', s)\n",
    "    if m:\n",
    "        return f\"{m.group(1)}_{m.group(2)}\"\n",
    "    try:\n",
    "        dt = pd.to_datetime(s)\n",
    "        return f\"{dt.year}_{dt.month:02d}\"\n",
    "    except:\n",
    "        return None\n",
    "\n",
    "def rmse(a, b):\n",
    "    a = np.array(a, dtype=float)\n",
    "    b = np.array(b, dtype=float)\n",
    "    return np.sqrt(np.mean((a - b)**2)) if a.size else np.nan\n",
    "\n",
    "def mae(a, b):\n",
    "    a = np.array(a, dtype=float)\n",
    "    b = np.array(b, dtype=float)\n",
    "    return np.mean(np.abs(a - b)) if a.size else np.nan\n",
    "\n",
    "def mape(a, b):\n",
    "    a = np.array(a, dtype=float)\n",
    "    b = np.array(b, dtype=float)\n",
    "    # avoid division by zero; compute per-element percentage only where ground != 0\n",
    "    denom = np.where(b != 0, np.abs(b), np.nan)\n",
    "    pct = np.abs((a - b) / denom)\n",
    "    return np.nanmean(pct) * 100.0\n",
    "\n",
    "def nrmse_mean(a, b):\n",
    "    r = rmse(a, b)\n",
    "    meanb = np.nanmean(b) if len(b) else np.nan\n",
    "    return r / meanb if meanb and not np.isnan(meanb) else np.nan\n",
    "\n",
    "def nrmse_range(a, b):\n",
    "    r = rmse(a, b)\n",
    "    rng = (np.nanmax(b) - np.nanmin(b)) if len(b) else np.nan\n",
    "    return r / rng if rng and not np.isnan(rng) else np.nan\n",
    "\n",
    "def bland_altman_stats(a, b, alpha=0.95):\n",
    "    a = np.array(a, dtype=float)\n",
    "    b = np.array(b, dtype=float)\n",
    "    diffs = a - b\n",
    "    mean_diff = np.nanmean(diffs)\n",
    "    sd_diff = np.nanstd(diffs, ddof=1)\n",
    "    # 95% limits using 1.96 (approx)\n",
    "    loa_low = mean_diff - 1.96 * sd_diff\n",
    "    loa_high = mean_diff + 1.96 * sd_diff\n",
    "    return mean_diff, sd_diff, loa_low, loa_high\n",
    "\n",
    "def concordance_ccc(a, b):\n",
    "    \"\"\"\n",
    "    Lin's Concordance Correlation Coefficient (CCC)\n",
    "    CCC = 2*r*sd_a*sd_b / (var_a + var_b + (mean_a - mean_b)^2)\n",
    "    \"\"\"\n",
    "    a = np.array(a, dtype=float)\n",
    "    b = np.array(b, dtype=float)\n",
    "    # drop NaN pairs\n",
    "    mask = ~np.isnan(a) & ~np.isnan(b)\n",
    "    if mask.sum() == 0:\n",
    "        return np.nan\n",
    "    a = a[mask]; b = b[mask]\n",
    "    mean_a, mean_b = a.mean(), b.mean()\n",
    "    var_a, var_b = a.var(ddof=1), b.var(ddof=1)\n",
    "    sd_a, sd_b = np.sqrt(var_a), np.sqrt(var_b)\n",
    "    # Pearson r\n",
    "    if a.size < 2:\n",
    "        return np.nan\n",
    "    r = np.corrcoef(a, b)[0,1]\n",
    "    denom = var_a + var_b + (mean_a - mean_b)**2\n",
    "    if denom == 0:\n",
    "        return np.nan\n",
    "    ccc = (2 * r * sd_a * sd_b) / denom\n",
    "    return ccc\n",
    "\n",
    "# Read sampled satellite long CSV (station_id, year_month, NO2_sat)\n",
    "sat = pd.read_csv(sampled_csv, dtype=str)\n",
    "# normalize columns; assume sampled file has columns station_id, year_month, NO2_sat\n",
    "if 'year_month' not in sat.columns:\n",
    "    # try to detect likely date column\n",
    "    for cand in ['year_month','ym','date','datetime','month','time']:\n",
    "        if cand in sat.columns:\n",
    "            sat['year_month'] = sat[cand]\n",
    "            break\n",
    "    else:\n",
    "        raise SystemExit(\"Sampled CSV does not include a year_month column. Edit the file or the script.\")\n",
    "if 'NO2_sat' not in sat.columns:\n",
    "    # try likely alternatives\n",
    "    for cand in sat.columns:\n",
    "        if 'no2' in cand.lower():\n",
    "            sat['NO2_sat'] = sat[cand]\n",
    "            break\n",
    "    else:\n",
    "        raise SystemExit(\"Sampled CSV does not include a NO2 column. Edit the file or the script.\")\n",
    "\n",
    "sat['ym'] = sat['year_month'].apply(normalize_ym)\n",
    "sat['NO2_sat'] = pd.to_numeric(sat['NO2_sat'], errors='coerce')\n",
    "\n",
    "# Read ground CSV (monthly aggregated expected)\n",
    "g = pd.read_csv(ground_csv, dtype=str)\n",
    "# detect date col and NO2 col\n",
    "date_col = None\n",
    "for cand in ['year_month','ym','date','datetime','month','time']:\n",
    "    if cand in g.columns:\n",
    "        date_col = cand; break\n",
    "if date_col is None:\n",
    "    raise SystemExit(\"Ground CSV has no recognizable date/month column; please add one.\")\n",
    "# detect NO2 column\n",
    "no2_col = None\n",
    "for cand in g.columns:\n",
    "    if 'no2' in cand.lower():\n",
    "        no2_col = cand; break\n",
    "if no2_col is None:\n",
    "    raise SystemExit(\"Ground CSV has no recognizable NO2 column; please add one.\")\n",
    "\n",
    "g['ym'] = g[date_col].apply(normalize_ym)\n",
    "g[no2_col] = pd.to_numeric(g[no2_col], errors='coerce')\n",
    "\n",
    "# Aggregate satellite to monthly means across points (since you only need monthly means)\n",
    "sat_monthly = sat.dropna(subset=['ym','NO2_sat']).groupby('ym')['NO2_sat'].mean().reset_index().rename(columns={'NO2_sat':'NO2_sat_mean'})\n",
    "\n",
    "# Prepare ground monthly table\n",
    "ground_monthly = g[['ym', no2_col]].dropna(subset=[no2_col]).rename(columns={no2_col:'NO2_ground_mean'})\n",
    "\n",
    "# Merge monthly satellite mean with ground monthly means\n",
    "df_monthly = pd.merge(ground_monthly, sat_monthly, on='ym', how='inner').dropna(subset=['NO2_ground_mean','NO2_sat_mean'])\n",
    "if df_monthly.empty:\n",
    "    raise SystemExit(\"No overlapping months found between satellite and ground monthly data after normalization.\")\n",
    "\n",
    "# Compute overall statistics (on monthly means)\n",
    "sat_vals = df_monthly['NO2_sat_mean'].astype(float).values\n",
    "ground_vals = df_monthly['NO2_ground_mean'].astype(float).values\n",
    "\n",
    "metrics = {}\n",
    "metrics['n_months'] = len(df_monthly)\n",
    "metrics['rmse'] = rmse(sat_vals, ground_vals)\n",
    "metrics['mae'] = mae(sat_vals, ground_vals)\n",
    "metrics['mape_percent'] = mape(sat_vals, ground_vals)\n",
    "metrics['nrmse_mean'] = nrmse_mean(sat_vals, ground_vals)\n",
    "metrics['nrmse_range'] = nrmse_range(sat_vals, ground_vals)\n",
    "metrics['bias_mean'] = np.nanmean(sat_vals - ground_vals)\n",
    "metrics['pearson_r'] = float(np.corrcoef(sat_vals, ground_vals)[0,1]) if len(sat_vals)>1 else np.nan\n",
    "metrics['r_squared'] = metrics['pearson_r']**2 if not np.isnan(metrics['pearson_r']) else np.nan\n",
    "metrics['ccc'] = concordance_ccc(sat_vals, ground_vals)\n",
    "metrics['blanda_mean'], metrics['blanda_sd'], metrics['blanda_loa_low'], metrics['blanda_loa_high'] = bland_altman_stats(sat_vals, ground_vals)\n",
    "\n",
    "# If scipy available, compute p-values and Spearman\n",
    "if SCIPY_AVAILABLE and len(sat_vals) > 1:\n",
    "    try:\n",
    "        pr, pp = stats.pearsonr(sat_vals, ground_vals)\n",
    "        sr, sp = stats.spearmanr(sat_vals, ground_vals)\n",
    "        t_res = stats.ttest_rel(sat_vals, ground_vals)\n",
    "        metrics['pearson_pvalue'] = float(pp)\n",
    "        metrics['spearman_rho'] = float(sr)\n",
    "        metrics['spearman_pvalue'] = float(sp)\n",
    "        metrics['paired_t_stat'] = float(t_res.statistic)\n",
    "        metrics['paired_t_pvalue'] = float(t_res.pvalue)\n",
    "    except Exception:\n",
    "        metrics['pearson_pvalue'] = np.nan\n",
    "        metrics['spearman_rho'] = np.nan\n",
    "        metrics['spearman_pvalue'] = np.nan\n",
    "        metrics['paired_t_stat'] = np.nan\n",
    "        metrics['paired_t_pvalue'] = np.nan\n",
    "else:\n",
    "    metrics['pearson_pvalue'] = np.nan\n",
    "    metrics['spearman_rho'] = np.nan\n",
    "    metrics['spearman_pvalue'] = np.nan\n",
    "    metrics['paired_t_stat'] = np.nan\n",
    "    metrics['paired_t_pvalue'] = np.nan\n",
    "\n",
    "# Save overall metrics to CSV\n",
    "stat_summary_path = os.path.join(out_dir, \"statistical_closeness_summary.csv\")\n",
    "pd.DataFrame([metrics]).to_csv(stat_summary_path, index=False)\n",
    "print(\"Saved statistical closeness summary to:\", stat_summary_path)\n",
    "\n",
    "# Also compute per-month metrics (use monthly pairs)\n",
    "monthly_rows = []\n",
    "for _, row in df_monthly.iterrows():\n",
    "    ym = row['ym']\n",
    "    sa = float(row['NO2_sat_mean'])\n",
    "    gr = float(row['NO2_ground_mean'])\n",
    "    monthly_rows.append({\n",
    "        'ym': ym,\n",
    "        'sat_mean': sa,\n",
    "        'ground_mean': gr,\n",
    "        'diff': sa - gr\n",
    "    })\n",
    "monthly_df = pd.DataFrame(monthly_rows)\n",
    "# compute per-month aggregated metrics across months (already computed), but also create per-month single-row stats:\n",
    "# (For single-month sample the \"rmse\" is not meaningful; instead we include difference and percent difference)\n",
    "monthly_df['abs_diff'] = monthly_df['sat_mean'] - monthly_df['ground_mean']\n",
    "monthly_df['pct_diff'] = np.where(monthly_df['ground_mean']!=0, monthly_df['abs_diff'] / monthly_df['ground_mean'] * 100.0, np.nan)\n",
    "monthly_out = monthly_df[['ym','sat_mean','ground_mean','abs_diff','pct_diff']]\n",
    "monthly_out.to_csv(os.path.join(out_dir, \"monthly_stats_simple.csv\"), index=False)\n",
    "print(\"Saved per-month simple stats to:\", os.path.join(out_dir, \"monthly_stats_simple.csv\"))\n",
    "\n",
    "# Recreate/extend scatter and time-series plots with annotations\n",
    "# Scatter with 1:1 and regression\n",
    "plt.figure(figsize=(6,6))\n",
    "plt.scatter(ground_vals, sat_vals, alpha=0.7, edgecolor='k', linewidth=0.2)\n",
    "lims = [0, max(np.nanmax(ground_vals), np.nanmax(sat_vals)) * 1.05]\n",
    "plt.plot(lims, lims, 'k--', label='1:1')\n",
    "# Regression line\n",
    "if len(sat_vals) > 1 and not np.isnan(metrics['pearson_r']):\n",
    "    slope, intercept = np.polyfit(ground_vals, sat_vals, 1)\n",
    "    x = np.array(lims)\n",
    "    y = slope * x + intercept\n",
    "    plt.plot(x, y, 'r-', label=f'fit: sat={slope:.2f}*ground+{intercept:.2f}')\n",
    "plt.xlabel('Ground NO2 (µg/m³)')\n",
    "plt.ylabel('Satellite NO2 (µg/m³)')\n",
    "plt.title(f\"Sat vs Ground (monthly means) N={len(sat_vals)}\\nRMSE={metrics['rmse']:.2f}, r={metrics['pearson_r']:.2f}\")\n",
    "plt.legend()\n",
    "plt.grid(True, linestyle=':', linewidth=0.5)\n",
    "scatter_png = os.path.join(out_dir, \"scatter_sat_vs_ground_extended.png\")\n",
    "plt.tight_layout()\n",
    "plt.savefig(scatter_png, dpi=200)\n",
    "plt.close()\n",
    "print(\"Saved extended scatter plot to:\", scatter_png)\n",
    "\n",
    "# Time-series plot\n",
    "plt.figure(figsize=(10,4))\n",
    "df_monthly_sorted = df_monthly.copy()\n",
    "df_monthly_sorted['ym_dt'] = pd.to_datetime(df_monthly_sorted['ym'].str.replace('_','-') + '-01')\n",
    "df_monthly_sorted = df_monthly_sorted.sort_values('ym_dt')\n",
    "plt.plot(df_monthly_sorted['ym_dt'], df_monthly_sorted['NO2_sat_mean'], marker='o', label='Satellite mean')\n",
    "plt.plot(df_monthly_sorted['ym_dt'], df_monthly_sorted['NO2_ground_mean'], marker='o', label='Ground mean')\n",
    "plt.fill_between(df_monthly_sorted['ym_dt'],\n",
    "                 df_monthly_sorted['NO2_sat_mean'] - 1.96*np.std(df_monthly_sorted['NO2_sat_mean']),\n",
    "                 df_monthly_sorted['NO2_sat_mean'] + 1.96*np.std(df_monthly_sorted['NO2_sat_mean']),\n",
    "                 color='gray', alpha=0.15)\n",
    "plt.xlabel('Month')\n",
    "plt.ylabel('NO2 (µg/m³)')\n",
    "plt.title('Monthly NO2: Satellite vs Ground (means)')\n",
    "plt.legend()\n",
    "plt.grid(True, linestyle=':', linewidth=0.5)\n",
    "plt.xticks(rotation=45)\n",
    "ts_png = os.path.join(out_dir, \"monthly_timeseries_extended.png\")\n",
    "plt.tight_layout()\n",
    "plt.savefig(ts_png, dpi=200)\n",
    "plt.close()\n",
    "print(\"Saved extended monthly time series plot to:\", ts_png)"
   ]
  },
  {
   "cell_type": "code",
   "execution_count": 2,
   "metadata": {},
   "outputs": [
    {
     "name": "stderr",
     "output_type": "stream",
     "text": [
      "C:\\Users\\Shahriar Rahman\\AppData\\Local\\Programs\\ArcGIS\\Pro\\bin\\Python\\envs\\arcgispro-py3\\Lib\\site-packages\\IPython\\core\\interactiveshell.py:3587: UserWarning: To exit: use 'exit', 'quit', or Ctrl-D.\n",
      "  warn(\"To exit: use 'exit', 'quit', or Ctrl-D.\", stacklevel=1)\n"
     ]
    },
    {
     "ename": "<class 'SystemExit'>",
     "evalue": "scikit-learn is required for CV. Install with: conda install -c conda-forge scikit-learn  OR pip install scikit-learn",
     "output_type": "error",
     "traceback": [
      "An exception has occurred, use %tb to see the full traceback.\n",
      "\u001b[1;31mSystemExit\u001b[0m\u001b[1;31m:\u001b[0m scikit-learn is required for CV. Install with: conda install -c conda-forge scikit-learn  OR pip install scikit-learn\n"
     ]
    }
   ],
   "source": []
  },
  {
   "cell_type": "code",
   "execution_count": null,
   "metadata": {},
   "outputs": [],
   "source": []
  }
 ],
 "metadata": {
  "kernelspec": {
   "display_name": "ArcGISPro",
   "language": "python",
   "name": "python3"
  },
  "language_info": {
   "file_extension": ".py",
   "mimetype": "text/x-python",
   "name": "python",
   "version": "3.11.10"
  }
 },
 "nbformat": 4,
 "nbformat_minor": 4
}
