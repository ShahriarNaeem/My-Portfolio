{
 "cells": [
  {
   "cell_type": "markdown",
   "id": "388a730b-f653-49d9-b006-b6afa2020ef3",
   "metadata": {},
   "source": [
    "# Created by Shahriar Rahman Naeem Patwary"
   ]
  },
  {
   "cell_type": "markdown",
   "id": "8b223326-8043-4f81-8dfb-0f465f1831e5",
   "metadata": {},
   "source": [
    "# Import Language and moduels"
   ]
  },
  {
   "cell_type": "code",
   "execution_count": 3,
   "id": "e7d21ab0-0c7a-4ac4-8f51-0033e1f6f563",
   "metadata": {},
   "outputs": [],
   "source": [
    "import pandas as pd\n",
    "import numpy as np\n",
    "import seaborn as sns\n",
    "import matplotlib.pyplot as plt\n",
    "import scipy.stats as stats\n",
    "from sklearn.model_selection import GridSearchCV\n",
    "from sklearn.ensemble import RandomForestRegressor\n",
    "import joblib\n",
    "from flask import Flask, request, jsonify"
   ]
  },
  {
   "cell_type": "markdown",
   "id": "bd5637dd-44b1-427f-9edc-19fca18a519e",
   "metadata": {},
   "source": [
    "# Sample Traffic Data"
   ]
  },
  {
   "cell_type": "code",
   "execution_count": 11,
   "id": "243338dd-d73b-459b-880c-3cc7cc859c2b",
   "metadata": {},
   "outputs": [
    {
     "data": {
      "text/html": [
       "<div>\n",
       "<style scoped>\n",
       "    .dataframe tbody tr th:only-of-type {\n",
       "        vertical-align: middle;\n",
       "    }\n",
       "\n",
       "    .dataframe tbody tr th {\n",
       "        vertical-align: top;\n",
       "    }\n",
       "\n",
       "    .dataframe thead th {\n",
       "        text-align: right;\n",
       "    }\n",
       "</style>\n",
       "<table border=\"1\" class=\"dataframe\">\n",
       "  <thead>\n",
       "    <tr style=\"text-align: right;\">\n",
       "      <th></th>\n",
       "      <th>date_time</th>\n",
       "      <th>traffic_volume</th>\n",
       "      <th>temp</th>\n",
       "      <th>rain_1h</th>\n",
       "      <th>dayofweek</th>\n",
       "      <th>holiday</th>\n",
       "    </tr>\n",
       "  </thead>\n",
       "  <tbody>\n",
       "    <tr>\n",
       "      <th>0</th>\n",
       "      <td>2025-10-10 01:00:00</td>\n",
       "      <td>5437</td>\n",
       "      <td>20</td>\n",
       "      <td>0</td>\n",
       "      <td>4</td>\n",
       "      <td>0</td>\n",
       "    </tr>\n",
       "    <tr>\n",
       "      <th>1</th>\n",
       "      <td>2025-10-10 02:00:00</td>\n",
       "      <td>4520</td>\n",
       "      <td>26</td>\n",
       "      <td>0</td>\n",
       "      <td>4</td>\n",
       "      <td>1</td>\n",
       "    </tr>\n",
       "    <tr>\n",
       "      <th>2</th>\n",
       "      <td>2025-10-10 03:00:00</td>\n",
       "      <td>4916</td>\n",
       "      <td>25</td>\n",
       "      <td>2</td>\n",
       "      <td>4</td>\n",
       "      <td>0</td>\n",
       "    </tr>\n",
       "    <tr>\n",
       "      <th>3</th>\n",
       "      <td>2025-10-10 04:00:00</td>\n",
       "      <td>5781</td>\n",
       "      <td>20</td>\n",
       "      <td>0</td>\n",
       "      <td>4</td>\n",
       "      <td>0</td>\n",
       "    </tr>\n",
       "    <tr>\n",
       "      <th>4</th>\n",
       "      <td>2025-10-10 05:00:00</td>\n",
       "      <td>5434</td>\n",
       "      <td>32</td>\n",
       "      <td>1</td>\n",
       "      <td>4</td>\n",
       "      <td>0</td>\n",
       "    </tr>\n",
       "  </tbody>\n",
       "</table>\n",
       "</div>"
      ],
      "text/plain": [
       "            date_time  traffic_volume  temp  rain_1h  dayofweek  holiday\n",
       "0 2025-10-10 01:00:00            5437    20        0          4        0\n",
       "1 2025-10-10 02:00:00            4520    26        0          4        1\n",
       "2 2025-10-10 03:00:00            4916    25        2          4        0\n",
       "3 2025-10-10 04:00:00            5781    20        0          4        0\n",
       "4 2025-10-10 05:00:00            5434    32        1          4        0"
      ]
     },
     "execution_count": 11,
     "metadata": {},
     "output_type": "execute_result"
    }
   ],
   "source": [
    "data = {\n",
    "    'date_time' : pd.date_range('2025-10-10 01:00', periods=100, freq='h'),\n",
    "    'traffic_volume' : np.random.randint(4000,6000,100),\n",
    "    'temp' : np.random.randint(20,35,100),\n",
    "    'rain_1h' : np.random.randint(0,3,100),\n",
    "    'dayofweek' : pd.date_range('2025-10-10 01:00', periods=100, freq='h').weekday,\n",
    "    'holiday' : np.random.randint(0,2,100)\n",
    "}\n",
    "\n",
    "df = pd.DataFrame(data)\n",
    "df.head()"
   ]
  },
  {
   "cell_type": "markdown",
   "id": "0ddaf687-88a3-4ad4-ac0c-76039de192eb",
   "metadata": {},
   "source": [
    "# Sorting, Lag feature and Rolling mean"
   ]
  },
  {
   "cell_type": "code",
   "execution_count": 12,
   "id": "a4c131c5-a966-41fd-ad94-9801181d7e06",
   "metadata": {},
   "outputs": [
    {
     "data": {
      "text/html": [
       "<div>\n",
       "<style scoped>\n",
       "    .dataframe tbody tr th:only-of-type {\n",
       "        vertical-align: middle;\n",
       "    }\n",
       "\n",
       "    .dataframe tbody tr th {\n",
       "        vertical-align: top;\n",
       "    }\n",
       "\n",
       "    .dataframe thead th {\n",
       "        text-align: right;\n",
       "    }\n",
       "</style>\n",
       "<table border=\"1\" class=\"dataframe\">\n",
       "  <thead>\n",
       "    <tr style=\"text-align: right;\">\n",
       "      <th></th>\n",
       "      <th>date_time</th>\n",
       "      <th>traffic_volume</th>\n",
       "      <th>temp</th>\n",
       "      <th>rain_1h</th>\n",
       "      <th>dayofweek</th>\n",
       "      <th>holiday</th>\n",
       "      <th>lag_1</th>\n",
       "      <th>lag_2</th>\n",
       "      <th>lag_24</th>\n",
       "      <th>rolling_mean</th>\n",
       "    </tr>\n",
       "  </thead>\n",
       "  <tbody>\n",
       "    <tr>\n",
       "      <th>24</th>\n",
       "      <td>2025-10-11 01:00:00</td>\n",
       "      <td>4736</td>\n",
       "      <td>21</td>\n",
       "      <td>1</td>\n",
       "      <td>5</td>\n",
       "      <td>1</td>\n",
       "      <td>5246.0</td>\n",
       "      <td>5668.0</td>\n",
       "      <td>5437.0</td>\n",
       "      <td>4830.625000</td>\n",
       "    </tr>\n",
       "    <tr>\n",
       "      <th>25</th>\n",
       "      <td>2025-10-11 02:00:00</td>\n",
       "      <td>4096</td>\n",
       "      <td>33</td>\n",
       "      <td>1</td>\n",
       "      <td>5</td>\n",
       "      <td>0</td>\n",
       "      <td>4736.0</td>\n",
       "      <td>5246.0</td>\n",
       "      <td>4520.0</td>\n",
       "      <td>4812.958333</td>\n",
       "    </tr>\n",
       "    <tr>\n",
       "      <th>26</th>\n",
       "      <td>2025-10-11 03:00:00</td>\n",
       "      <td>4744</td>\n",
       "      <td>33</td>\n",
       "      <td>0</td>\n",
       "      <td>5</td>\n",
       "      <td>1</td>\n",
       "      <td>4096.0</td>\n",
       "      <td>4736.0</td>\n",
       "      <td>4916.0</td>\n",
       "      <td>4805.791667</td>\n",
       "    </tr>\n",
       "    <tr>\n",
       "      <th>27</th>\n",
       "      <td>2025-10-11 04:00:00</td>\n",
       "      <td>4556</td>\n",
       "      <td>28</td>\n",
       "      <td>0</td>\n",
       "      <td>5</td>\n",
       "      <td>0</td>\n",
       "      <td>4744.0</td>\n",
       "      <td>4096.0</td>\n",
       "      <td>5781.0</td>\n",
       "      <td>4754.750000</td>\n",
       "    </tr>\n",
       "    <tr>\n",
       "      <th>28</th>\n",
       "      <td>2025-10-11 05:00:00</td>\n",
       "      <td>4689</td>\n",
       "      <td>33</td>\n",
       "      <td>0</td>\n",
       "      <td>5</td>\n",
       "      <td>0</td>\n",
       "      <td>4556.0</td>\n",
       "      <td>4744.0</td>\n",
       "      <td>5434.0</td>\n",
       "      <td>4723.708333</td>\n",
       "    </tr>\n",
       "  </tbody>\n",
       "</table>\n",
       "</div>"
      ],
      "text/plain": [
       "             date_time  traffic_volume  temp  rain_1h  dayofweek  holiday  \\\n",
       "24 2025-10-11 01:00:00            4736    21        1          5        1   \n",
       "25 2025-10-11 02:00:00            4096    33        1          5        0   \n",
       "26 2025-10-11 03:00:00            4744    33        0          5        1   \n",
       "27 2025-10-11 04:00:00            4556    28        0          5        0   \n",
       "28 2025-10-11 05:00:00            4689    33        0          5        0   \n",
       "\n",
       "     lag_1   lag_2  lag_24  rolling_mean  \n",
       "24  5246.0  5668.0  5437.0   4830.625000  \n",
       "25  4736.0  5246.0  4520.0   4812.958333  \n",
       "26  4096.0  4736.0  4916.0   4805.791667  \n",
       "27  4744.0  4096.0  5781.0   4754.750000  \n",
       "28  4556.0  4744.0  5434.0   4723.708333  "
      ]
     },
     "execution_count": 12,
     "metadata": {},
     "output_type": "execute_result"
    }
   ],
   "source": [
    "df = df.sort_values('date_time')\n",
    "\n",
    "df['lag_1'] = df['traffic_volume'].shift(1)\n",
    "df['lag_2'] = df['traffic_volume'].shift(2)\n",
    "df['lag_24'] = df['traffic_volume'].shift(24)\n",
    "\n",
    "df['rolling_mean'] = df['traffic_volume'].rolling(window=3).mean()\n",
    "df['rolling_mean'] = df['traffic_volume'].rolling(window=24).mean()\n",
    "\n",
    "df = df.dropna()\n",
    "df.head()"
   ]
  },
  {
   "cell_type": "markdown",
   "id": "8e66a9da-518e-4112-aae9-93dc7de00c7b",
   "metadata": {},
   "source": [
    "# Correlation"
   ]
  },
  {
   "cell_type": "code",
   "execution_count": 18,
   "id": "8645456c-4271-4b52-b1f8-757cca836197",
   "metadata": {},
   "outputs": [
    {
     "data": {
      "image/png": "[encoded data removed]",
      "text/plain": [
       "<Figure size 1000x600 with 2 Axes>"
      ]
     },
     "metadata": {},
     "output_type": "display_data"
    }
   ],
   "source": [
    "corr = df.corr()\n",
    "\n",
    "plt.figure(figsize=(10,6))\n",
    "sns.heatmap(corr[['traffic_volume']].sort_values(by='traffic_volume', ascending=False), annot=True, cmap='coolwarm')\n",
    "plt.title('Correlation with Traffic Volume')\n",
    "plt.show()"
   ]
  },
  {
   "cell_type": "markdown",
   "id": "503d7251-6eec-4390-9ecf-8976e1820e09",
   "metadata": {},
   "source": [
    "# Significance Testing (ANOVA)"
   ]
  },
  {
   "cell_type": "code",
   "execution_count": 22,
   "id": "f30258c7-7e01-4b7f-a98a-2a63fbb1b854",
   "metadata": {},
   "outputs": [
    {
     "name": "stdout",
     "output_type": "stream",
     "text": [
      "ANOVA - Holiday effect: F_onewayResult(statistic=np.float64(0.09167896641278593), pvalue=np.float64(0.7629029653473131))\n"
     ]
    }
   ],
   "source": [
    "anova_holiday = stats.f_oneway(\n",
    "    df[df['holiday']==0]['traffic_volume'],\n",
    "    df[df['holiday']==1]['traffic_volume']\n",
    ")\n",
    "print(\"ANOVA - Holiday effect:\", anova_holiday)"
   ]
  },
  {
   "cell_type": "markdown",
   "id": "38b1fc95-1b59-4e54-9b9a-4dda10af3c8c",
   "metadata": {},
   "source": [
    "# Model Training & Hyperparameter Tuning"
   ]
  },
  {
   "cell_type": "code",
   "execution_count": 26,
   "id": "71696e7b-4b55-48eb-afbf-5602b5205ca4",
   "metadata": {},
   "outputs": [
    {
     "name": "stdout",
     "output_type": "stream",
     "text": [
      "Best parameters: {'max_depth': 5, 'min_samples_split': 5, 'n_estimators': 100}\n",
      "Best RMSE: 604.0874280573518\n"
     ]
    }
   ],
   "source": [
    "X = df.drop(['traffic_volume','date_time'], axis=1)\n",
    "y = df['traffic_volume']\n",
    "\n",
    "param_grid = {\n",
    "    'n_estimators': [50,100],\n",
    "    'max_depth': [5,10,None],\n",
    "    'min_samples_split': [2,5]\n",
    "}\n",
    "\n",
    "rf = RandomForestRegressor(random_state=42)\n",
    "grid = GridSearchCV(rf, param_grid, cv=3, scoring='neg_mean_squared_error', n_jobs=-1)\n",
    "grid.fit(X, y)\n",
    "\n",
    "print(\"Best parameters:\", grid.best_params_)\n",
    "print(\"Best RMSE:\", (-grid.best_score_)**0.5)"
   ]
  },
  {
   "cell_type": "markdown",
   "id": "c4d56ddc-d19c-484c-9a53-81e9a6bac6d7",
   "metadata": {},
   "source": [
    "# Adding External Data"
   ]
  },
  {
   "cell_type": "code",
   "execution_count": 32,
   "id": "89525990-09bd-484a-8550-60c87d3f6ec9",
   "metadata": {},
   "outputs": [
    {
     "data": {
      "text/html": [
       "<div>\n",
       "<style scoped>\n",
       "    .dataframe tbody tr th:only-of-type {\n",
       "        vertical-align: middle;\n",
       "    }\n",
       "\n",
       "    .dataframe tbody tr th {\n",
       "        vertical-align: top;\n",
       "    }\n",
       "\n",
       "    .dataframe thead th {\n",
       "        text-align: right;\n",
       "    }\n",
       "</style>\n",
       "<table border=\"1\" class=\"dataframe\">\n",
       "  <thead>\n",
       "    <tr style=\"text-align: right;\">\n",
       "      <th></th>\n",
       "      <th>date_time</th>\n",
       "      <th>traffic_volume</th>\n",
       "      <th>temp</th>\n",
       "      <th>rain_1h</th>\n",
       "      <th>dayofweek</th>\n",
       "      <th>holiday</th>\n",
       "      <th>lag_1</th>\n",
       "      <th>lag_2</th>\n",
       "      <th>lag_24</th>\n",
       "      <th>rolling_mean</th>\n",
       "      <th>accident_intensity</th>\n",
       "    </tr>\n",
       "  </thead>\n",
       "  <tbody>\n",
       "    <tr>\n",
       "      <th>0</th>\n",
       "      <td>2025-10-11 01:00:00</td>\n",
       "      <td>4736</td>\n",
       "      <td>21</td>\n",
       "      <td>1</td>\n",
       "      <td>5</td>\n",
       "      <td>1</td>\n",
       "      <td>5246.0</td>\n",
       "      <td>5668.0</td>\n",
       "      <td>5437.0</td>\n",
       "      <td>4830.625000</td>\n",
       "      <td>0</td>\n",
       "    </tr>\n",
       "    <tr>\n",
       "      <th>1</th>\n",
       "      <td>2025-10-11 02:00:00</td>\n",
       "      <td>4096</td>\n",
       "      <td>33</td>\n",
       "      <td>1</td>\n",
       "      <td>5</td>\n",
       "      <td>0</td>\n",
       "      <td>4736.0</td>\n",
       "      <td>5246.0</td>\n",
       "      <td>4520.0</td>\n",
       "      <td>4812.958333</td>\n",
       "      <td>1</td>\n",
       "    </tr>\n",
       "    <tr>\n",
       "      <th>2</th>\n",
       "      <td>2025-10-11 03:00:00</td>\n",
       "      <td>4744</td>\n",
       "      <td>33</td>\n",
       "      <td>0</td>\n",
       "      <td>5</td>\n",
       "      <td>1</td>\n",
       "      <td>4096.0</td>\n",
       "      <td>4736.0</td>\n",
       "      <td>4916.0</td>\n",
       "      <td>4805.791667</td>\n",
       "      <td>2</td>\n",
       "    </tr>\n",
       "    <tr>\n",
       "      <th>3</th>\n",
       "      <td>2025-10-11 04:00:00</td>\n",
       "      <td>4556</td>\n",
       "      <td>28</td>\n",
       "      <td>0</td>\n",
       "      <td>5</td>\n",
       "      <td>0</td>\n",
       "      <td>4744.0</td>\n",
       "      <td>4096.0</td>\n",
       "      <td>5781.0</td>\n",
       "      <td>4754.750000</td>\n",
       "      <td>1</td>\n",
       "    </tr>\n",
       "    <tr>\n",
       "      <th>4</th>\n",
       "      <td>2025-10-11 05:00:00</td>\n",
       "      <td>4689</td>\n",
       "      <td>33</td>\n",
       "      <td>0</td>\n",
       "      <td>5</td>\n",
       "      <td>0</td>\n",
       "      <td>4556.0</td>\n",
       "      <td>4744.0</td>\n",
       "      <td>5434.0</td>\n",
       "      <td>4723.708333</td>\n",
       "      <td>1</td>\n",
       "    </tr>\n",
       "  </tbody>\n",
       "</table>\n",
       "</div>"
      ],
      "text/plain": [
       "            date_time  traffic_volume  temp  rain_1h  dayofweek  holiday  \\\n",
       "0 2025-10-11 01:00:00            4736    21        1          5        1   \n",
       "1 2025-10-11 02:00:00            4096    33        1          5        0   \n",
       "2 2025-10-11 03:00:00            4744    33        0          5        1   \n",
       "3 2025-10-11 04:00:00            4556    28        0          5        0   \n",
       "4 2025-10-11 05:00:00            4689    33        0          5        0   \n",
       "\n",
       "    lag_1   lag_2  lag_24  rolling_mean  accident_intensity  \n",
       "0  5246.0  5668.0  5437.0   4830.625000                   0  \n",
       "1  4736.0  5246.0  4520.0   4812.958333                   1  \n",
       "2  4096.0  4736.0  4916.0   4805.791667                   2  \n",
       "3  4744.0  4096.0  5781.0   4754.750000                   1  \n",
       "4  4556.0  4744.0  5434.0   4723.708333                   1  "
      ]
     },
     "execution_count": 32,
     "metadata": {},
     "output_type": "execute_result"
    }
   ],
   "source": [
    "acc_data = pd.DataFrame({\n",
    "    'date_time': df['date_time'],\n",
    "    'accident_intensity': np.random.randint(0,3,len(df))\n",
    "})\n",
    "\n",
    "df = df.merge(acc_data, on='date_time', how='left')\n",
    "df['accident_intensity'] = df['accident_intensity'].fillna(0)\n",
    "df.head()"
   ]
  },
  {
   "cell_type": "markdown",
   "id": "0a4e0a82-14aa-4c59-be2a-04b7f2ad0189",
   "metadata": {},
   "source": [
    "# Deployment (Joblib + Flask API)"
   ]
  },
  {
   "cell_type": "code",
   "execution_count": 33,
   "id": "10f49ff4-8955-4237-9887-f85fb6c8ada3",
   "metadata": {},
   "outputs": [],
   "source": [
    "# Save model\n",
    "joblib.dump(grid.best_estimator_, 'traffic_model.pkl')\n",
    "\n",
    "# Minimal Flask API\n",
    "app = Flask(__name__)\n",
    "model = joblib.load('traffic_model.pkl')\n",
    "\n",
    "@app.route('/predict', methods=['POST'])\n",
    "def predict():\n",
    "    data = request.json['features']  # e.g. [temp, rain_1h, lag_1, lag_2, rolling_mean_3, accident_intensity]\n",
    "    prediction = model.predict([data])[0]\n",
    "    return jsonify({'prediction': prediction})\n",
    "\n",
    "# Uncomment the next line to run the API\n",
    "# app.run(debug=True)\n"
   ]
  },
  {
   "cell_type": "code",
   "execution_count": null,
   "id": "12f68b9f-14aa-4a11-93e7-734036d496de",
   "metadata": {},
   "outputs": [],
   "source": []
  }
 ],
 "metadata": {
  "kernelspec": {
   "display_name": "Python 3 (ipykernel)",
   "language": "python",
   "name": "python3"
  },
  "language_info": {
   "codemirror_mode": {
    "name": "ipython",
    "version": 3
   },
   "file_extension": ".py",
   "mimetype": "text/x-python",
   "name": "python",
   "nbconvert_exporter": "python",
   "pygments_lexer": "ipython3",
   "version": "3.13.5"
  }
 },
 "nbformat": 4,
 "nbformat_minor": 5
}
